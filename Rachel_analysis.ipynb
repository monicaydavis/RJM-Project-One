{
 "cells": [
  {
   "cell_type": "code",
   "execution_count": 2,
   "id": "e19ca6d2-96aa-449b-b505-34f6c0bf1a7c",
   "metadata": {
    "tags": []
   },
   "outputs": [
    {
     "name": "stdout",
     "output_type": "stream",
     "text": [
      "Collecting yfinance\n",
      "  Using cached yfinance-0.2.22-py2.py3-none-any.whl (63 kB)\n",
      "Requirement already satisfied: pandas>=1.3.0 in c:\\users\\rache\\anaconda3\\envs\\dev\\lib\\site-packages (from yfinance) (1.5.3)\n",
      "Requirement already satisfied: numpy>=1.16.5 in c:\\users\\rache\\anaconda3\\envs\\dev\\lib\\site-packages (from yfinance) (1.24.3)\n",
      "Requirement already satisfied: requests>=2.26 in c:\\users\\rache\\anaconda3\\envs\\dev\\lib\\site-packages (from yfinance) (2.29.0)\n",
      "Collecting multitasking>=0.0.7 (from yfinance)\n",
      "  Using cached multitasking-0.0.11-py3-none-any.whl (8.5 kB)\n",
      "Requirement already satisfied: lxml>=4.9.1 in c:\\users\\rache\\anaconda3\\envs\\dev\\lib\\site-packages (from yfinance) (4.9.2)\n",
      "Requirement already satisfied: appdirs>=1.4.4 in c:\\users\\rache\\anaconda3\\envs\\dev\\lib\\site-packages (from yfinance) (1.4.4)\n",
      "Requirement already satisfied: pytz>=2022.5 in c:\\users\\rache\\anaconda3\\envs\\dev\\lib\\site-packages (from yfinance) (2022.7)\n",
      "Collecting frozendict>=2.3.4 (from yfinance)\n",
      "  Using cached frozendict-2.3.8-cp310-cp310-win_amd64.whl (35 kB)\n",
      "Requirement already satisfied: beautifulsoup4>=4.11.1 in c:\\users\\rache\\anaconda3\\envs\\dev\\lib\\site-packages (from yfinance) (4.12.2)\n",
      "Collecting html5lib>=1.1 (from yfinance)\n",
      "  Using cached html5lib-1.1-py2.py3-none-any.whl (112 kB)\n",
      "Requirement already satisfied: soupsieve>1.2 in c:\\users\\rache\\anaconda3\\envs\\dev\\lib\\site-packages (from beautifulsoup4>=4.11.1->yfinance) (2.4)\n",
      "Requirement already satisfied: six>=1.9 in c:\\users\\rache\\anaconda3\\envs\\dev\\lib\\site-packages (from html5lib>=1.1->yfinance) (1.16.0)\n",
      "Requirement already satisfied: webencodings in c:\\users\\rache\\anaconda3\\envs\\dev\\lib\\site-packages (from html5lib>=1.1->yfinance) (0.5.1)\n",
      "Requirement already satisfied: python-dateutil>=2.8.1 in c:\\users\\rache\\anaconda3\\envs\\dev\\lib\\site-packages (from pandas>=1.3.0->yfinance) (2.8.2)\n",
      "Requirement already satisfied: charset-normalizer<4,>=2 in c:\\users\\rache\\anaconda3\\envs\\dev\\lib\\site-packages (from requests>=2.26->yfinance) (2.0.4)\n",
      "Requirement already satisfied: idna<4,>=2.5 in c:\\users\\rache\\anaconda3\\envs\\dev\\lib\\site-packages (from requests>=2.26->yfinance) (3.4)\n",
      "Requirement already satisfied: urllib3<1.27,>=1.21.1 in c:\\users\\rache\\anaconda3\\envs\\dev\\lib\\site-packages (from requests>=2.26->yfinance) (1.26.16)\n",
      "Requirement already satisfied: certifi>=2017.4.17 in c:\\users\\rache\\anaconda3\\envs\\dev\\lib\\site-packages (from requests>=2.26->yfinance) (2023.5.7)\n",
      "Installing collected packages: multitasking, html5lib, frozendict, yfinance\n",
      "Successfully installed frozendict-2.3.8 html5lib-1.1 multitasking-0.0.11 yfinance-0.2.22\n"
     ]
    }
   ],
   "source": [
    "# Install yfinance library\n",
    "!pip install yfinance\n"
   ]
  },
  {
   "cell_type": "markdown",
   "id": "6ff8c3ea-8432-4414-8d75-3d59adbbe547",
   "metadata": {},
   "source": [
    "# LIBRARIES #"
   ]
  },
  {
   "cell_type": "code",
   "execution_count": 101,
   "id": "cd886410-6d65-4119-b605-0c0ed33d7deb",
   "metadata": {
    "tags": []
   },
   "outputs": [],
   "source": [
    "# import relevant libraries\n",
    "import yfinance as yf\n",
    "import pandas as pd\n",
    "import hvplot.pandas\n",
    "import numpy as np\n",
    "import seaborn as sns\n",
    "%matplotlib inline"
   ]
  },
  {
   "cell_type": "markdown",
   "id": "d1ca5fd4-c602-4abd-9ddb-d3b62d9e6e9b",
   "metadata": {},
   "source": [
    "# DATA SET RETRIEVAL #"
   ]
  },
  {
   "cell_type": "code",
   "execution_count": 102,
   "id": "87bc7ac0-6afd-4618-8826-02f213c30e9e",
   "metadata": {
    "tags": []
   },
   "outputs": [
    {
     "name": "stdout",
     "output_type": "stream",
     "text": [
      "[*********************100%***********************]  8 of 8 completed\n"
     ]
    },
    {
     "data": {
      "text/html": [
       "<div>\n",
       "<style scoped>\n",
       "    .dataframe tbody tr th:only-of-type {\n",
       "        vertical-align: middle;\n",
       "    }\n",
       "\n",
       "    .dataframe tbody tr th {\n",
       "        vertical-align: top;\n",
       "    }\n",
       "\n",
       "    .dataframe thead tr th {\n",
       "        text-align: left;\n",
       "    }\n",
       "\n",
       "    .dataframe thead tr:last-of-type th {\n",
       "        text-align: right;\n",
       "    }\n",
       "</style>\n",
       "<table border=\"1\" class=\"dataframe\">\n",
       "  <thead>\n",
       "    <tr>\n",
       "      <th></th>\n",
       "      <th colspan=\"8\" halign=\"left\">Close</th>\n",
       "    </tr>\n",
       "    <tr>\n",
       "      <th></th>\n",
       "      <th>BTC-USD</th>\n",
       "      <th>DLR</th>\n",
       "      <th>ETH-USD</th>\n",
       "      <th>GOLD</th>\n",
       "      <th>MRNA</th>\n",
       "      <th>NKE</th>\n",
       "      <th>OSTK</th>\n",
       "      <th>XOM</th>\n",
       "    </tr>\n",
       "    <tr>\n",
       "      <th>Date</th>\n",
       "      <th></th>\n",
       "      <th></th>\n",
       "      <th></th>\n",
       "      <th></th>\n",
       "      <th></th>\n",
       "      <th></th>\n",
       "      <th></th>\n",
       "      <th></th>\n",
       "    </tr>\n",
       "  </thead>\n",
       "  <tbody>\n",
       "    <tr>\n",
       "      <th>2018-12-07</th>\n",
       "      <td>3419.937256</td>\n",
       "      <td>115.720001</td>\n",
       "      <td>93.294563</td>\n",
       "      <td>13.680000</td>\n",
       "      <td>18.600000</td>\n",
       "      <td>73.339996</td>\n",
       "      <td>17.370001</td>\n",
       "      <td>77.639999</td>\n",
       "    </tr>\n",
       "    <tr>\n",
       "      <th>2018-12-10</th>\n",
       "      <td>3502.656006</td>\n",
       "      <td>116.349998</td>\n",
       "      <td>91.685654</td>\n",
       "      <td>13.840000</td>\n",
       "      <td>18.799999</td>\n",
       "      <td>72.510002</td>\n",
       "      <td>18.860001</td>\n",
       "      <td>76.540001</td>\n",
       "    </tr>\n",
       "    <tr>\n",
       "      <th>2018-12-11</th>\n",
       "      <td>3424.588135</td>\n",
       "      <td>116.790001</td>\n",
       "      <td>88.945305</td>\n",
       "      <td>13.600000</td>\n",
       "      <td>18.010000</td>\n",
       "      <td>73.570000</td>\n",
       "      <td>18.790001</td>\n",
       "      <td>76.680000</td>\n",
       "    </tr>\n",
       "    <tr>\n",
       "      <th>2018-12-12</th>\n",
       "      <td>3486.950195</td>\n",
       "      <td>115.599998</td>\n",
       "      <td>90.593300</td>\n",
       "      <td>14.020000</td>\n",
       "      <td>18.680000</td>\n",
       "      <td>74.320000</td>\n",
       "      <td>19.100000</td>\n",
       "      <td>76.019997</td>\n",
       "    </tr>\n",
       "    <tr>\n",
       "      <th>2018-12-13</th>\n",
       "      <td>3313.677246</td>\n",
       "      <td>115.360001</td>\n",
       "      <td>86.539314</td>\n",
       "      <td>14.110000</td>\n",
       "      <td>18.760000</td>\n",
       "      <td>72.930000</td>\n",
       "      <td>17.980000</td>\n",
       "      <td>76.980003</td>\n",
       "    </tr>\n",
       "    <tr>\n",
       "      <th>...</th>\n",
       "      <td>...</td>\n",
       "      <td>...</td>\n",
       "      <td>...</td>\n",
       "      <td>...</td>\n",
       "      <td>...</td>\n",
       "      <td>...</td>\n",
       "      <td>...</td>\n",
       "      <td>...</td>\n",
       "    </tr>\n",
       "    <tr>\n",
       "      <th>2023-07-11</th>\n",
       "      <td>30620.951172</td>\n",
       "      <td>116.419998</td>\n",
       "      <td>1878.336060</td>\n",
       "      <td>16.709999</td>\n",
       "      <td>122.129997</td>\n",
       "      <td>107.389999</td>\n",
       "      <td>30.719999</td>\n",
       "      <td>105.970001</td>\n",
       "    </tr>\n",
       "    <tr>\n",
       "      <th>2023-07-12</th>\n",
       "      <td>30391.646484</td>\n",
       "      <td>117.750000</td>\n",
       "      <td>1872.113770</td>\n",
       "      <td>17.480000</td>\n",
       "      <td>125.919998</td>\n",
       "      <td>107.760002</td>\n",
       "      <td>30.780001</td>\n",
       "      <td>106.489998</td>\n",
       "    </tr>\n",
       "    <tr>\n",
       "      <th>2023-07-13</th>\n",
       "      <td>31476.048828</td>\n",
       "      <td>118.290001</td>\n",
       "      <td>2006.511475</td>\n",
       "      <td>17.600000</td>\n",
       "      <td>126.610001</td>\n",
       "      <td>107.839996</td>\n",
       "      <td>31.809999</td>\n",
       "      <td>104.540001</td>\n",
       "    </tr>\n",
       "    <tr>\n",
       "      <th>2023-07-14</th>\n",
       "      <td>30334.068359</td>\n",
       "      <td>118.279999</td>\n",
       "      <td>1939.347046</td>\n",
       "      <td>17.350000</td>\n",
       "      <td>121.349998</td>\n",
       "      <td>107.949997</td>\n",
       "      <td>31.280001</td>\n",
       "      <td>100.940002</td>\n",
       "    </tr>\n",
       "    <tr>\n",
       "      <th>2023-07-17</th>\n",
       "      <td>30241.246094</td>\n",
       "      <td>117.810097</td>\n",
       "      <td>1913.213745</td>\n",
       "      <td>17.230000</td>\n",
       "      <td>120.800003</td>\n",
       "      <td>107.260002</td>\n",
       "      <td>31.340000</td>\n",
       "      <td>100.750000</td>\n",
       "    </tr>\n",
       "  </tbody>\n",
       "</table>\n",
       "<p>1158 rows × 8 columns</p>\n",
       "</div>"
      ],
      "text/plain": [
       "                   Close                                                  \\\n",
       "                 BTC-USD         DLR      ETH-USD       GOLD        MRNA   \n",
       "Date                                                                       \n",
       "2018-12-07   3419.937256  115.720001    93.294563  13.680000   18.600000   \n",
       "2018-12-10   3502.656006  116.349998    91.685654  13.840000   18.799999   \n",
       "2018-12-11   3424.588135  116.790001    88.945305  13.600000   18.010000   \n",
       "2018-12-12   3486.950195  115.599998    90.593300  14.020000   18.680000   \n",
       "2018-12-13   3313.677246  115.360001    86.539314  14.110000   18.760000   \n",
       "...                  ...         ...          ...        ...         ...   \n",
       "2023-07-11  30620.951172  116.419998  1878.336060  16.709999  122.129997   \n",
       "2023-07-12  30391.646484  117.750000  1872.113770  17.480000  125.919998   \n",
       "2023-07-13  31476.048828  118.290001  2006.511475  17.600000  126.610001   \n",
       "2023-07-14  30334.068359  118.279999  1939.347046  17.350000  121.349998   \n",
       "2023-07-17  30241.246094  117.810097  1913.213745  17.230000  120.800003   \n",
       "\n",
       "                                               \n",
       "                   NKE       OSTK         XOM  \n",
       "Date                                           \n",
       "2018-12-07   73.339996  17.370001   77.639999  \n",
       "2018-12-10   72.510002  18.860001   76.540001  \n",
       "2018-12-11   73.570000  18.790001   76.680000  \n",
       "2018-12-12   74.320000  19.100000   76.019997  \n",
       "2018-12-13   72.930000  17.980000   76.980003  \n",
       "...                ...        ...         ...  \n",
       "2023-07-11  107.389999  30.719999  105.970001  \n",
       "2023-07-12  107.760002  30.780001  106.489998  \n",
       "2023-07-13  107.839996  31.809999  104.540001  \n",
       "2023-07-14  107.949997  31.280001  100.940002  \n",
       "2023-07-17  107.260002  31.340000  100.750000  \n",
       "\n",
       "[1158 rows x 8 columns]"
      ]
     },
     "execution_count": 102,
     "metadata": {},
     "output_type": "execute_result"
    }
   ],
   "source": [
    "#RETRIEVE THE 5-YEAR DATA FROM YAHOO FINANCE\n",
    "all_data = yf.download(tickers = \"MRNA GOLD ETH-USD XOM DLR BTC-USD NKE OSTK\",  # list of tickers\n",
    "            period = \"5y\",         # time period\n",
    "            interval = \"1d\",       # trading interval\n",
    "            prepost = False,       # download pre/post market hours data?\n",
    "            repair = True)         # repair obvious price errors e.g. 100x?\n",
    "all_data = all_data.drop(columns=['Adj Close', 'High', 'Low', 'Open', 'Repaired?', 'Volume']).dropna()\n",
    "all_data"
   ]
  },
  {
   "cell_type": "markdown",
   "id": "67694268-7c10-45ba-8fe2-12dd08b29390",
   "metadata": {},
   "source": [
    "# PERIOD ANALYZED 07/12/2018 - 07/13/2023 #"
   ]
  },
  {
   "cell_type": "markdown",
   "id": "ad83ded6-8820-4fda-a88e-af81bcda663a",
   "metadata": {},
   "source": [
    "##### Daily Returns "
   ]
  },
  {
   "cell_type": "code",
   "execution_count": 103,
   "id": "74b3c722-430f-4619-aea7-b641cb1a5e0f",
   "metadata": {
    "tags": []
   },
   "outputs": [
    {
     "data": {
      "text/html": [
       "<div>\n",
       "<style scoped>\n",
       "    .dataframe tbody tr th:only-of-type {\n",
       "        vertical-align: middle;\n",
       "    }\n",
       "\n",
       "    .dataframe tbody tr th {\n",
       "        vertical-align: top;\n",
       "    }\n",
       "\n",
       "    .dataframe thead tr th {\n",
       "        text-align: left;\n",
       "    }\n",
       "\n",
       "    .dataframe thead tr:last-of-type th {\n",
       "        text-align: right;\n",
       "    }\n",
       "</style>\n",
       "<table border=\"1\" class=\"dataframe\">\n",
       "  <thead>\n",
       "    <tr>\n",
       "      <th></th>\n",
       "      <th colspan=\"8\" halign=\"left\">Close</th>\n",
       "    </tr>\n",
       "    <tr>\n",
       "      <th></th>\n",
       "      <th>BTC-USD</th>\n",
       "      <th>DLR</th>\n",
       "      <th>ETH-USD</th>\n",
       "      <th>GOLD</th>\n",
       "      <th>MRNA</th>\n",
       "      <th>NKE</th>\n",
       "      <th>OSTK</th>\n",
       "      <th>XOM</th>\n",
       "    </tr>\n",
       "    <tr>\n",
       "      <th>Date</th>\n",
       "      <th></th>\n",
       "      <th></th>\n",
       "      <th></th>\n",
       "      <th></th>\n",
       "      <th></th>\n",
       "      <th></th>\n",
       "      <th></th>\n",
       "      <th></th>\n",
       "    </tr>\n",
       "  </thead>\n",
       "  <tbody>\n",
       "    <tr>\n",
       "      <th>2018-12-07</th>\n",
       "      <td>NaN</td>\n",
       "      <td>NaN</td>\n",
       "      <td>NaN</td>\n",
       "      <td>NaN</td>\n",
       "      <td>NaN</td>\n",
       "      <td>NaN</td>\n",
       "      <td>NaN</td>\n",
       "      <td>NaN</td>\n",
       "    </tr>\n",
       "    <tr>\n",
       "      <th>2018-12-10</th>\n",
       "      <td>0.024187</td>\n",
       "      <td>0.005444</td>\n",
       "      <td>-0.017245</td>\n",
       "      <td>0.011696</td>\n",
       "      <td>0.010753</td>\n",
       "      <td>-0.011317</td>\n",
       "      <td>0.085780</td>\n",
       "      <td>-0.014168</td>\n",
       "    </tr>\n",
       "    <tr>\n",
       "      <th>2018-12-11</th>\n",
       "      <td>-0.022288</td>\n",
       "      <td>0.003782</td>\n",
       "      <td>-0.029889</td>\n",
       "      <td>-0.017341</td>\n",
       "      <td>-0.042021</td>\n",
       "      <td>0.014619</td>\n",
       "      <td>-0.003712</td>\n",
       "      <td>0.001829</td>\n",
       "    </tr>\n",
       "    <tr>\n",
       "      <th>2018-12-12</th>\n",
       "      <td>0.018210</td>\n",
       "      <td>-0.010189</td>\n",
       "      <td>0.018528</td>\n",
       "      <td>0.030882</td>\n",
       "      <td>0.037202</td>\n",
       "      <td>0.010194</td>\n",
       "      <td>0.016498</td>\n",
       "      <td>-0.008607</td>\n",
       "    </tr>\n",
       "    <tr>\n",
       "      <th>2018-12-13</th>\n",
       "      <td>-0.049692</td>\n",
       "      <td>-0.002076</td>\n",
       "      <td>-0.044749</td>\n",
       "      <td>0.006419</td>\n",
       "      <td>0.004283</td>\n",
       "      <td>-0.018703</td>\n",
       "      <td>-0.058639</td>\n",
       "      <td>0.012628</td>\n",
       "    </tr>\n",
       "    <tr>\n",
       "      <th>...</th>\n",
       "      <td>...</td>\n",
       "      <td>...</td>\n",
       "      <td>...</td>\n",
       "      <td>...</td>\n",
       "      <td>...</td>\n",
       "      <td>...</td>\n",
       "      <td>...</td>\n",
       "      <td>...</td>\n",
       "    </tr>\n",
       "    <tr>\n",
       "      <th>2023-07-11</th>\n",
       "      <td>0.006789</td>\n",
       "      <td>0.021138</td>\n",
       "      <td>-0.001181</td>\n",
       "      <td>0.010889</td>\n",
       "      <td>-0.007799</td>\n",
       "      <td>0.015220</td>\n",
       "      <td>0.038540</td>\n",
       "      <td>0.012227</td>\n",
       "    </tr>\n",
       "    <tr>\n",
       "      <th>2023-07-12</th>\n",
       "      <td>-0.007488</td>\n",
       "      <td>0.011424</td>\n",
       "      <td>-0.003313</td>\n",
       "      <td>0.046080</td>\n",
       "      <td>0.031033</td>\n",
       "      <td>0.003445</td>\n",
       "      <td>0.001953</td>\n",
       "      <td>0.004907</td>\n",
       "    </tr>\n",
       "    <tr>\n",
       "      <th>2023-07-13</th>\n",
       "      <td>0.035681</td>\n",
       "      <td>0.004586</td>\n",
       "      <td>0.071789</td>\n",
       "      <td>0.006865</td>\n",
       "      <td>0.005480</td>\n",
       "      <td>0.000742</td>\n",
       "      <td>0.033463</td>\n",
       "      <td>-0.018312</td>\n",
       "    </tr>\n",
       "    <tr>\n",
       "      <th>2023-07-14</th>\n",
       "      <td>-0.036281</td>\n",
       "      <td>-0.000085</td>\n",
       "      <td>-0.033473</td>\n",
       "      <td>-0.014205</td>\n",
       "      <td>-0.041545</td>\n",
       "      <td>0.001020</td>\n",
       "      <td>-0.016661</td>\n",
       "      <td>-0.034437</td>\n",
       "    </tr>\n",
       "    <tr>\n",
       "      <th>2023-07-17</th>\n",
       "      <td>-0.003060</td>\n",
       "      <td>-0.003973</td>\n",
       "      <td>-0.013475</td>\n",
       "      <td>-0.006916</td>\n",
       "      <td>-0.004532</td>\n",
       "      <td>-0.006392</td>\n",
       "      <td>0.001918</td>\n",
       "      <td>-0.001882</td>\n",
       "    </tr>\n",
       "  </tbody>\n",
       "</table>\n",
       "<p>1158 rows × 8 columns</p>\n",
       "</div>"
      ],
      "text/plain": [
       "               Close                                                    \\\n",
       "             BTC-USD       DLR   ETH-USD      GOLD      MRNA       NKE   \n",
       "Date                                                                     \n",
       "2018-12-07       NaN       NaN       NaN       NaN       NaN       NaN   \n",
       "2018-12-10  0.024187  0.005444 -0.017245  0.011696  0.010753 -0.011317   \n",
       "2018-12-11 -0.022288  0.003782 -0.029889 -0.017341 -0.042021  0.014619   \n",
       "2018-12-12  0.018210 -0.010189  0.018528  0.030882  0.037202  0.010194   \n",
       "2018-12-13 -0.049692 -0.002076 -0.044749  0.006419  0.004283 -0.018703   \n",
       "...              ...       ...       ...       ...       ...       ...   \n",
       "2023-07-11  0.006789  0.021138 -0.001181  0.010889 -0.007799  0.015220   \n",
       "2023-07-12 -0.007488  0.011424 -0.003313  0.046080  0.031033  0.003445   \n",
       "2023-07-13  0.035681  0.004586  0.071789  0.006865  0.005480  0.000742   \n",
       "2023-07-14 -0.036281 -0.000085 -0.033473 -0.014205 -0.041545  0.001020   \n",
       "2023-07-17 -0.003060 -0.003973 -0.013475 -0.006916 -0.004532 -0.006392   \n",
       "\n",
       "                                \n",
       "                OSTK       XOM  \n",
       "Date                            \n",
       "2018-12-07       NaN       NaN  \n",
       "2018-12-10  0.085780 -0.014168  \n",
       "2018-12-11 -0.003712  0.001829  \n",
       "2018-12-12  0.016498 -0.008607  \n",
       "2018-12-13 -0.058639  0.012628  \n",
       "...              ...       ...  \n",
       "2023-07-11  0.038540  0.012227  \n",
       "2023-07-12  0.001953  0.004907  \n",
       "2023-07-13  0.033463 -0.018312  \n",
       "2023-07-14 -0.016661 -0.034437  \n",
       "2023-07-17  0.001918 -0.001882  \n",
       "\n",
       "[1158 rows x 8 columns]"
      ]
     },
     "execution_count": 103,
     "metadata": {},
     "output_type": "execute_result"
    }
   ],
   "source": [
    "all_data_daily_returns = all_data.pct_change()\n",
    "all_data_daily_returns"
   ]
  },
  {
   "cell_type": "code",
   "execution_count": 104,
   "id": "f52b9130-4a6c-485d-92fd-9cc24f3b7e15",
   "metadata": {
    "tags": []
   },
   "outputs": [
    {
     "data": {
      "text/plain": [
       "<Axes: xlabel='Date'>"
      ]
     },
     "execution_count": 104,
     "metadata": {},
     "output_type": "execute_result"
    },
    {
     "data": {
      "image/png": "[encoded data removed]",
      "text/plain": [
       "<Figure size 640x480 with 1 Axes>"
      ]
     },
     "metadata": {},
     "output_type": "display_data"
    }
   ],
   "source": [
    "all_data_daily_returns.plot(kind = 'line')"
   ]
  },
  {
   "cell_type": "markdown",
   "id": "fd3463c4-d06b-4181-b54c-01af92df2398",
   "metadata": {},
   "source": [
    "##### Cumulative Returns "
   ]
  },
  {
   "cell_type": "code",
   "execution_count": 105,
   "id": "11e0eea0-f216-4def-aa05-c748b784f15d",
   "metadata": {
    "tags": []
   },
   "outputs": [
    {
     "data": {
      "text/html": [
       "<div>\n",
       "<style scoped>\n",
       "    .dataframe tbody tr th:only-of-type {\n",
       "        vertical-align: middle;\n",
       "    }\n",
       "\n",
       "    .dataframe tbody tr th {\n",
       "        vertical-align: top;\n",
       "    }\n",
       "\n",
       "    .dataframe thead tr th {\n",
       "        text-align: left;\n",
       "    }\n",
       "\n",
       "    .dataframe thead tr:last-of-type th {\n",
       "        text-align: right;\n",
       "    }\n",
       "</style>\n",
       "<table border=\"1\" class=\"dataframe\">\n",
       "  <thead>\n",
       "    <tr>\n",
       "      <th></th>\n",
       "      <th colspan=\"8\" halign=\"left\">Close</th>\n",
       "    </tr>\n",
       "    <tr>\n",
       "      <th></th>\n",
       "      <th>BTC-USD</th>\n",
       "      <th>DLR</th>\n",
       "      <th>ETH-USD</th>\n",
       "      <th>GOLD</th>\n",
       "      <th>MRNA</th>\n",
       "      <th>NKE</th>\n",
       "      <th>OSTK</th>\n",
       "      <th>XOM</th>\n",
       "    </tr>\n",
       "    <tr>\n",
       "      <th>Date</th>\n",
       "      <th></th>\n",
       "      <th></th>\n",
       "      <th></th>\n",
       "      <th></th>\n",
       "      <th></th>\n",
       "      <th></th>\n",
       "      <th></th>\n",
       "      <th></th>\n",
       "    </tr>\n",
       "  </thead>\n",
       "  <tbody>\n",
       "    <tr>\n",
       "      <th>2018-12-07</th>\n",
       "      <td>NaN</td>\n",
       "      <td>NaN</td>\n",
       "      <td>NaN</td>\n",
       "      <td>NaN</td>\n",
       "      <td>NaN</td>\n",
       "      <td>NaN</td>\n",
       "      <td>NaN</td>\n",
       "      <td>NaN</td>\n",
       "    </tr>\n",
       "    <tr>\n",
       "      <th>2018-12-10</th>\n",
       "      <td>1.024187</td>\n",
       "      <td>1.005444</td>\n",
       "      <td>0.982755</td>\n",
       "      <td>1.011696</td>\n",
       "      <td>1.010753</td>\n",
       "      <td>0.988683</td>\n",
       "      <td>1.085780</td>\n",
       "      <td>0.985832</td>\n",
       "    </tr>\n",
       "    <tr>\n",
       "      <th>2018-12-11</th>\n",
       "      <td>1.001360</td>\n",
       "      <td>1.009246</td>\n",
       "      <td>0.953381</td>\n",
       "      <td>0.994152</td>\n",
       "      <td>0.968280</td>\n",
       "      <td>1.003136</td>\n",
       "      <td>1.081750</td>\n",
       "      <td>0.987635</td>\n",
       "    </tr>\n",
       "    <tr>\n",
       "      <th>2018-12-12</th>\n",
       "      <td>1.019595</td>\n",
       "      <td>0.998963</td>\n",
       "      <td>0.971046</td>\n",
       "      <td>1.024854</td>\n",
       "      <td>1.004301</td>\n",
       "      <td>1.013362</td>\n",
       "      <td>1.099597</td>\n",
       "      <td>0.979134</td>\n",
       "    </tr>\n",
       "    <tr>\n",
       "      <th>2018-12-13</th>\n",
       "      <td>0.968929</td>\n",
       "      <td>0.996889</td>\n",
       "      <td>0.927592</td>\n",
       "      <td>1.031433</td>\n",
       "      <td>1.008602</td>\n",
       "      <td>0.994410</td>\n",
       "      <td>1.035118</td>\n",
       "      <td>0.991499</td>\n",
       "    </tr>\n",
       "    <tr>\n",
       "      <th>...</th>\n",
       "      <td>...</td>\n",
       "      <td>...</td>\n",
       "      <td>...</td>\n",
       "      <td>...</td>\n",
       "      <td>...</td>\n",
       "      <td>...</td>\n",
       "      <td>...</td>\n",
       "      <td>...</td>\n",
       "    </tr>\n",
       "    <tr>\n",
       "      <th>2023-07-11</th>\n",
       "      <td>8.953659</td>\n",
       "      <td>1.006049</td>\n",
       "      <td>20.133392</td>\n",
       "      <td>1.221491</td>\n",
       "      <td>6.566129</td>\n",
       "      <td>1.464276</td>\n",
       "      <td>1.768566</td>\n",
       "      <td>1.364889</td>\n",
       "    </tr>\n",
       "    <tr>\n",
       "      <th>2023-07-12</th>\n",
       "      <td>8.886609</td>\n",
       "      <td>1.017542</td>\n",
       "      <td>20.066697</td>\n",
       "      <td>1.277778</td>\n",
       "      <td>6.769892</td>\n",
       "      <td>1.469321</td>\n",
       "      <td>1.772021</td>\n",
       "      <td>1.371587</td>\n",
       "    </tr>\n",
       "    <tr>\n",
       "      <th>2023-07-13</th>\n",
       "      <td>9.203692</td>\n",
       "      <td>1.022209</td>\n",
       "      <td>21.507271</td>\n",
       "      <td>1.286550</td>\n",
       "      <td>6.806989</td>\n",
       "      <td>1.470412</td>\n",
       "      <td>1.831318</td>\n",
       "      <td>1.346471</td>\n",
       "    </tr>\n",
       "    <tr>\n",
       "      <th>2023-07-14</th>\n",
       "      <td>8.869773</td>\n",
       "      <td>1.022122</td>\n",
       "      <td>20.787353</td>\n",
       "      <td>1.268275</td>\n",
       "      <td>6.524193</td>\n",
       "      <td>1.471912</td>\n",
       "      <td>1.800806</td>\n",
       "      <td>1.300103</td>\n",
       "    </tr>\n",
       "    <tr>\n",
       "      <th>2023-07-17</th>\n",
       "      <td>8.842632</td>\n",
       "      <td>1.018062</td>\n",
       "      <td>20.507237</td>\n",
       "      <td>1.259503</td>\n",
       "      <td>6.494624</td>\n",
       "      <td>1.462504</td>\n",
       "      <td>1.804260</td>\n",
       "      <td>1.297656</td>\n",
       "    </tr>\n",
       "  </tbody>\n",
       "</table>\n",
       "<p>1158 rows × 8 columns</p>\n",
       "</div>"
      ],
      "text/plain": [
       "               Close                                                     \\\n",
       "             BTC-USD       DLR    ETH-USD      GOLD      MRNA       NKE   \n",
       "Date                                                                      \n",
       "2018-12-07       NaN       NaN        NaN       NaN       NaN       NaN   \n",
       "2018-12-10  1.024187  1.005444   0.982755  1.011696  1.010753  0.988683   \n",
       "2018-12-11  1.001360  1.009246   0.953381  0.994152  0.968280  1.003136   \n",
       "2018-12-12  1.019595  0.998963   0.971046  1.024854  1.004301  1.013362   \n",
       "2018-12-13  0.968929  0.996889   0.927592  1.031433  1.008602  0.994410   \n",
       "...              ...       ...        ...       ...       ...       ...   \n",
       "2023-07-11  8.953659  1.006049  20.133392  1.221491  6.566129  1.464276   \n",
       "2023-07-12  8.886609  1.017542  20.066697  1.277778  6.769892  1.469321   \n",
       "2023-07-13  9.203692  1.022209  21.507271  1.286550  6.806989  1.470412   \n",
       "2023-07-14  8.869773  1.022122  20.787353  1.268275  6.524193  1.471912   \n",
       "2023-07-17  8.842632  1.018062  20.507237  1.259503  6.494624  1.462504   \n",
       "\n",
       "                                \n",
       "                OSTK       XOM  \n",
       "Date                            \n",
       "2018-12-07       NaN       NaN  \n",
       "2018-12-10  1.085780  0.985832  \n",
       "2018-12-11  1.081750  0.987635  \n",
       "2018-12-12  1.099597  0.979134  \n",
       "2018-12-13  1.035118  0.991499  \n",
       "...              ...       ...  \n",
       "2023-07-11  1.768566  1.364889  \n",
       "2023-07-12  1.772021  1.371587  \n",
       "2023-07-13  1.831318  1.346471  \n",
       "2023-07-14  1.800806  1.300103  \n",
       "2023-07-17  1.804260  1.297656  \n",
       "\n",
       "[1158 rows x 8 columns]"
      ]
     },
     "execution_count": 105,
     "metadata": {},
     "output_type": "execute_result"
    }
   ],
   "source": [
    "daily_pct_change = all_data.pct_change()\n",
    "daily_cumulative_returns = (1 + daily_pct_change).cumprod()\n",
    "daily_cumulative_returns"
   ]
  },
  {
   "cell_type": "code",
   "execution_count": 106,
   "id": "4c55110f-c579-490c-a43c-4053255ce411",
   "metadata": {
    "tags": []
   },
   "outputs": [
    {
     "data": {
      "image/png": "[encoded data removed]",
      "text/plain": [
       "<Figure size 800x600 with 1 Axes>"
      ]
     },
     "metadata": {},
     "output_type": "display_data"
    }
   ],
   "source": [
    "# Plot cumulative daily returns to have a visual representation of stock peformance\n",
    "daily_cumulative_returns.plot(\n",
    "    figsize=(8,6),\n",
    "    title= 'Cumulative Daily Returns'\n",
    "                             );\n"
   ]
  },
  {
   "cell_type": "markdown",
   "id": "849a70d3-bf65-4b62-aa4f-c9102c00100e",
   "metadata": {},
   "source": [
    "##### Standard deviation "
   ]
  },
  {
   "cell_type": "markdown",
   "id": "00ebe58d-66f4-4603-8c32-859d303d6b70",
   "metadata": {},
   "source": [
    "##### Over the course of 2019 through June 2023, Overstock was had the highest price fluctuation"
   ]
  },
  {
   "cell_type": "code",
   "execution_count": 107,
   "id": "b3168db8-3234-4d17-b6c0-30beca9fcbd9",
   "metadata": {
    "tags": []
   },
   "outputs": [
    {
     "data": {
      "text/plain": [
       "Close  OSTK       0.061064\n",
       "       ETH-USD    0.057438\n",
       "       MRNA       0.048342\n",
       "       BTC-USD    0.043888\n",
       "       GOLD       0.023484\n",
       "       XOM        0.022292\n",
       "       NKE        0.021279\n",
       "       DLR        0.020134\n",
       "dtype: float64"
      ]
     },
     "execution_count": 107,
     "metadata": {},
     "output_type": "execute_result"
    }
   ],
   "source": [
    "#standard deviation of daily returns between January 2019 and end of second quarter 2023 for each stock\n",
    "daily_returns.std().sort_values(ascending=False)"
   ]
  },
  {
   "cell_type": "markdown",
   "id": "3426be99-132b-4ece-8273-5a127733c116",
   "metadata": {
    "tags": []
   },
   "source": [
    "##### Correlation"
   ]
  },
  {
   "cell_type": "code",
   "execution_count": 110,
   "id": "90843945-14ed-4b91-a608-1d2584526393",
   "metadata": {
    "tags": []
   },
   "outputs": [
    {
     "data": {
      "text/html": [
       "<div>\n",
       "<style scoped>\n",
       "    .dataframe tbody tr th:only-of-type {\n",
       "        vertical-align: middle;\n",
       "    }\n",
       "\n",
       "    .dataframe tbody tr th {\n",
       "        vertical-align: top;\n",
       "    }\n",
       "\n",
       "    .dataframe thead tr th {\n",
       "        text-align: left;\n",
       "    }\n",
       "</style>\n",
       "<table border=\"1\" class=\"dataframe\">\n",
       "  <thead>\n",
       "    <tr>\n",
       "      <th></th>\n",
       "      <th></th>\n",
       "      <th colspan=\"8\" halign=\"left\">Close</th>\n",
       "    </tr>\n",
       "    <tr>\n",
       "      <th></th>\n",
       "      <th></th>\n",
       "      <th>BTC-USD</th>\n",
       "      <th>DLR</th>\n",
       "      <th>ETH-USD</th>\n",
       "      <th>GOLD</th>\n",
       "      <th>MRNA</th>\n",
       "      <th>NKE</th>\n",
       "      <th>OSTK</th>\n",
       "      <th>XOM</th>\n",
       "    </tr>\n",
       "  </thead>\n",
       "  <tbody>\n",
       "    <tr>\n",
       "      <th rowspan=\"8\" valign=\"top\">Close</th>\n",
       "      <th>BTC-USD</th>\n",
       "      <td>1.000000</td>\n",
       "      <td>0.473898</td>\n",
       "      <td>0.921207</td>\n",
       "      <td>0.205975</td>\n",
       "      <td>0.787148</td>\n",
       "      <td>0.852523</td>\n",
       "      <td>0.673343</td>\n",
       "      <td>0.015326</td>\n",
       "    </tr>\n",
       "    <tr>\n",
       "      <th>DLR</th>\n",
       "      <td>0.473898</td>\n",
       "      <td>1.000000</td>\n",
       "      <td>0.424881</td>\n",
       "      <td>0.606712</td>\n",
       "      <td>0.425104</td>\n",
       "      <td>0.598812</td>\n",
       "      <td>0.724359</td>\n",
       "      <td>-0.695080</td>\n",
       "    </tr>\n",
       "    <tr>\n",
       "      <th>ETH-USD</th>\n",
       "      <td>0.921207</td>\n",
       "      <td>0.424881</td>\n",
       "      <td>1.000000</td>\n",
       "      <td>0.106553</td>\n",
       "      <td>0.847149</td>\n",
       "      <td>0.825712</td>\n",
       "      <td>0.572486</td>\n",
       "      <td>0.180100</td>\n",
       "    </tr>\n",
       "    <tr>\n",
       "      <th>GOLD</th>\n",
       "      <td>0.205975</td>\n",
       "      <td>0.606712</td>\n",
       "      <td>0.106553</td>\n",
       "      <td>1.000000</td>\n",
       "      <td>0.129492</td>\n",
       "      <td>0.363995</td>\n",
       "      <td>0.544576</td>\n",
       "      <td>-0.574267</td>\n",
       "    </tr>\n",
       "    <tr>\n",
       "      <th>MRNA</th>\n",
       "      <td>0.787148</td>\n",
       "      <td>0.425104</td>\n",
       "      <td>0.847149</td>\n",
       "      <td>0.129492</td>\n",
       "      <td>1.000000</td>\n",
       "      <td>0.850259</td>\n",
       "      <td>0.610953</td>\n",
       "      <td>0.082545</td>\n",
       "    </tr>\n",
       "    <tr>\n",
       "      <th>NKE</th>\n",
       "      <td>0.852523</td>\n",
       "      <td>0.598812</td>\n",
       "      <td>0.825712</td>\n",
       "      <td>0.363995</td>\n",
       "      <td>0.850259</td>\n",
       "      <td>1.000000</td>\n",
       "      <td>0.766509</td>\n",
       "      <td>-0.133897</td>\n",
       "    </tr>\n",
       "    <tr>\n",
       "      <th>OSTK</th>\n",
       "      <td>0.673343</td>\n",
       "      <td>0.724359</td>\n",
       "      <td>0.572486</td>\n",
       "      <td>0.544576</td>\n",
       "      <td>0.610953</td>\n",
       "      <td>0.766509</td>\n",
       "      <td>1.000000</td>\n",
       "      <td>-0.452936</td>\n",
       "    </tr>\n",
       "    <tr>\n",
       "      <th>XOM</th>\n",
       "      <td>0.015326</td>\n",
       "      <td>-0.695080</td>\n",
       "      <td>0.180100</td>\n",
       "      <td>-0.574267</td>\n",
       "      <td>0.082545</td>\n",
       "      <td>-0.133897</td>\n",
       "      <td>-0.452936</td>\n",
       "      <td>1.000000</td>\n",
       "    </tr>\n",
       "  </tbody>\n",
       "</table>\n",
       "</div>"
      ],
      "text/plain": [
       "                  Close                                                    \\\n",
       "                BTC-USD       DLR   ETH-USD      GOLD      MRNA       NKE   \n",
       "Close BTC-USD  1.000000  0.473898  0.921207  0.205975  0.787148  0.852523   \n",
       "      DLR      0.473898  1.000000  0.424881  0.606712  0.425104  0.598812   \n",
       "      ETH-USD  0.921207  0.424881  1.000000  0.106553  0.847149  0.825712   \n",
       "      GOLD     0.205975  0.606712  0.106553  1.000000  0.129492  0.363995   \n",
       "      MRNA     0.787148  0.425104  0.847149  0.129492  1.000000  0.850259   \n",
       "      NKE      0.852523  0.598812  0.825712  0.363995  0.850259  1.000000   \n",
       "      OSTK     0.673343  0.724359  0.572486  0.544576  0.610953  0.766509   \n",
       "      XOM      0.015326 -0.695080  0.180100 -0.574267  0.082545 -0.133897   \n",
       "\n",
       "                                   \n",
       "                   OSTK       XOM  \n",
       "Close BTC-USD  0.673343  0.015326  \n",
       "      DLR      0.724359 -0.695080  \n",
       "      ETH-USD  0.572486  0.180100  \n",
       "      GOLD     0.544576 -0.574267  \n",
       "      MRNA     0.610953  0.082545  \n",
       "      NKE      0.766509 -0.133897  \n",
       "      OSTK     1.000000 -0.452936  \n",
       "      XOM     -0.452936  1.000000  "
      ]
     },
     "execution_count": 110,
     "metadata": {},
     "output_type": "execute_result"
    }
   ],
   "source": [
    "correlation = all_data.corr()\n",
    "correlation"
   ]
  },
  {
   "cell_type": "code",
   "execution_count": 111,
   "id": "a7114570-d02e-487a-9772-df9839e95771",
   "metadata": {
    "tags": []
   },
   "outputs": [
    {
     "data": {
      "text/plain": [
       "<Axes: xlabel='None-None', ylabel='None-None'>"
      ]
     },
     "execution_count": 111,
     "metadata": {},
     "output_type": "execute_result"
    },
    {
     "data": {
      "image/png": "[encoded data removed]",
      "text/plain": [
       "<Figure size 640x480 with 2 Axes>"
      ]
     },
     "metadata": {},
     "output_type": "display_data"
    }
   ],
   "source": [
    "sns.heatmap(correlation, vmin=-1, vmax=1)"
   ]
  },
  {
   "cell_type": "markdown",
   "id": "71d4ff18-27e6-4450-a6f7-10fcb891e4ca",
   "metadata": {},
   "source": [
    "##### Volatility"
   ]
  },
  {
   "cell_type": "code",
   "execution_count": 112,
   "id": "dd9a689e-b6bb-430c-b43f-4e826ae559be",
   "metadata": {
    "tags": []
   },
   "outputs": [
    {
     "data": {
      "text/plain": [
       "Close  DLR        0.714699\n",
       "       NKE        0.755314\n",
       "       XOM        0.791275\n",
       "       GOLD       0.833598\n",
       "       BTC-USD    1.557852\n",
       "       MRNA       1.715976\n",
       "       ETH-USD    2.038862\n",
       "       OSTK       2.167550\n",
       "dtype: float64"
      ]
     },
     "execution_count": 112,
     "metadata": {},
     "output_type": "execute_result"
    }
   ],
   "source": [
    "# Volatility over the entire peroid\n",
    "volatility = daily_returns.std() * np.sqrt(252*5)\n",
    "volatility.sort_values(inplace=True)\n",
    "volatility"
   ]
  },
  {
   "cell_type": "code",
   "execution_count": 113,
   "id": "d890ea99-d773-492f-b68f-b17e3b5d9221",
   "metadata": {
    "tags": []
   },
   "outputs": [
    {
     "data": {},
     "metadata": {},
     "output_type": "display_data"
    },
    {
     "data": {
      "application/vnd.holoviews_exec.v0+json": "",
      "text/html": [
       "<div id='p2900'>\n",
       "  <div id=\"ed0fcac1-45a9-45f5-8ba5-0640dffee949\" data-root-id=\"p2900\" style=\"display: contents;\"></div>\n",
       "</div>\n",
       "<script type=\"application/javascript\">(function(root) {\n",
       "  var docs_json = {\"1097f607-8cbe-47f8-91dd-7b514a377cab\":{\"version\":\"3.1.1\",\"title\":\"Bokeh Application\",\"defs\":[{\"type\":\"model\",\"name\":\"ReactiveHTML1\"},{\"type\":\"model\",\"name\":\"FlexBox1\",\"properties\":[{\"name\":\"align_content\",\"kind\":\"Any\",\"default\":\"flex-start\"},{\"name\":\"align_items\",\"kind\":\"Any\",\"default\":\"flex-start\"},{\"name\":\"flex_direction\",\"kind\":\"Any\",\"default\":\"row\"},{\"name\":\"flex_wrap\",\"kind\":\"Any\",\"default\":\"wrap\"},{\"name\":\"justify_content\",\"kind\":\"Any\",\"default\":\"flex-start\"}]},{\"type\":\"model\",\"name\":\"FloatPanel1\",\"properties\":[{\"name\":\"config\",\"kind\":\"Any\",\"default\":{\"type\":\"map\"}},{\"name\":\"contained\",\"kind\":\"Any\",\"default\":true},{\"name\":\"position\",\"kind\":\"Any\",\"default\":\"right-top\"},{\"name\":\"offsetx\",\"kind\":\"Any\",\"default\":null},{\"name\":\"offsety\",\"kind\":\"Any\",\"default\":null},{\"name\":\"theme\",\"kind\":\"Any\",\"default\":\"primary\"},{\"name\":\"status\",\"kind\":\"Any\",\"default\":\"normalized\"}]},{\"type\":\"model\",\"name\":\"GridStack1\",\"properties\":[{\"name\":\"mode\",\"kind\":\"Any\",\"default\":\"warn\"},{\"name\":\"ncols\",\"kind\":\"Any\",\"default\":null},{\"name\":\"nrows\",\"kind\":\"Any\",\"default\":null},{\"name\":\"allow_resize\",\"kind\":\"Any\",\"default\":true},{\"name\":\"allow_drag\",\"kind\":\"Any\",\"default\":true},{\"name\":\"state\",\"kind\":\"Any\",\"default\":[]}]},{\"type\":\"model\",\"name\":\"drag1\",\"properties\":[{\"name\":\"slider_width\",\"kind\":\"Any\",\"default\":5},{\"name\":\"slider_color\",\"kind\":\"Any\",\"default\":\"black\"},{\"name\":\"value\",\"kind\":\"Any\",\"default\":50}]},{\"type\":\"model\",\"name\":\"click1\",\"properties\":[{\"name\":\"terminal_output\",\"kind\":\"Any\",\"default\":\"\"},{\"name\":\"debug_name\",\"kind\":\"Any\",\"default\":\"\"},{\"name\":\"clears\",\"kind\":\"Any\",\"default\":0}]},{\"type\":\"model\",\"name\":\"FastWrapper1\",\"properties\":[{\"name\":\"object\",\"kind\":\"Any\",\"default\":null},{\"name\":\"style\",\"kind\":\"Any\",\"default\":null}]},{\"type\":\"model\",\"name\":\"NotificationAreaBase1\",\"properties\":[{\"name\":\"position\",\"kind\":\"Any\",\"default\":\"bottom-right\"},{\"name\":\"_clear\",\"kind\":\"Any\",\"default\":0}]},{\"type\":\"model\",\"name\":\"NotificationArea1\",\"properties\":[{\"name\":\"notifications\",\"kind\":\"Any\",\"default\":[]},{\"name\":\"position\",\"kind\":\"Any\",\"default\":\"bottom-right\"},{\"name\":\"_clear\",\"kind\":\"Any\",\"default\":0},{\"name\":\"types\",\"kind\":\"Any\",\"default\":[{\"type\":\"map\",\"entries\":[[\"type\",\"warning\"],[\"background\",\"#ffc107\"],[\"icon\",{\"type\":\"map\",\"entries\":[[\"className\",\"fas fa-exclamation-triangle\"],[\"tagName\",\"i\"],[\"color\",\"white\"]]}]]},{\"type\":\"map\",\"entries\":[[\"type\",\"info\"],[\"background\",\"#007bff\"],[\"icon\",{\"type\":\"map\",\"entries\":[[\"className\",\"fas fa-info-circle\"],[\"tagName\",\"i\"],[\"color\",\"white\"]]}]]}]}]},{\"type\":\"model\",\"name\":\"Notification\",\"properties\":[{\"name\":\"background\",\"kind\":\"Any\",\"default\":null},{\"name\":\"duration\",\"kind\":\"Any\",\"default\":3000},{\"name\":\"icon\",\"kind\":\"Any\",\"default\":null},{\"name\":\"message\",\"kind\":\"Any\",\"default\":\"\"},{\"name\":\"notification_type\",\"kind\":\"Any\",\"default\":null},{\"name\":\"_destroyed\",\"kind\":\"Any\",\"default\":false}]},{\"type\":\"model\",\"name\":\"TemplateActions1\",\"properties\":[{\"name\":\"open_modal\",\"kind\":\"Any\",\"default\":0},{\"name\":\"close_modal\",\"kind\":\"Any\",\"default\":0}]},{\"type\":\"model\",\"name\":\"BootstrapTemplateActions1\",\"properties\":[{\"name\":\"open_modal\",\"kind\":\"Any\",\"default\":0},{\"name\":\"close_modal\",\"kind\":\"Any\",\"default\":0}]},{\"type\":\"model\",\"name\":\"MaterialTemplateActions1\",\"properties\":[{\"name\":\"open_modal\",\"kind\":\"Any\",\"default\":0},{\"name\":\"close_modal\",\"kind\":\"Any\",\"default\":0}]}],\"roots\":[{\"type\":\"object\",\"name\":\"Row\",\"id\":\"p2900\",\"attributes\":{\"name\":\"Row02634\",\"tags\":[\"embedded\"],\"stylesheets\":[\"\\n:host(.pn-loading.pn-arc):before, .pn-loading.pn-arc:before {\\n  background-image: url(\\\"data:image/svg+xml;base64,PHN2ZyB4bWxucz0iaHR0cDovL3d3dy53My5vcmcvMjAwMC9zdmciIHN0eWxlPSJtYXJnaW46IGF1dG87IGJhY2tncm91bmQ6IG5vbmU7IGRpc3BsYXk6IGJsb2NrOyBzaGFwZS1yZW5kZXJpbmc6IGF1dG87IiB2aWV3Qm94PSIwIDAgMTAwIDEwMCIgcHJlc2VydmVBc3BlY3RSYXRpbz0ieE1pZFlNaWQiPiAgPGNpcmNsZSBjeD0iNTAiIGN5PSI1MCIgZmlsbD0ibm9uZSIgc3Ryb2tlPSIjYzNjM2MzIiBzdHJva2Utd2lkdGg9IjEwIiByPSIzNSIgc3Ryb2tlLWRhc2hhcnJheT0iMTY0LjkzMzYxNDMxMzQ2NDE1IDU2Ljk3Nzg3MTQzNzgyMTM4Ij4gICAgPGFuaW1hdGVUcmFuc2Zvcm0gYXR0cmlidXRlTmFtZT0idHJhbnNmb3JtIiB0eXBlPSJyb3RhdGUiIHJlcGVhdENvdW50PSJpbmRlZmluaXRlIiBkdXI9IjFzIiB2YWx1ZXM9IjAgNTAgNTA7MzYwIDUwIDUwIiBrZXlUaW1lcz0iMDsxIj48L2FuaW1hdGVUcmFuc2Zvcm0+ICA8L2NpcmNsZT48L3N2Zz4=\\\");\\n  background-size: auto calc(min(50%, 400px));\\n}\",{\"type\":\"object\",\"name\":\"ImportedStyleSheet\",\"id\":\"p2903\",\"attributes\":{\"url\":\"https://cdn.holoviz.org/panel/1.1.0/dist/css/loading.css\"}},{\"type\":\"object\",\"name\":\"ImportedStyleSheet\",\"id\":\"p2991\",\"attributes\":{\"url\":\"https://cdn.holoviz.org/panel/1.1.0/dist/css/listpanel.css\"}},{\"type\":\"object\",\"name\":\"ImportedStyleSheet\",\"id\":\"p2901\",\"attributes\":{\"url\":\"https://cdn.holoviz.org/panel/1.1.0/dist/bundled/theme/default.css\"}},{\"type\":\"object\",\"name\":\"ImportedStyleSheet\",\"id\":\"p2902\",\"attributes\":{\"url\":\"https://cdn.holoviz.org/panel/1.1.0/dist/bundled/theme/native.css\"}}],\"min_width\":0,\"margin\":0,\"sizing_mode\":\"stretch_width\",\"align\":\"start\",\"children\":[{\"type\":\"object\",\"name\":\"Spacer\",\"id\":\"p2904\",\"attributes\":{\"name\":\"HSpacer02645\",\"stylesheets\":[\"\\n:host(.pn-loading.pn-arc):before, .pn-loading.pn-arc:before {\\n  background-image: url(\\\"data:image/svg+xml;base64,PHN2ZyB4bWxucz0iaHR0cDovL3d3dy53My5vcmcvMjAwMC9zdmciIHN0eWxlPSJtYXJnaW46IGF1dG87IGJhY2tncm91bmQ6IG5vbmU7IGRpc3BsYXk6IGJsb2NrOyBzaGFwZS1yZW5kZXJpbmc6IGF1dG87IiB2aWV3Qm94PSIwIDAgMTAwIDEwMCIgcHJlc2VydmVBc3BlY3RSYXRpbz0ieE1pZFlNaWQiPiAgPGNpcmNsZSBjeD0iNTAiIGN5PSI1MCIgZmlsbD0ibm9uZSIgc3Ryb2tlPSIjYzNjM2MzIiBzdHJva2Utd2lkdGg9IjEwIiByPSIzNSIgc3Ryb2tlLWRhc2hhcnJheT0iMTY0LjkzMzYxNDMxMzQ2NDE1IDU2Ljk3Nzg3MTQzNzgyMTM4Ij4gICAgPGFuaW1hdGVUcmFuc2Zvcm0gYXR0cmlidXRlTmFtZT0idHJhbnNmb3JtIiB0eXBlPSJyb3RhdGUiIHJlcGVhdENvdW50PSJpbmRlZmluaXRlIiBkdXI9IjFzIiB2YWx1ZXM9IjAgNTAgNTA7MzYwIDUwIDUwIiBrZXlUaW1lcz0iMDsxIj48L2FuaW1hdGVUcmFuc2Zvcm0+ICA8L2NpcmNsZT48L3N2Zz4=\\\");\\n  background-size: auto calc(min(50%, 400px));\\n}\",{\"id\":\"p2903\"},{\"id\":\"p2901\"},{\"id\":\"p2902\"}],\"margin\":0,\"sizing_mode\":\"stretch_width\",\"align\":\"start\"}},{\"type\":\"object\",\"name\":\"Figure\",\"id\":\"p2908\",\"attributes\":{\"width\":700,\"height\":300,\"margin\":[5,10],\"sizing_mode\":\"fixed\",\"align\":\"start\",\"x_range\":{\"type\":\"object\",\"name\":\"FactorRange\",\"id\":\"p2905\",\"attributes\":{\"tags\":[[[\"ticker\",\"ticker\",null]]],\"factors\":[\"DLR\",\"NKE\",\"XOM\",\"GOLD\",\"BTC-USD\",\"MRNA\",\"ETH-USD\",\"OSTK\"]}},\"y_range\":{\"type\":\"object\",\"name\":\"Range1d\",\"id\":\"p2906\",\"attributes\":{\"tags\":[[[\"volatility\",\"volatility\",null]]],\"end\":2.3146315,\"reset_start\":0.0,\"reset_end\":2.3146315}},\"x_scale\":{\"type\":\"object\",\"name\":\"CategoricalScale\",\"id\":\"p2920\"},\"y_scale\":{\"type\":\"object\",\"name\":\"LinearScale\",\"id\":\"p2922\"},\"title\":{\"type\":\"object\",\"name\":\"Title\",\"id\":\"p2911\",\"attributes\":{\"text\":\"Volatility over the entire period\",\"text_color\":\"black\",\"text_font_size\":\"12pt\"}},\"renderers\":[{\"type\":\"object\",\"name\":\"GlyphRenderer\",\"id\":\"p2961\",\"attributes\":{\"data_source\":{\"type\":\"object\",\"name\":\"ColumnDataSource\",\"id\":\"p2951\",\"attributes\":{\"selected\":{\"type\":\"object\",\"name\":\"Selection\",\"id\":\"p2952\",\"attributes\":{\"indices\":[],\"line_indices\":[]}},\"selection_policy\":{\"type\":\"object\",\"name\":\"UnionRenderers\",\"id\":\"p2953\"},\"data\":{\"type\":\"map\",\"entries\":[[\"ticker\",[\"DLR\",\"NKE\",\"XOM\",\"GOLD\",\"BTC-USD\",\"MRNA\",\"ETH-USD\",\"OSTK\"]],[\"volatility\",{\"type\":\"ndarray\",\"array\":{\"type\":\"bytes\",\"data\":\"QZ5dvvXh5j8namluhTDoP0ZFnE6yVek/mS1ZFeGm6j+qQ26GG/D4P3Hiqx3Fefs/8+ZwrfZQAED+J3/3jloBQA==\"},\"shape\":[8],\"dtype\":\"float64\",\"order\":\"little\"}]]}}},\"view\":{\"type\":\"object\",\"name\":\"CDSView\",\"id\":\"p2962\",\"attributes\":{\"filter\":{\"type\":\"object\",\"name\":\"AllIndices\",\"id\":\"p2963\"}}},\"glyph\":{\"type\":\"object\",\"name\":\"VBar\",\"id\":\"p2958\",\"attributes\":{\"tags\":[\"apply_ranges\"],\"x\":{\"type\":\"field\",\"field\":\"ticker\"},\"width\":{\"type\":\"value\",\"value\":0.8},\"top\":{\"type\":\"field\",\"field\":\"volatility\"},\"fill_color\":{\"type\":\"value\",\"value\":\"#30a2da\"},\"hatch_color\":{\"type\":\"value\",\"value\":\"#30a2da\"}}},\"selection_glyph\":{\"type\":\"object\",\"name\":\"VBar\",\"id\":\"p2964\",\"attributes\":{\"tags\":[\"apply_ranges\"],\"x\":{\"type\":\"field\",\"field\":\"ticker\"},\"width\":{\"type\":\"value\",\"value\":0.8},\"bottom\":{\"type\":\"value\",\"value\":0},\"top\":{\"type\":\"field\",\"field\":\"volatility\"},\"line_color\":{\"type\":\"value\",\"value\":\"black\"},\"line_alpha\":{\"type\":\"value\",\"value\":1.0},\"line_width\":{\"type\":\"value\",\"value\":1},\"line_join\":{\"type\":\"value\",\"value\":\"bevel\"},\"line_cap\":{\"type\":\"value\",\"value\":\"butt\"},\"line_dash\":{\"type\":\"value\",\"value\":[]},\"line_dash_offset\":{\"type\":\"value\",\"value\":0},\"fill_color\":{\"type\":\"value\",\"value\":\"#30a2da\"},\"fill_alpha\":{\"type\":\"value\",\"value\":1.0},\"hatch_color\":{\"type\":\"value\",\"value\":\"#30a2da\"},\"hatch_alpha\":{\"type\":\"value\",\"value\":1.0},\"hatch_scale\":{\"type\":\"value\",\"value\":12.0},\"hatch_pattern\":{\"type\":\"value\",\"value\":null},\"hatch_weight\":{\"type\":\"value\",\"value\":1.0}}},\"nonselection_glyph\":{\"type\":\"object\",\"name\":\"VBar\",\"id\":\"p2959\",\"attributes\":{\"tags\":[\"apply_ranges\"],\"x\":{\"type\":\"field\",\"field\":\"ticker\"},\"width\":{\"type\":\"value\",\"value\":0.8},\"top\":{\"type\":\"field\",\"field\":\"volatility\"},\"line_alpha\":{\"type\":\"value\",\"value\":0.1},\"fill_color\":{\"type\":\"value\",\"value\":\"#30a2da\"},\"fill_alpha\":{\"type\":\"value\",\"value\":0.1},\"hatch_color\":{\"type\":\"value\",\"value\":\"#30a2da\"},\"hatch_alpha\":{\"type\":\"value\",\"value\":0.1}}},\"muted_glyph\":{\"type\":\"object\",\"name\":\"VBar\",\"id\":\"p2960\",\"attributes\":{\"tags\":[\"apply_ranges\"],\"x\":{\"type\":\"field\",\"field\":\"ticker\"},\"width\":{\"type\":\"value\",\"value\":0.8},\"top\":{\"type\":\"field\",\"field\":\"volatility\"},\"line_alpha\":{\"type\":\"value\",\"value\":0.2},\"fill_color\":{\"type\":\"value\",\"value\":\"#30a2da\"},\"fill_alpha\":{\"type\":\"value\",\"value\":0.2},\"hatch_color\":{\"type\":\"value\",\"value\":\"#30a2da\"},\"hatch_alpha\":{\"type\":\"value\",\"value\":0.2}}}}}],\"toolbar\":{\"type\":\"object\",\"name\":\"Toolbar\",\"id\":\"p2915\",\"attributes\":{\"tools\":[{\"type\":\"object\",\"name\":\"HoverTool\",\"id\":\"p2907\",\"attributes\":{\"tags\":[\"hv_created\"],\"renderers\":[{\"id\":\"p2961\"}],\"tooltips\":[[\"ticker\",\"@{ticker}\"],[\"volatility\",\"@{volatility}\"]]}},{\"type\":\"object\",\"name\":\"SaveTool\",\"id\":\"p2937\"},{\"type\":\"object\",\"name\":\"PanTool\",\"id\":\"p2938\"},{\"type\":\"object\",\"name\":\"WheelZoomTool\",\"id\":\"p2939\"},{\"type\":\"object\",\"name\":\"BoxZoomTool\",\"id\":\"p2940\",\"attributes\":{\"overlay\":{\"type\":\"object\",\"name\":\"BoxAnnotation\",\"id\":\"p2941\",\"attributes\":{\"syncable\":false,\"level\":\"overlay\",\"visible\":false,\"left_units\":\"canvas\",\"right_units\":\"canvas\",\"bottom_units\":\"canvas\",\"top_units\":\"canvas\",\"line_color\":\"black\",\"line_alpha\":1.0,\"line_width\":2,\"line_dash\":[4,4],\"fill_color\":\"lightgrey\",\"fill_alpha\":0.5}}}},{\"type\":\"object\",\"name\":\"ResetTool\",\"id\":\"p2942\"}],\"active_drag\":{\"id\":\"p2938\"},\"active_scroll\":{\"id\":\"p2939\"}}},\"left\":[{\"type\":\"object\",\"name\":\"LinearAxis\",\"id\":\"p2930\",\"attributes\":{\"ticker\":{\"type\":\"object\",\"name\":\"BasicTicker\",\"id\":\"p2932\",\"attributes\":{\"mantissas\":[1,2,5]}},\"formatter\":{\"type\":\"object\",\"name\":\"BasicTickFormatter\",\"id\":\"p2933\"},\"axis_label\":\"volatility\",\"major_label_policy\":{\"type\":\"object\",\"name\":\"AllLabels\",\"id\":\"p2931\"}}}],\"below\":[{\"type\":\"object\",\"name\":\"CategoricalAxis\",\"id\":\"p2924\",\"attributes\":{\"ticker\":{\"type\":\"object\",\"name\":\"CategoricalTicker\",\"id\":\"p2926\"},\"formatter\":{\"type\":\"object\",\"name\":\"CategoricalTickFormatter\",\"id\":\"p2927\"},\"axis_label\":\"Ticker\",\"major_label_orientation\":1.5707963267948966,\"major_label_policy\":{\"type\":\"object\",\"name\":\"AllLabels\",\"id\":\"p2925\"}}}],\"center\":[{\"type\":\"object\",\"name\":\"Grid\",\"id\":\"p2929\",\"attributes\":{\"axis\":{\"id\":\"p2924\"},\"grid_line_color\":null}},{\"type\":\"object\",\"name\":\"Grid\",\"id\":\"p2936\",\"attributes\":{\"dimension\":1,\"axis\":{\"id\":\"p2930\"},\"grid_line_color\":null}}],\"min_border_top\":10,\"min_border_bottom\":10,\"min_border_left\":10,\"min_border_right\":10,\"output_backend\":\"webgl\"}},{\"type\":\"object\",\"name\":\"Spacer\",\"id\":\"p2989\",\"attributes\":{\"name\":\"HSpacer02648\",\"stylesheets\":[\"\\n:host(.pn-loading.pn-arc):before, .pn-loading.pn-arc:before {\\n  background-image: url(\\\"data:image/svg+xml;base64,PHN2ZyB4bWxucz0iaHR0cDovL3d3dy53My5vcmcvMjAwMC9zdmciIHN0eWxlPSJtYXJnaW46IGF1dG87IGJhY2tncm91bmQ6IG5vbmU7IGRpc3BsYXk6IGJsb2NrOyBzaGFwZS1yZW5kZXJpbmc6IGF1dG87IiB2aWV3Qm94PSIwIDAgMTAwIDEwMCIgcHJlc2VydmVBc3BlY3RSYXRpbz0ieE1pZFlNaWQiPiAgPGNpcmNsZSBjeD0iNTAiIGN5PSI1MCIgZmlsbD0ibm9uZSIgc3Ryb2tlPSIjYzNjM2MzIiBzdHJva2Utd2lkdGg9IjEwIiByPSIzNSIgc3Ryb2tlLWRhc2hhcnJheT0iMTY0LjkzMzYxNDMxMzQ2NDE1IDU2Ljk3Nzg3MTQzNzgyMTM4Ij4gICAgPGFuaW1hdGVUcmFuc2Zvcm0gYXR0cmlidXRlTmFtZT0idHJhbnNmb3JtIiB0eXBlPSJyb3RhdGUiIHJlcGVhdENvdW50PSJpbmRlZmluaXRlIiBkdXI9IjFzIiB2YWx1ZXM9IjAgNTAgNTA7MzYwIDUwIDUwIiBrZXlUaW1lcz0iMDsxIj48L2FuaW1hdGVUcmFuc2Zvcm0+ICA8L2NpcmNsZT48L3N2Zz4=\\\");\\n  background-size: auto calc(min(50%, 400px));\\n}\",{\"id\":\"p2903\"},{\"id\":\"p2901\"},{\"id\":\"p2902\"}],\"margin\":0,\"sizing_mode\":\"stretch_width\",\"align\":\"start\"}}]}}],\"callbacks\":{\"type\":\"map\"}}};\n",
       "  var render_items = [{\"docid\":\"1097f607-8cbe-47f8-91dd-7b514a377cab\",\"roots\":{\"p2900\":\"ed0fcac1-45a9-45f5-8ba5-0640dffee949\"},\"root_ids\":[\"p2900\"]}];\n",
       "  var docs = Object.values(docs_json)\n",
       "  if (!docs) {\n",
       "    return\n",
       "  }\n",
       "  const py_version = docs[0].version.replace('rc', '-rc.')\n",
       "  const is_dev = py_version.indexOf(\"+\") !== -1 || py_version.indexOf(\"-\") !== -1\n",
       "  function embed_document(root) {\n",
       "    var Bokeh = get_bokeh(root)\n",
       "    Bokeh.embed.embed_items_notebook(docs_json, render_items);\n",
       "    for (const render_item of render_items) {\n",
       "      for (const root_id of render_item.root_ids) {\n",
       "\tconst id_el = document.getElementById(root_id)\n",
       "\tif (id_el.children.length && (id_el.children[0].className === 'bk-root')) {\n",
       "\t  const root_el = id_el.children[0]\n",
       "\t  root_el.id = root_el.id + '-rendered'\n",
       "\t}\n",
       "      }\n",
       "    }\n",
       "  }\n",
       "  function get_bokeh(root) {\n",
       "    if (root.Bokeh === undefined) {\n",
       "      return null\n",
       "    } else if (root.Bokeh.version !== py_version && !is_dev) {\n",
       "      if (root.Bokeh.versions === undefined || !root.Bokeh.versions.has(py_version)) {\n",
       "\treturn null\n",
       "      }\n",
       "      return root.Bokeh.versions.get(py_version);\n",
       "    } else if (root.Bokeh.version === py_version) {\n",
       "      return root.Bokeh\n",
       "    }\n",
       "    return null\n",
       "  }\n",
       "  function is_loaded(root) {\n",
       "    var Bokeh = get_bokeh(root)\n",
       "    return (Bokeh != null && Bokeh.Panel !== undefined)\n",
       "  }\n",
       "  if (is_loaded(root)) {\n",
       "    embed_document(root);\n",
       "  } else {\n",
       "    var attempts = 0;\n",
       "    var timer = setInterval(function(root) {\n",
       "      if (is_loaded(root)) {\n",
       "        clearInterval(timer);\n",
       "        embed_document(root);\n",
       "      } else if (document.readyState == \"complete\") {\n",
       "        attempts++;\n",
       "        if (attempts > 200) {\n",
       "          clearInterval(timer);\n",
       "\t  var Bokeh = get_bokeh(root)\n",
       "\t  if (Bokeh == null || Bokeh.Panel == null) {\n",
       "            console.warn(\"Panel: ERROR: Unable to run Panel code because Bokeh or Panel library is missing\");\n",
       "\t  } else {\n",
       "\t    console.warn(\"Panel: WARNING: Attempting to render but not all required libraries could be resolved.\")\n",
       "\t    embed_document(root)\n",
       "\t  }\n",
       "        }\n",
       "      }\n",
       "    }, 25, root)\n",
       "  }\n",
       "})(window);</script>"
      ],
      "text/plain": [
       ":Bars   [ticker]   (volatility)"
      ]
     },
     "execution_count": 113,
     "metadata": {
      "application/vnd.holoviews_exec.v0+json": {
       "id": "p2900"
      }
     },
     "output_type": "execute_result"
    }
   ],
   "source": [
    "# Volatility over the entire peroid\n",
    "\n",
    "volatility_bar = pd.DataFrame(\n",
    "    {\n",
    "        \"ticker\": ['DLR', 'NKE', 'XOM', 'GOLD', 'BTC-USD', 'MRNA', 'ETH-USD', 'OSTK'],\n",
    "        \"volatility\": (0.715083,0.755923,0.791711,0.832871,1.558620,1.717229,2.039533,2.169218),\n",
    "    }\n",
    ")\n",
    "\n",
    "\n",
    "volatility_bar.hvplot.bar(\n",
    "    x=\"ticker\", \n",
    "    y=\"volatility\", \n",
    "    xlabel=\"Ticker\", \n",
    "    ylabel=\"volatility\", \n",
    "    title = \"Volatility over the entire period\",\n",
    "    rot=90\n",
    ")"
   ]
  },
  {
   "cell_type": "markdown",
   "id": "99158082-e863-4f41-a22c-3ce112c4d14a",
   "metadata": {},
   "source": [
    "# Pre-Pandemic 01/01/2019 to 12/31/2019"
   ]
  },
  {
   "cell_type": "markdown",
   "id": "4a38b1f5-12b0-499c-a1e4-2e36097e58d2",
   "metadata": {
    "tags": []
   },
   "source": [
    "##### Standard Deviation"
   ]
  },
  {
   "cell_type": "code",
   "execution_count": 114,
   "id": "930d75b7-863e-4e5c-bc35-00cf2745ad4a",
   "metadata": {
    "tags": []
   },
   "outputs": [
    {
     "data": {
      "text/plain": [
       "Close  XOM        0.011710\n",
       "       DLR        0.012524\n",
       "       NKE        0.013064\n",
       "       GOLD       0.019712\n",
       "       MRNA       0.038367\n",
       "       BTC-USD    0.043729\n",
       "       ETH-USD    0.048164\n",
       "       OSTK       0.063574\n",
       "dtype: float64"
      ]
     },
     "execution_count": 114,
     "metadata": {},
     "output_type": "execute_result"
    }
   ],
   "source": [
    "#standard deviation(STD) of DAILY RETURNS PRE-PANDEMIC\n",
    "daily_returns_all_data_pre = daily_returns.loc['2019-01-01':'2019-12-31']\n",
    "daily_returns_all_data_pre.std().sort_values(ascending=True)"
   ]
  },
  {
   "cell_type": "code",
   "execution_count": 131,
   "id": "f4b4ae48-e5b9-4b73-b02d-dc835a7bb4da",
   "metadata": {
    "tags": []
   },
   "outputs": [
    {
     "data": {},
     "metadata": {},
     "output_type": "display_data"
    },
    {
     "data": {
      "application/vnd.holoviews_exec.v0+json": "",
      "text/html": [
       "<div id='p3630'>\n",
       "  <div id=\"afba3ec5-60a9-4493-a096-347b26a426be\" data-root-id=\"p3630\" style=\"display: contents;\"></div>\n",
       "</div>\n",
       "<script type=\"application/javascript\">(function(root) {\n",
       "  var docs_json = {\"1acb5e29-c332-44e0-a46b-732869af9c20\":{\"version\":\"3.1.1\",\"title\":\"Bokeh Application\",\"defs\":[{\"type\":\"model\",\"name\":\"ReactiveHTML1\"},{\"type\":\"model\",\"name\":\"FlexBox1\",\"properties\":[{\"name\":\"align_content\",\"kind\":\"Any\",\"default\":\"flex-start\"},{\"name\":\"align_items\",\"kind\":\"Any\",\"default\":\"flex-start\"},{\"name\":\"flex_direction\",\"kind\":\"Any\",\"default\":\"row\"},{\"name\":\"flex_wrap\",\"kind\":\"Any\",\"default\":\"wrap\"},{\"name\":\"justify_content\",\"kind\":\"Any\",\"default\":\"flex-start\"}]},{\"type\":\"model\",\"name\":\"FloatPanel1\",\"properties\":[{\"name\":\"config\",\"kind\":\"Any\",\"default\":{\"type\":\"map\"}},{\"name\":\"contained\",\"kind\":\"Any\",\"default\":true},{\"name\":\"position\",\"kind\":\"Any\",\"default\":\"right-top\"},{\"name\":\"offsetx\",\"kind\":\"Any\",\"default\":null},{\"name\":\"offsety\",\"kind\":\"Any\",\"default\":null},{\"name\":\"theme\",\"kind\":\"Any\",\"default\":\"primary\"},{\"name\":\"status\",\"kind\":\"Any\",\"default\":\"normalized\"}]},{\"type\":\"model\",\"name\":\"GridStack1\",\"properties\":[{\"name\":\"mode\",\"kind\":\"Any\",\"default\":\"warn\"},{\"name\":\"ncols\",\"kind\":\"Any\",\"default\":null},{\"name\":\"nrows\",\"kind\":\"Any\",\"default\":null},{\"name\":\"allow_resize\",\"kind\":\"Any\",\"default\":true},{\"name\":\"allow_drag\",\"kind\":\"Any\",\"default\":true},{\"name\":\"state\",\"kind\":\"Any\",\"default\":[]}]},{\"type\":\"model\",\"name\":\"drag1\",\"properties\":[{\"name\":\"slider_width\",\"kind\":\"Any\",\"default\":5},{\"name\":\"slider_color\",\"kind\":\"Any\",\"default\":\"black\"},{\"name\":\"value\",\"kind\":\"Any\",\"default\":50}]},{\"type\":\"model\",\"name\":\"click1\",\"properties\":[{\"name\":\"terminal_output\",\"kind\":\"Any\",\"default\":\"\"},{\"name\":\"debug_name\",\"kind\":\"Any\",\"default\":\"\"},{\"name\":\"clears\",\"kind\":\"Any\",\"default\":0}]},{\"type\":\"model\",\"name\":\"FastWrapper1\",\"properties\":[{\"name\":\"object\",\"kind\":\"Any\",\"default\":null},{\"name\":\"style\",\"kind\":\"Any\",\"default\":null}]},{\"type\":\"model\",\"name\":\"NotificationAreaBase1\",\"properties\":[{\"name\":\"position\",\"kind\":\"Any\",\"default\":\"bottom-right\"},{\"name\":\"_clear\",\"kind\":\"Any\",\"default\":0}]},{\"type\":\"model\",\"name\":\"NotificationArea1\",\"properties\":[{\"name\":\"notifications\",\"kind\":\"Any\",\"default\":[]},{\"name\":\"position\",\"kind\":\"Any\",\"default\":\"bottom-right\"},{\"name\":\"_clear\",\"kind\":\"Any\",\"default\":0},{\"name\":\"types\",\"kind\":\"Any\",\"default\":[{\"type\":\"map\",\"entries\":[[\"type\",\"warning\"],[\"background\",\"#ffc107\"],[\"icon\",{\"type\":\"map\",\"entries\":[[\"className\",\"fas fa-exclamation-triangle\"],[\"tagName\",\"i\"],[\"color\",\"white\"]]}]]},{\"type\":\"map\",\"entries\":[[\"type\",\"info\"],[\"background\",\"#007bff\"],[\"icon\",{\"type\":\"map\",\"entries\":[[\"className\",\"fas fa-info-circle\"],[\"tagName\",\"i\"],[\"color\",\"white\"]]}]]}]}]},{\"type\":\"model\",\"name\":\"Notification\",\"properties\":[{\"name\":\"background\",\"kind\":\"Any\",\"default\":null},{\"name\":\"duration\",\"kind\":\"Any\",\"default\":3000},{\"name\":\"icon\",\"kind\":\"Any\",\"default\":null},{\"name\":\"message\",\"kind\":\"Any\",\"default\":\"\"},{\"name\":\"notification_type\",\"kind\":\"Any\",\"default\":null},{\"name\":\"_destroyed\",\"kind\":\"Any\",\"default\":false}]},{\"type\":\"model\",\"name\":\"TemplateActions1\",\"properties\":[{\"name\":\"open_modal\",\"kind\":\"Any\",\"default\":0},{\"name\":\"close_modal\",\"kind\":\"Any\",\"default\":0}]},{\"type\":\"model\",\"name\":\"BootstrapTemplateActions1\",\"properties\":[{\"name\":\"open_modal\",\"kind\":\"Any\",\"default\":0},{\"name\":\"close_modal\",\"kind\":\"Any\",\"default\":0}]},{\"type\":\"model\",\"name\":\"MaterialTemplateActions1\",\"properties\":[{\"name\":\"open_modal\",\"kind\":\"Any\",\"default\":0},{\"name\":\"close_modal\",\"kind\":\"Any\",\"default\":0}]}],\"roots\":[{\"type\":\"object\",\"name\":\"Row\",\"id\":\"p3630\",\"attributes\":{\"name\":\"Row03283\",\"tags\":[\"embedded\"],\"stylesheets\":[\"\\n:host(.pn-loading.pn-arc):before, .pn-loading.pn-arc:before {\\n  background-image: url(\\\"data:image/svg+xml;base64,PHN2ZyB4bWxucz0iaHR0cDovL3d3dy53My5vcmcvMjAwMC9zdmciIHN0eWxlPSJtYXJnaW46IGF1dG87IGJhY2tncm91bmQ6IG5vbmU7IGRpc3BsYXk6IGJsb2NrOyBzaGFwZS1yZW5kZXJpbmc6IGF1dG87IiB2aWV3Qm94PSIwIDAgMTAwIDEwMCIgcHJlc2VydmVBc3BlY3RSYXRpbz0ieE1pZFlNaWQiPiAgPGNpcmNsZSBjeD0iNTAiIGN5PSI1MCIgZmlsbD0ibm9uZSIgc3Ryb2tlPSIjYzNjM2MzIiBzdHJva2Utd2lkdGg9IjEwIiByPSIzNSIgc3Ryb2tlLWRhc2hhcnJheT0iMTY0LjkzMzYxNDMxMzQ2NDE1IDU2Ljk3Nzg3MTQzNzgyMTM4Ij4gICAgPGFuaW1hdGVUcmFuc2Zvcm0gYXR0cmlidXRlTmFtZT0idHJhbnNmb3JtIiB0eXBlPSJyb3RhdGUiIHJlcGVhdENvdW50PSJpbmRlZmluaXRlIiBkdXI9IjFzIiB2YWx1ZXM9IjAgNTAgNTA7MzYwIDUwIDUwIiBrZXlUaW1lcz0iMDsxIj48L2FuaW1hdGVUcmFuc2Zvcm0+ICA8L2NpcmNsZT48L3N2Zz4=\\\");\\n  background-size: auto calc(min(50%, 400px));\\n}\",{\"type\":\"object\",\"name\":\"ImportedStyleSheet\",\"id\":\"p3633\",\"attributes\":{\"url\":\"https://cdn.holoviz.org/panel/1.1.0/dist/css/loading.css\"}},{\"type\":\"object\",\"name\":\"ImportedStyleSheet\",\"id\":\"p3721\",\"attributes\":{\"url\":\"https://cdn.holoviz.org/panel/1.1.0/dist/css/listpanel.css\"}},{\"type\":\"object\",\"name\":\"ImportedStyleSheet\",\"id\":\"p3631\",\"attributes\":{\"url\":\"https://cdn.holoviz.org/panel/1.1.0/dist/bundled/theme/default.css\"}},{\"type\":\"object\",\"name\":\"ImportedStyleSheet\",\"id\":\"p3632\",\"attributes\":{\"url\":\"https://cdn.holoviz.org/panel/1.1.0/dist/bundled/theme/native.css\"}}],\"min_width\":0,\"margin\":0,\"sizing_mode\":\"stretch_width\",\"align\":\"start\",\"children\":[{\"type\":\"object\",\"name\":\"Spacer\",\"id\":\"p3634\",\"attributes\":{\"name\":\"HSpacer03294\",\"stylesheets\":[\"\\n:host(.pn-loading.pn-arc):before, .pn-loading.pn-arc:before {\\n  background-image: url(\\\"data:image/svg+xml;base64,PHN2ZyB4bWxucz0iaHR0cDovL3d3dy53My5vcmcvMjAwMC9zdmciIHN0eWxlPSJtYXJnaW46IGF1dG87IGJhY2tncm91bmQ6IG5vbmU7IGRpc3BsYXk6IGJsb2NrOyBzaGFwZS1yZW5kZXJpbmc6IGF1dG87IiB2aWV3Qm94PSIwIDAgMTAwIDEwMCIgcHJlc2VydmVBc3BlY3RSYXRpbz0ieE1pZFlNaWQiPiAgPGNpcmNsZSBjeD0iNTAiIGN5PSI1MCIgZmlsbD0ibm9uZSIgc3Ryb2tlPSIjYzNjM2MzIiBzdHJva2Utd2lkdGg9IjEwIiByPSIzNSIgc3Ryb2tlLWRhc2hhcnJheT0iMTY0LjkzMzYxNDMxMzQ2NDE1IDU2Ljk3Nzg3MTQzNzgyMTM4Ij4gICAgPGFuaW1hdGVUcmFuc2Zvcm0gYXR0cmlidXRlTmFtZT0idHJhbnNmb3JtIiB0eXBlPSJyb3RhdGUiIHJlcGVhdENvdW50PSJpbmRlZmluaXRlIiBkdXI9IjFzIiB2YWx1ZXM9IjAgNTAgNTA7MzYwIDUwIDUwIiBrZXlUaW1lcz0iMDsxIj48L2FuaW1hdGVUcmFuc2Zvcm0+ICA8L2NpcmNsZT48L3N2Zz4=\\\");\\n  background-size: auto calc(min(50%, 400px));\\n}\",{\"id\":\"p3633\"},{\"id\":\"p3631\"},{\"id\":\"p3632\"}],\"margin\":0,\"sizing_mode\":\"stretch_width\",\"align\":\"start\"}},{\"type\":\"object\",\"name\":\"Figure\",\"id\":\"p3638\",\"attributes\":{\"width\":700,\"height\":300,\"margin\":[5,10],\"sizing_mode\":\"fixed\",\"align\":\"start\",\"x_range\":{\"type\":\"object\",\"name\":\"FactorRange\",\"id\":\"p3635\",\"attributes\":{\"tags\":[[[\"ticker\",\"ticker\",null]]],\"factors\":[\"XOM\",\"DLR\",\"NKE\",\"GOLD\",\"MRNA\",\"BTC-USD\",\"ETH-USD\",\"OSTK\"]}},\"y_range\":{\"type\":\"object\",\"name\":\"Range1d\",\"id\":\"p3636\",\"attributes\":{\"tags\":[[[\"standard deviation\",\"standard deviation\",null]]],\"end\":0.0687604,\"reset_start\":0.0,\"reset_end\":0.0687604}},\"x_scale\":{\"type\":\"object\",\"name\":\"CategoricalScale\",\"id\":\"p3650\"},\"y_scale\":{\"type\":\"object\",\"name\":\"LinearScale\",\"id\":\"p3652\"},\"title\":{\"type\":\"object\",\"name\":\"Title\",\"id\":\"p3641\",\"attributes\":{\"text\":\"STANDARD DEVIATION PRE-PANDEMIC TIME\",\"text_color\":\"black\",\"text_font_size\":\"12pt\"}},\"renderers\":[{\"type\":\"object\",\"name\":\"GlyphRenderer\",\"id\":\"p3691\",\"attributes\":{\"data_source\":{\"type\":\"object\",\"name\":\"ColumnDataSource\",\"id\":\"p3681\",\"attributes\":{\"selected\":{\"type\":\"object\",\"name\":\"Selection\",\"id\":\"p3682\",\"attributes\":{\"indices\":[],\"line_indices\":[]}},\"selection_policy\":{\"type\":\"object\",\"name\":\"UnionRenderers\",\"id\":\"p3683\"},\"data\":{\"type\":\"map\",\"entries\":[[\"ticker\",[\"XOM\",\"DLR\",\"NKE\",\"GOLD\",\"MRNA\",\"BTC-USD\",\"ETH-USD\",\"OSTK\"]],[\"standard_deviation\",{\"type\":\"ndarray\",\"array\":{\"type\":\"bytes\",\"data\":\"QQ5KmGn7hz8MIlLTLqaJPxQgCmZMwYo/zuFa7WEvlD96w33k1qSjP40IxsGlY6Y/EmiwqfOoqD8/O+C6YkawPw==\"},\"shape\":[8],\"dtype\":\"float64\",\"order\":\"little\"}]]}}},\"view\":{\"type\":\"object\",\"name\":\"CDSView\",\"id\":\"p3692\",\"attributes\":{\"filter\":{\"type\":\"object\",\"name\":\"AllIndices\",\"id\":\"p3693\"}}},\"glyph\":{\"type\":\"object\",\"name\":\"VBar\",\"id\":\"p3688\",\"attributes\":{\"tags\":[\"apply_ranges\"],\"x\":{\"type\":\"field\",\"field\":\"ticker\"},\"width\":{\"type\":\"value\",\"value\":0.8},\"top\":{\"type\":\"field\",\"field\":\"standard_deviation\"},\"fill_color\":{\"type\":\"value\",\"value\":\"#30a2da\"},\"hatch_color\":{\"type\":\"value\",\"value\":\"#30a2da\"}}},\"selection_glyph\":{\"type\":\"object\",\"name\":\"VBar\",\"id\":\"p3694\",\"attributes\":{\"tags\":[\"apply_ranges\"],\"x\":{\"type\":\"field\",\"field\":\"ticker\"},\"width\":{\"type\":\"value\",\"value\":0.8},\"bottom\":{\"type\":\"value\",\"value\":0},\"top\":{\"type\":\"field\",\"field\":\"standard_deviation\"},\"line_color\":{\"type\":\"value\",\"value\":\"black\"},\"line_alpha\":{\"type\":\"value\",\"value\":1.0},\"line_width\":{\"type\":\"value\",\"value\":1},\"line_join\":{\"type\":\"value\",\"value\":\"bevel\"},\"line_cap\":{\"type\":\"value\",\"value\":\"butt\"},\"line_dash\":{\"type\":\"value\",\"value\":[]},\"line_dash_offset\":{\"type\":\"value\",\"value\":0},\"fill_color\":{\"type\":\"value\",\"value\":\"#30a2da\"},\"fill_alpha\":{\"type\":\"value\",\"value\":1.0},\"hatch_color\":{\"type\":\"value\",\"value\":\"#30a2da\"},\"hatch_alpha\":{\"type\":\"value\",\"value\":1.0},\"hatch_scale\":{\"type\":\"value\",\"value\":12.0},\"hatch_pattern\":{\"type\":\"value\",\"value\":null},\"hatch_weight\":{\"type\":\"value\",\"value\":1.0}}},\"nonselection_glyph\":{\"type\":\"object\",\"name\":\"VBar\",\"id\":\"p3689\",\"attributes\":{\"tags\":[\"apply_ranges\"],\"x\":{\"type\":\"field\",\"field\":\"ticker\"},\"width\":{\"type\":\"value\",\"value\":0.8},\"top\":{\"type\":\"field\",\"field\":\"standard_deviation\"},\"line_alpha\":{\"type\":\"value\",\"value\":0.1},\"fill_color\":{\"type\":\"value\",\"value\":\"#30a2da\"},\"fill_alpha\":{\"type\":\"value\",\"value\":0.1},\"hatch_color\":{\"type\":\"value\",\"value\":\"#30a2da\"},\"hatch_alpha\":{\"type\":\"value\",\"value\":0.1}}},\"muted_glyph\":{\"type\":\"object\",\"name\":\"VBar\",\"id\":\"p3690\",\"attributes\":{\"tags\":[\"apply_ranges\"],\"x\":{\"type\":\"field\",\"field\":\"ticker\"},\"width\":{\"type\":\"value\",\"value\":0.8},\"top\":{\"type\":\"field\",\"field\":\"standard_deviation\"},\"line_alpha\":{\"type\":\"value\",\"value\":0.2},\"fill_color\":{\"type\":\"value\",\"value\":\"#30a2da\"},\"fill_alpha\":{\"type\":\"value\",\"value\":0.2},\"hatch_color\":{\"type\":\"value\",\"value\":\"#30a2da\"},\"hatch_alpha\":{\"type\":\"value\",\"value\":0.2}}}}}],\"toolbar\":{\"type\":\"object\",\"name\":\"Toolbar\",\"id\":\"p3645\",\"attributes\":{\"tools\":[{\"type\":\"object\",\"name\":\"HoverTool\",\"id\":\"p3637\",\"attributes\":{\"tags\":[\"hv_created\"],\"renderers\":[{\"id\":\"p3691\"}],\"tooltips\":[[\"ticker\",\"@{ticker}\"],[\"standard deviation\",\"@{standard_deviation}\"]]}},{\"type\":\"object\",\"name\":\"SaveTool\",\"id\":\"p3667\"},{\"type\":\"object\",\"name\":\"PanTool\",\"id\":\"p3668\"},{\"type\":\"object\",\"name\":\"WheelZoomTool\",\"id\":\"p3669\"},{\"type\":\"object\",\"name\":\"BoxZoomTool\",\"id\":\"p3670\",\"attributes\":{\"overlay\":{\"type\":\"object\",\"name\":\"BoxAnnotation\",\"id\":\"p3671\",\"attributes\":{\"syncable\":false,\"level\":\"overlay\",\"visible\":false,\"left_units\":\"canvas\",\"right_units\":\"canvas\",\"bottom_units\":\"canvas\",\"top_units\":\"canvas\",\"line_color\":\"black\",\"line_alpha\":1.0,\"line_width\":2,\"line_dash\":[4,4],\"fill_color\":\"lightgrey\",\"fill_alpha\":0.5}}}},{\"type\":\"object\",\"name\":\"ResetTool\",\"id\":\"p3672\"}],\"active_drag\":{\"id\":\"p3668\"},\"active_scroll\":{\"id\":\"p3669\"}}},\"left\":[{\"type\":\"object\",\"name\":\"LinearAxis\",\"id\":\"p3660\",\"attributes\":{\"ticker\":{\"type\":\"object\",\"name\":\"BasicTicker\",\"id\":\"p3662\",\"attributes\":{\"mantissas\":[1,2,5]}},\"formatter\":{\"type\":\"object\",\"name\":\"BasicTickFormatter\",\"id\":\"p3663\"},\"axis_label\":\"standard deviation\",\"major_label_policy\":{\"type\":\"object\",\"name\":\"AllLabels\",\"id\":\"p3661\"}}}],\"below\":[{\"type\":\"object\",\"name\":\"CategoricalAxis\",\"id\":\"p3654\",\"attributes\":{\"ticker\":{\"type\":\"object\",\"name\":\"CategoricalTicker\",\"id\":\"p3656\"},\"formatter\":{\"type\":\"object\",\"name\":\"CategoricalTickFormatter\",\"id\":\"p3657\"},\"axis_label\":\"Ticker\",\"major_label_orientation\":1.5707963267948966,\"major_label_policy\":{\"type\":\"object\",\"name\":\"AllLabels\",\"id\":\"p3655\"}}}],\"center\":[{\"type\":\"object\",\"name\":\"Grid\",\"id\":\"p3659\",\"attributes\":{\"axis\":{\"id\":\"p3654\"},\"grid_line_color\":null}},{\"type\":\"object\",\"name\":\"Grid\",\"id\":\"p3666\",\"attributes\":{\"dimension\":1,\"axis\":{\"id\":\"p3660\"},\"grid_line_color\":null}}],\"min_border_top\":10,\"min_border_bottom\":10,\"min_border_left\":10,\"min_border_right\":10,\"output_backend\":\"webgl\"}},{\"type\":\"object\",\"name\":\"Spacer\",\"id\":\"p3719\",\"attributes\":{\"name\":\"HSpacer03297\",\"stylesheets\":[\"\\n:host(.pn-loading.pn-arc):before, .pn-loading.pn-arc:before {\\n  background-image: url(\\\"data:image/svg+xml;base64,PHN2ZyB4bWxucz0iaHR0cDovL3d3dy53My5vcmcvMjAwMC9zdmciIHN0eWxlPSJtYXJnaW46IGF1dG87IGJhY2tncm91bmQ6IG5vbmU7IGRpc3BsYXk6IGJsb2NrOyBzaGFwZS1yZW5kZXJpbmc6IGF1dG87IiB2aWV3Qm94PSIwIDAgMTAwIDEwMCIgcHJlc2VydmVBc3BlY3RSYXRpbz0ieE1pZFlNaWQiPiAgPGNpcmNsZSBjeD0iNTAiIGN5PSI1MCIgZmlsbD0ibm9uZSIgc3Ryb2tlPSIjYzNjM2MzIiBzdHJva2Utd2lkdGg9IjEwIiByPSIzNSIgc3Ryb2tlLWRhc2hhcnJheT0iMTY0LjkzMzYxNDMxMzQ2NDE1IDU2Ljk3Nzg3MTQzNzgyMTM4Ij4gICAgPGFuaW1hdGVUcmFuc2Zvcm0gYXR0cmlidXRlTmFtZT0idHJhbnNmb3JtIiB0eXBlPSJyb3RhdGUiIHJlcGVhdENvdW50PSJpbmRlZmluaXRlIiBkdXI9IjFzIiB2YWx1ZXM9IjAgNTAgNTA7MzYwIDUwIDUwIiBrZXlUaW1lcz0iMDsxIj48L2FuaW1hdGVUcmFuc2Zvcm0+ICA8L2NpcmNsZT48L3N2Zz4=\\\");\\n  background-size: auto calc(min(50%, 400px));\\n}\",{\"id\":\"p3633\"},{\"id\":\"p3631\"},{\"id\":\"p3632\"}],\"margin\":0,\"sizing_mode\":\"stretch_width\",\"align\":\"start\"}}]}}],\"callbacks\":{\"type\":\"map\"}}};\n",
       "  var render_items = [{\"docid\":\"1acb5e29-c332-44e0-a46b-732869af9c20\",\"roots\":{\"p3630\":\"afba3ec5-60a9-4493-a096-347b26a426be\"},\"root_ids\":[\"p3630\"]}];\n",
       "  var docs = Object.values(docs_json)\n",
       "  if (!docs) {\n",
       "    return\n",
       "  }\n",
       "  const py_version = docs[0].version.replace('rc', '-rc.')\n",
       "  const is_dev = py_version.indexOf(\"+\") !== -1 || py_version.indexOf(\"-\") !== -1\n",
       "  function embed_document(root) {\n",
       "    var Bokeh = get_bokeh(root)\n",
       "    Bokeh.embed.embed_items_notebook(docs_json, render_items);\n",
       "    for (const render_item of render_items) {\n",
       "      for (const root_id of render_item.root_ids) {\n",
       "\tconst id_el = document.getElementById(root_id)\n",
       "\tif (id_el.children.length && (id_el.children[0].className === 'bk-root')) {\n",
       "\t  const root_el = id_el.children[0]\n",
       "\t  root_el.id = root_el.id + '-rendered'\n",
       "\t}\n",
       "      }\n",
       "    }\n",
       "  }\n",
       "  function get_bokeh(root) {\n",
       "    if (root.Bokeh === undefined) {\n",
       "      return null\n",
       "    } else if (root.Bokeh.version !== py_version && !is_dev) {\n",
       "      if (root.Bokeh.versions === undefined || !root.Bokeh.versions.has(py_version)) {\n",
       "\treturn null\n",
       "      }\n",
       "      return root.Bokeh.versions.get(py_version);\n",
       "    } else if (root.Bokeh.version === py_version) {\n",
       "      return root.Bokeh\n",
       "    }\n",
       "    return null\n",
       "  }\n",
       "  function is_loaded(root) {\n",
       "    var Bokeh = get_bokeh(root)\n",
       "    return (Bokeh != null && Bokeh.Panel !== undefined)\n",
       "  }\n",
       "  if (is_loaded(root)) {\n",
       "    embed_document(root);\n",
       "  } else {\n",
       "    var attempts = 0;\n",
       "    var timer = setInterval(function(root) {\n",
       "      if (is_loaded(root)) {\n",
       "        clearInterval(timer);\n",
       "        embed_document(root);\n",
       "      } else if (document.readyState == \"complete\") {\n",
       "        attempts++;\n",
       "        if (attempts > 200) {\n",
       "          clearInterval(timer);\n",
       "\t  var Bokeh = get_bokeh(root)\n",
       "\t  if (Bokeh == null || Bokeh.Panel == null) {\n",
       "            console.warn(\"Panel: ERROR: Unable to run Panel code because Bokeh or Panel library is missing\");\n",
       "\t  } else {\n",
       "\t    console.warn(\"Panel: WARNING: Attempting to render but not all required libraries could be resolved.\")\n",
       "\t    embed_document(root)\n",
       "\t  }\n",
       "        }\n",
       "      }\n",
       "    }, 25, root)\n",
       "  }\n",
       "})(window);</script>"
      ],
      "text/plain": [
       ":Bars   [ticker]   (standard deviation)"
      ]
     },
     "execution_count": 131,
     "metadata": {
      "application/vnd.holoviews_exec.v0+json": {
       "id": "p3630"
      }
     },
     "output_type": "execute_result"
    }
   ],
   "source": [
    "std_bar_pre_pandemic = pd.DataFrame(\n",
    "    {\n",
    "        \"ticker\": ['XOM', 'DLR', 'NKE', 'GOLD','MRNA', 'BTC-USD', 'ETH-USD', 'OSTK'],\n",
    "        \"standard deviation\": (0.011710, 0.012524, 0.013064, 0.019712, 0.038367, 0.043729, 0.048164, 0.063574    ),\n",
    "    }\n",
    ")\n",
    "\n",
    "\n",
    "std_bar_pre_pandemic.hvplot.bar(\n",
    "    x=\"ticker\", \n",
    "    y=\"standard deviation\", \n",
    "    xlabel=\"Ticker\", \n",
    "    ylabel=\"standard deviation\", \n",
    "    title = \"STANDARD DEVIATION PRE-PANDEMIC TIME\",\n",
    "    rot=90\n",
    ")"
   ]
  },
  {
   "cell_type": "markdown",
   "id": "89996ce3-67ac-4c62-86d0-2c93baf6ab38",
   "metadata": {},
   "source": [
    "##### Correlation"
   ]
  },
  {
   "cell_type": "code",
   "execution_count": 115,
   "id": "c0c4cc4e-8077-4f5f-ac85-66354e0af4d9",
   "metadata": {
    "tags": []
   },
   "outputs": [
    {
     "data": {
      "text/html": [
       "<div>\n",
       "<style scoped>\n",
       "    .dataframe tbody tr th:only-of-type {\n",
       "        vertical-align: middle;\n",
       "    }\n",
       "\n",
       "    .dataframe tbody tr th {\n",
       "        vertical-align: top;\n",
       "    }\n",
       "\n",
       "    .dataframe thead tr th {\n",
       "        text-align: left;\n",
       "    }\n",
       "</style>\n",
       "<table border=\"1\" class=\"dataframe\">\n",
       "  <thead>\n",
       "    <tr>\n",
       "      <th></th>\n",
       "      <th></th>\n",
       "      <th colspan=\"8\" halign=\"left\">Close</th>\n",
       "    </tr>\n",
       "    <tr>\n",
       "      <th></th>\n",
       "      <th></th>\n",
       "      <th>BTC-USD</th>\n",
       "      <th>DLR</th>\n",
       "      <th>ETH-USD</th>\n",
       "      <th>GOLD</th>\n",
       "      <th>MRNA</th>\n",
       "      <th>NKE</th>\n",
       "      <th>OSTK</th>\n",
       "      <th>XOM</th>\n",
       "    </tr>\n",
       "  </thead>\n",
       "  <tbody>\n",
       "    <tr>\n",
       "      <th rowspan=\"8\" valign=\"top\">Close</th>\n",
       "      <th>BTC-USD</th>\n",
       "      <td>1.000000</td>\n",
       "      <td>0.546145</td>\n",
       "      <td>0.756833</td>\n",
       "      <td>0.718589</td>\n",
       "      <td>-0.538527</td>\n",
       "      <td>0.188383</td>\n",
       "      <td>-0.111138</td>\n",
       "      <td>-0.424111</td>\n",
       "    </tr>\n",
       "    <tr>\n",
       "      <th>DLR</th>\n",
       "      <td>0.546145</td>\n",
       "      <td>1.000000</td>\n",
       "      <td>0.306394</td>\n",
       "      <td>0.579723</td>\n",
       "      <td>-0.105126</td>\n",
       "      <td>0.490517</td>\n",
       "      <td>-0.216315</td>\n",
       "      <td>-0.235910</td>\n",
       "    </tr>\n",
       "    <tr>\n",
       "      <th>ETH-USD</th>\n",
       "      <td>0.756833</td>\n",
       "      <td>0.306394</td>\n",
       "      <td>1.000000</td>\n",
       "      <td>0.156341</td>\n",
       "      <td>-0.285905</td>\n",
       "      <td>-0.163400</td>\n",
       "      <td>-0.116283</td>\n",
       "      <td>0.018888</td>\n",
       "    </tr>\n",
       "    <tr>\n",
       "      <th>GOLD</th>\n",
       "      <td>0.718589</td>\n",
       "      <td>0.579723</td>\n",
       "      <td>0.156341</td>\n",
       "      <td>1.000000</td>\n",
       "      <td>-0.554257</td>\n",
       "      <td>0.531931</td>\n",
       "      <td>-0.135492</td>\n",
       "      <td>-0.645015</td>\n",
       "    </tr>\n",
       "    <tr>\n",
       "      <th>MRNA</th>\n",
       "      <td>-0.538527</td>\n",
       "      <td>-0.105126</td>\n",
       "      <td>-0.285905</td>\n",
       "      <td>-0.554257</td>\n",
       "      <td>1.000000</td>\n",
       "      <td>0.078349</td>\n",
       "      <td>-0.172466</td>\n",
       "      <td>0.546522</td>\n",
       "    </tr>\n",
       "    <tr>\n",
       "      <th>NKE</th>\n",
       "      <td>0.188383</td>\n",
       "      <td>0.490517</td>\n",
       "      <td>-0.163400</td>\n",
       "      <td>0.531931</td>\n",
       "      <td>0.078349</td>\n",
       "      <td>1.000000</td>\n",
       "      <td>-0.503516</td>\n",
       "      <td>-0.287477</td>\n",
       "    </tr>\n",
       "    <tr>\n",
       "      <th>OSTK</th>\n",
       "      <td>-0.111138</td>\n",
       "      <td>-0.216315</td>\n",
       "      <td>-0.116283</td>\n",
       "      <td>-0.135492</td>\n",
       "      <td>-0.172466</td>\n",
       "      <td>-0.503516</td>\n",
       "      <td>1.000000</td>\n",
       "      <td>0.418322</td>\n",
       "    </tr>\n",
       "    <tr>\n",
       "      <th>XOM</th>\n",
       "      <td>-0.424111</td>\n",
       "      <td>-0.235910</td>\n",
       "      <td>0.018888</td>\n",
       "      <td>-0.645015</td>\n",
       "      <td>0.546522</td>\n",
       "      <td>-0.287477</td>\n",
       "      <td>0.418322</td>\n",
       "      <td>1.000000</td>\n",
       "    </tr>\n",
       "  </tbody>\n",
       "</table>\n",
       "</div>"
      ],
      "text/plain": [
       "                  Close                                                    \\\n",
       "                BTC-USD       DLR   ETH-USD      GOLD      MRNA       NKE   \n",
       "Close BTC-USD  1.000000  0.546145  0.756833  0.718589 -0.538527  0.188383   \n",
       "      DLR      0.546145  1.000000  0.306394  0.579723 -0.105126  0.490517   \n",
       "      ETH-USD  0.756833  0.306394  1.000000  0.156341 -0.285905 -0.163400   \n",
       "      GOLD     0.718589  0.579723  0.156341  1.000000 -0.554257  0.531931   \n",
       "      MRNA    -0.538527 -0.105126 -0.285905 -0.554257  1.000000  0.078349   \n",
       "      NKE      0.188383  0.490517 -0.163400  0.531931  0.078349  1.000000   \n",
       "      OSTK    -0.111138 -0.216315 -0.116283 -0.135492 -0.172466 -0.503516   \n",
       "      XOM     -0.424111 -0.235910  0.018888 -0.645015  0.546522 -0.287477   \n",
       "\n",
       "                                   \n",
       "                   OSTK       XOM  \n",
       "Close BTC-USD -0.111138 -0.424111  \n",
       "      DLR     -0.216315 -0.235910  \n",
       "      ETH-USD -0.116283  0.018888  \n",
       "      GOLD    -0.135492 -0.645015  \n",
       "      MRNA    -0.172466  0.546522  \n",
       "      NKE     -0.503516 -0.287477  \n",
       "      OSTK     1.000000  0.418322  \n",
       "      XOM      0.418322  1.000000  "
      ]
     },
     "execution_count": 115,
     "metadata": {},
     "output_type": "execute_result"
    }
   ],
   "source": [
    "#pre-pandemic correlation\n",
    "correlation_pre= all_data.loc['2019-01-01':'2019-12-31'].corr()\n",
    "correlation_pre"
   ]
  },
  {
   "cell_type": "markdown",
   "id": "dee819ea-e225-431a-8cf5-9004892e9d4e",
   "metadata": {},
   "source": [
    "##### Volatility"
   ]
  },
  {
   "cell_type": "code",
   "execution_count": 116,
   "id": "710f9476-50e6-4fa3-b5b7-4113083595a4",
   "metadata": {
    "tags": []
   },
   "outputs": [
    {
     "data": {
      "text/plain": [
       "Close  XOM        0.185894\n",
       "       DLR        0.198814\n",
       "       NKE        0.207388\n",
       "       GOLD       0.312919\n",
       "       MRNA       0.609061\n",
       "       BTC-USD    0.694175\n",
       "       ETH-USD    0.764582\n",
       "       OSTK       1.009199\n",
       "dtype: float64"
      ]
     },
     "execution_count": 116,
     "metadata": {},
     "output_type": "execute_result"
    }
   ],
   "source": [
    "#VOLATILITY PRE-PANDEMIC\n",
    "volatility_pre = daily_returns_all_data_pre.std() * np.sqrt(252)\n",
    "volatility_pre.sort_values(inplace=True)\n",
    "volatility_pre"
   ]
  },
  {
   "cell_type": "code",
   "execution_count": 117,
   "id": "e83ee43e-eee3-48fc-ba50-82d70de4f6e7",
   "metadata": {
    "tags": []
   },
   "outputs": [
    {
     "data": {},
     "metadata": {},
     "output_type": "display_data"
    },
    {
     "data": {
      "application/vnd.holoviews_exec.v0+json": "",
      "text/html": [
       "<div id='p3046'>\n",
       "  <div id=\"dda60d78-082e-4125-ad58-c0fb4ce13a06\" data-root-id=\"p3046\" style=\"display: contents;\"></div>\n",
       "</div>\n",
       "<script type=\"application/javascript\">(function(root) {\n",
       "  var docs_json = {\"f2f80de4-3f33-4dbe-8ef4-acba8d898531\":{\"version\":\"3.1.1\",\"title\":\"Bokeh Application\",\"defs\":[{\"type\":\"model\",\"name\":\"ReactiveHTML1\"},{\"type\":\"model\",\"name\":\"FlexBox1\",\"properties\":[{\"name\":\"align_content\",\"kind\":\"Any\",\"default\":\"flex-start\"},{\"name\":\"align_items\",\"kind\":\"Any\",\"default\":\"flex-start\"},{\"name\":\"flex_direction\",\"kind\":\"Any\",\"default\":\"row\"},{\"name\":\"flex_wrap\",\"kind\":\"Any\",\"default\":\"wrap\"},{\"name\":\"justify_content\",\"kind\":\"Any\",\"default\":\"flex-start\"}]},{\"type\":\"model\",\"name\":\"FloatPanel1\",\"properties\":[{\"name\":\"config\",\"kind\":\"Any\",\"default\":{\"type\":\"map\"}},{\"name\":\"contained\",\"kind\":\"Any\",\"default\":true},{\"name\":\"position\",\"kind\":\"Any\",\"default\":\"right-top\"},{\"name\":\"offsetx\",\"kind\":\"Any\",\"default\":null},{\"name\":\"offsety\",\"kind\":\"Any\",\"default\":null},{\"name\":\"theme\",\"kind\":\"Any\",\"default\":\"primary\"},{\"name\":\"status\",\"kind\":\"Any\",\"default\":\"normalized\"}]},{\"type\":\"model\",\"name\":\"GridStack1\",\"properties\":[{\"name\":\"mode\",\"kind\":\"Any\",\"default\":\"warn\"},{\"name\":\"ncols\",\"kind\":\"Any\",\"default\":null},{\"name\":\"nrows\",\"kind\":\"Any\",\"default\":null},{\"name\":\"allow_resize\",\"kind\":\"Any\",\"default\":true},{\"name\":\"allow_drag\",\"kind\":\"Any\",\"default\":true},{\"name\":\"state\",\"kind\":\"Any\",\"default\":[]}]},{\"type\":\"model\",\"name\":\"drag1\",\"properties\":[{\"name\":\"slider_width\",\"kind\":\"Any\",\"default\":5},{\"name\":\"slider_color\",\"kind\":\"Any\",\"default\":\"black\"},{\"name\":\"value\",\"kind\":\"Any\",\"default\":50}]},{\"type\":\"model\",\"name\":\"click1\",\"properties\":[{\"name\":\"terminal_output\",\"kind\":\"Any\",\"default\":\"\"},{\"name\":\"debug_name\",\"kind\":\"Any\",\"default\":\"\"},{\"name\":\"clears\",\"kind\":\"Any\",\"default\":0}]},{\"type\":\"model\",\"name\":\"FastWrapper1\",\"properties\":[{\"name\":\"object\",\"kind\":\"Any\",\"default\":null},{\"name\":\"style\",\"kind\":\"Any\",\"default\":null}]},{\"type\":\"model\",\"name\":\"NotificationAreaBase1\",\"properties\":[{\"name\":\"position\",\"kind\":\"Any\",\"default\":\"bottom-right\"},{\"name\":\"_clear\",\"kind\":\"Any\",\"default\":0}]},{\"type\":\"model\",\"name\":\"NotificationArea1\",\"properties\":[{\"name\":\"notifications\",\"kind\":\"Any\",\"default\":[]},{\"name\":\"position\",\"kind\":\"Any\",\"default\":\"bottom-right\"},{\"name\":\"_clear\",\"kind\":\"Any\",\"default\":0},{\"name\":\"types\",\"kind\":\"Any\",\"default\":[{\"type\":\"map\",\"entries\":[[\"type\",\"warning\"],[\"background\",\"#ffc107\"],[\"icon\",{\"type\":\"map\",\"entries\":[[\"className\",\"fas fa-exclamation-triangle\"],[\"tagName\",\"i\"],[\"color\",\"white\"]]}]]},{\"type\":\"map\",\"entries\":[[\"type\",\"info\"],[\"background\",\"#007bff\"],[\"icon\",{\"type\":\"map\",\"entries\":[[\"className\",\"fas fa-info-circle\"],[\"tagName\",\"i\"],[\"color\",\"white\"]]}]]}]}]},{\"type\":\"model\",\"name\":\"Notification\",\"properties\":[{\"name\":\"background\",\"kind\":\"Any\",\"default\":null},{\"name\":\"duration\",\"kind\":\"Any\",\"default\":3000},{\"name\":\"icon\",\"kind\":\"Any\",\"default\":null},{\"name\":\"message\",\"kind\":\"Any\",\"default\":\"\"},{\"name\":\"notification_type\",\"kind\":\"Any\",\"default\":null},{\"name\":\"_destroyed\",\"kind\":\"Any\",\"default\":false}]},{\"type\":\"model\",\"name\":\"TemplateActions1\",\"properties\":[{\"name\":\"open_modal\",\"kind\":\"Any\",\"default\":0},{\"name\":\"close_modal\",\"kind\":\"Any\",\"default\":0}]},{\"type\":\"model\",\"name\":\"BootstrapTemplateActions1\",\"properties\":[{\"name\":\"open_modal\",\"kind\":\"Any\",\"default\":0},{\"name\":\"close_modal\",\"kind\":\"Any\",\"default\":0}]},{\"type\":\"model\",\"name\":\"MaterialTemplateActions1\",\"properties\":[{\"name\":\"open_modal\",\"kind\":\"Any\",\"default\":0},{\"name\":\"close_modal\",\"kind\":\"Any\",\"default\":0}]}],\"roots\":[{\"type\":\"object\",\"name\":\"Row\",\"id\":\"p3046\",\"attributes\":{\"name\":\"Row02757\",\"tags\":[\"embedded\"],\"stylesheets\":[\"\\n:host(.pn-loading.pn-arc):before, .pn-loading.pn-arc:before {\\n  background-image: url(\\\"data:image/svg+xml;base64,PHN2ZyB4bWxucz0iaHR0cDovL3d3dy53My5vcmcvMjAwMC9zdmciIHN0eWxlPSJtYXJnaW46IGF1dG87IGJhY2tncm91bmQ6IG5vbmU7IGRpc3BsYXk6IGJsb2NrOyBzaGFwZS1yZW5kZXJpbmc6IGF1dG87IiB2aWV3Qm94PSIwIDAgMTAwIDEwMCIgcHJlc2VydmVBc3BlY3RSYXRpbz0ieE1pZFlNaWQiPiAgPGNpcmNsZSBjeD0iNTAiIGN5PSI1MCIgZmlsbD0ibm9uZSIgc3Ryb2tlPSIjYzNjM2MzIiBzdHJva2Utd2lkdGg9IjEwIiByPSIzNSIgc3Ryb2tlLWRhc2hhcnJheT0iMTY0LjkzMzYxNDMxMzQ2NDE1IDU2Ljk3Nzg3MTQzNzgyMTM4Ij4gICAgPGFuaW1hdGVUcmFuc2Zvcm0gYXR0cmlidXRlTmFtZT0idHJhbnNmb3JtIiB0eXBlPSJyb3RhdGUiIHJlcGVhdENvdW50PSJpbmRlZmluaXRlIiBkdXI9IjFzIiB2YWx1ZXM9IjAgNTAgNTA7MzYwIDUwIDUwIiBrZXlUaW1lcz0iMDsxIj48L2FuaW1hdGVUcmFuc2Zvcm0+ICA8L2NpcmNsZT48L3N2Zz4=\\\");\\n  background-size: auto calc(min(50%, 400px));\\n}\",{\"type\":\"object\",\"name\":\"ImportedStyleSheet\",\"id\":\"p3049\",\"attributes\":{\"url\":\"https://cdn.holoviz.org/panel/1.1.0/dist/css/loading.css\"}},{\"type\":\"object\",\"name\":\"ImportedStyleSheet\",\"id\":\"p3137\",\"attributes\":{\"url\":\"https://cdn.holoviz.org/panel/1.1.0/dist/css/listpanel.css\"}},{\"type\":\"object\",\"name\":\"ImportedStyleSheet\",\"id\":\"p3047\",\"attributes\":{\"url\":\"https://cdn.holoviz.org/panel/1.1.0/dist/bundled/theme/default.css\"}},{\"type\":\"object\",\"name\":\"ImportedStyleSheet\",\"id\":\"p3048\",\"attributes\":{\"url\":\"https://cdn.holoviz.org/panel/1.1.0/dist/bundled/theme/native.css\"}}],\"min_width\":0,\"margin\":0,\"sizing_mode\":\"stretch_width\",\"align\":\"start\",\"children\":[{\"type\":\"object\",\"name\":\"Spacer\",\"id\":\"p3050\",\"attributes\":{\"name\":\"HSpacer02768\",\"stylesheets\":[\"\\n:host(.pn-loading.pn-arc):before, .pn-loading.pn-arc:before {\\n  background-image: url(\\\"data:image/svg+xml;base64,PHN2ZyB4bWxucz0iaHR0cDovL3d3dy53My5vcmcvMjAwMC9zdmciIHN0eWxlPSJtYXJnaW46IGF1dG87IGJhY2tncm91bmQ6IG5vbmU7IGRpc3BsYXk6IGJsb2NrOyBzaGFwZS1yZW5kZXJpbmc6IGF1dG87IiB2aWV3Qm94PSIwIDAgMTAwIDEwMCIgcHJlc2VydmVBc3BlY3RSYXRpbz0ieE1pZFlNaWQiPiAgPGNpcmNsZSBjeD0iNTAiIGN5PSI1MCIgZmlsbD0ibm9uZSIgc3Ryb2tlPSIjYzNjM2MzIiBzdHJva2Utd2lkdGg9IjEwIiByPSIzNSIgc3Ryb2tlLWRhc2hhcnJheT0iMTY0LjkzMzYxNDMxMzQ2NDE1IDU2Ljk3Nzg3MTQzNzgyMTM4Ij4gICAgPGFuaW1hdGVUcmFuc2Zvcm0gYXR0cmlidXRlTmFtZT0idHJhbnNmb3JtIiB0eXBlPSJyb3RhdGUiIHJlcGVhdENvdW50PSJpbmRlZmluaXRlIiBkdXI9IjFzIiB2YWx1ZXM9IjAgNTAgNTA7MzYwIDUwIDUwIiBrZXlUaW1lcz0iMDsxIj48L2FuaW1hdGVUcmFuc2Zvcm0+ICA8L2NpcmNsZT48L3N2Zz4=\\\");\\n  background-size: auto calc(min(50%, 400px));\\n}\",{\"id\":\"p3049\"},{\"id\":\"p3047\"},{\"id\":\"p3048\"}],\"margin\":0,\"sizing_mode\":\"stretch_width\",\"align\":\"start\"}},{\"type\":\"object\",\"name\":\"Figure\",\"id\":\"p3054\",\"attributes\":{\"width\":700,\"height\":300,\"margin\":[5,10],\"sizing_mode\":\"fixed\",\"align\":\"start\",\"x_range\":{\"type\":\"object\",\"name\":\"FactorRange\",\"id\":\"p3051\",\"attributes\":{\"tags\":[[[\"ticker\",\"ticker\",null]]],\"factors\":[\"DLR\",\"NKE\",\"XOM\",\"GOLD\",\"BTC-USD\",\"MRNA\",\"ETH-USD\",\"OSTK\"]}},\"y_range\":{\"type\":\"object\",\"name\":\"Range1d\",\"id\":\"p3052\",\"attributes\":{\"tags\":[[[\"volatility\",\"volatility\",null]]],\"end\":2.3146315,\"reset_start\":0.0,\"reset_end\":2.3146315}},\"x_scale\":{\"type\":\"object\",\"name\":\"CategoricalScale\",\"id\":\"p3066\"},\"y_scale\":{\"type\":\"object\",\"name\":\"LinearScale\",\"id\":\"p3068\"},\"title\":{\"type\":\"object\",\"name\":\"Title\",\"id\":\"p3057\",\"attributes\":{\"text\":\"VOLATILITY PRE-PANDEMIC\",\"text_color\":\"black\",\"text_font_size\":\"12pt\"}},\"renderers\":[{\"type\":\"object\",\"name\":\"GlyphRenderer\",\"id\":\"p3107\",\"attributes\":{\"data_source\":{\"type\":\"object\",\"name\":\"ColumnDataSource\",\"id\":\"p3097\",\"attributes\":{\"selected\":{\"type\":\"object\",\"name\":\"Selection\",\"id\":\"p3098\",\"attributes\":{\"indices\":[],\"line_indices\":[]}},\"selection_policy\":{\"type\":\"object\",\"name\":\"UnionRenderers\",\"id\":\"p3099\"},\"data\":{\"type\":\"map\",\"entries\":[[\"ticker\",[\"DLR\",\"NKE\",\"XOM\",\"GOLD\",\"BTC-USD\",\"MRNA\",\"ETH-USD\",\"OSTK\"]],[\"volatility\",{\"type\":\"ndarray\",\"array\":{\"type\":\"bytes\",\"data\":\"QZ5dvvXh5j8namluhTDoP0ZFnE6yVek/mS1ZFeGm6j+qQ26GG/D4P3Hiqx3Fefs/8+ZwrfZQAED+J3/3jloBQA==\"},\"shape\":[8],\"dtype\":\"float64\",\"order\":\"little\"}]]}}},\"view\":{\"type\":\"object\",\"name\":\"CDSView\",\"id\":\"p3108\",\"attributes\":{\"filter\":{\"type\":\"object\",\"name\":\"AllIndices\",\"id\":\"p3109\"}}},\"glyph\":{\"type\":\"object\",\"name\":\"VBar\",\"id\":\"p3104\",\"attributes\":{\"tags\":[\"apply_ranges\"],\"x\":{\"type\":\"field\",\"field\":\"ticker\"},\"width\":{\"type\":\"value\",\"value\":0.8},\"top\":{\"type\":\"field\",\"field\":\"volatility\"},\"fill_color\":{\"type\":\"value\",\"value\":\"#30a2da\"},\"hatch_color\":{\"type\":\"value\",\"value\":\"#30a2da\"}}},\"selection_glyph\":{\"type\":\"object\",\"name\":\"VBar\",\"id\":\"p3110\",\"attributes\":{\"tags\":[\"apply_ranges\"],\"x\":{\"type\":\"field\",\"field\":\"ticker\"},\"width\":{\"type\":\"value\",\"value\":0.8},\"bottom\":{\"type\":\"value\",\"value\":0},\"top\":{\"type\":\"field\",\"field\":\"volatility\"},\"line_color\":{\"type\":\"value\",\"value\":\"black\"},\"line_alpha\":{\"type\":\"value\",\"value\":1.0},\"line_width\":{\"type\":\"value\",\"value\":1},\"line_join\":{\"type\":\"value\",\"value\":\"bevel\"},\"line_cap\":{\"type\":\"value\",\"value\":\"butt\"},\"line_dash\":{\"type\":\"value\",\"value\":[]},\"line_dash_offset\":{\"type\":\"value\",\"value\":0},\"fill_color\":{\"type\":\"value\",\"value\":\"#30a2da\"},\"fill_alpha\":{\"type\":\"value\",\"value\":1.0},\"hatch_color\":{\"type\":\"value\",\"value\":\"#30a2da\"},\"hatch_alpha\":{\"type\":\"value\",\"value\":1.0},\"hatch_scale\":{\"type\":\"value\",\"value\":12.0},\"hatch_pattern\":{\"type\":\"value\",\"value\":null},\"hatch_weight\":{\"type\":\"value\",\"value\":1.0}}},\"nonselection_glyph\":{\"type\":\"object\",\"name\":\"VBar\",\"id\":\"p3105\",\"attributes\":{\"tags\":[\"apply_ranges\"],\"x\":{\"type\":\"field\",\"field\":\"ticker\"},\"width\":{\"type\":\"value\",\"value\":0.8},\"top\":{\"type\":\"field\",\"field\":\"volatility\"},\"line_alpha\":{\"type\":\"value\",\"value\":0.1},\"fill_color\":{\"type\":\"value\",\"value\":\"#30a2da\"},\"fill_alpha\":{\"type\":\"value\",\"value\":0.1},\"hatch_color\":{\"type\":\"value\",\"value\":\"#30a2da\"},\"hatch_alpha\":{\"type\":\"value\",\"value\":0.1}}},\"muted_glyph\":{\"type\":\"object\",\"name\":\"VBar\",\"id\":\"p3106\",\"attributes\":{\"tags\":[\"apply_ranges\"],\"x\":{\"type\":\"field\",\"field\":\"ticker\"},\"width\":{\"type\":\"value\",\"value\":0.8},\"top\":{\"type\":\"field\",\"field\":\"volatility\"},\"line_alpha\":{\"type\":\"value\",\"value\":0.2},\"fill_color\":{\"type\":\"value\",\"value\":\"#30a2da\"},\"fill_alpha\":{\"type\":\"value\",\"value\":0.2},\"hatch_color\":{\"type\":\"value\",\"value\":\"#30a2da\"},\"hatch_alpha\":{\"type\":\"value\",\"value\":0.2}}}}}],\"toolbar\":{\"type\":\"object\",\"name\":\"Toolbar\",\"id\":\"p3061\",\"attributes\":{\"tools\":[{\"type\":\"object\",\"name\":\"HoverTool\",\"id\":\"p3053\",\"attributes\":{\"tags\":[\"hv_created\"],\"renderers\":[{\"id\":\"p3107\"}],\"tooltips\":[[\"ticker\",\"@{ticker}\"],[\"volatility\",\"@{volatility}\"]]}},{\"type\":\"object\",\"name\":\"SaveTool\",\"id\":\"p3083\"},{\"type\":\"object\",\"name\":\"PanTool\",\"id\":\"p3084\"},{\"type\":\"object\",\"name\":\"WheelZoomTool\",\"id\":\"p3085\"},{\"type\":\"object\",\"name\":\"BoxZoomTool\",\"id\":\"p3086\",\"attributes\":{\"overlay\":{\"type\":\"object\",\"name\":\"BoxAnnotation\",\"id\":\"p3087\",\"attributes\":{\"syncable\":false,\"level\":\"overlay\",\"visible\":false,\"left_units\":\"canvas\",\"right_units\":\"canvas\",\"bottom_units\":\"canvas\",\"top_units\":\"canvas\",\"line_color\":\"black\",\"line_alpha\":1.0,\"line_width\":2,\"line_dash\":[4,4],\"fill_color\":\"lightgrey\",\"fill_alpha\":0.5}}}},{\"type\":\"object\",\"name\":\"ResetTool\",\"id\":\"p3088\"}],\"active_drag\":{\"id\":\"p3084\"},\"active_scroll\":{\"id\":\"p3085\"}}},\"left\":[{\"type\":\"object\",\"name\":\"LinearAxis\",\"id\":\"p3076\",\"attributes\":{\"ticker\":{\"type\":\"object\",\"name\":\"BasicTicker\",\"id\":\"p3078\",\"attributes\":{\"mantissas\":[1,2,5]}},\"formatter\":{\"type\":\"object\",\"name\":\"BasicTickFormatter\",\"id\":\"p3079\"},\"axis_label\":\"volatility\",\"major_label_policy\":{\"type\":\"object\",\"name\":\"AllLabels\",\"id\":\"p3077\"}}}],\"below\":[{\"type\":\"object\",\"name\":\"CategoricalAxis\",\"id\":\"p3070\",\"attributes\":{\"ticker\":{\"type\":\"object\",\"name\":\"CategoricalTicker\",\"id\":\"p3072\"},\"formatter\":{\"type\":\"object\",\"name\":\"CategoricalTickFormatter\",\"id\":\"p3073\"},\"axis_label\":\"Ticker\",\"major_label_orientation\":1.5707963267948966,\"major_label_policy\":{\"type\":\"object\",\"name\":\"AllLabels\",\"id\":\"p3071\"}}}],\"center\":[{\"type\":\"object\",\"name\":\"Grid\",\"id\":\"p3075\",\"attributes\":{\"axis\":{\"id\":\"p3070\"},\"grid_line_color\":null}},{\"type\":\"object\",\"name\":\"Grid\",\"id\":\"p3082\",\"attributes\":{\"dimension\":1,\"axis\":{\"id\":\"p3076\"},\"grid_line_color\":null}}],\"min_border_top\":10,\"min_border_bottom\":10,\"min_border_left\":10,\"min_border_right\":10,\"output_backend\":\"webgl\"}},{\"type\":\"object\",\"name\":\"Spacer\",\"id\":\"p3135\",\"attributes\":{\"name\":\"HSpacer02771\",\"stylesheets\":[\"\\n:host(.pn-loading.pn-arc):before, .pn-loading.pn-arc:before {\\n  background-image: url(\\\"data:image/svg+xml;base64,PHN2ZyB4bWxucz0iaHR0cDovL3d3dy53My5vcmcvMjAwMC9zdmciIHN0eWxlPSJtYXJnaW46IGF1dG87IGJhY2tncm91bmQ6IG5vbmU7IGRpc3BsYXk6IGJsb2NrOyBzaGFwZS1yZW5kZXJpbmc6IGF1dG87IiB2aWV3Qm94PSIwIDAgMTAwIDEwMCIgcHJlc2VydmVBc3BlY3RSYXRpbz0ieE1pZFlNaWQiPiAgPGNpcmNsZSBjeD0iNTAiIGN5PSI1MCIgZmlsbD0ibm9uZSIgc3Ryb2tlPSIjYzNjM2MzIiBzdHJva2Utd2lkdGg9IjEwIiByPSIzNSIgc3Ryb2tlLWRhc2hhcnJheT0iMTY0LjkzMzYxNDMxMzQ2NDE1IDU2Ljk3Nzg3MTQzNzgyMTM4Ij4gICAgPGFuaW1hdGVUcmFuc2Zvcm0gYXR0cmlidXRlTmFtZT0idHJhbnNmb3JtIiB0eXBlPSJyb3RhdGUiIHJlcGVhdENvdW50PSJpbmRlZmluaXRlIiBkdXI9IjFzIiB2YWx1ZXM9IjAgNTAgNTA7MzYwIDUwIDUwIiBrZXlUaW1lcz0iMDsxIj48L2FuaW1hdGVUcmFuc2Zvcm0+ICA8L2NpcmNsZT48L3N2Zz4=\\\");\\n  background-size: auto calc(min(50%, 400px));\\n}\",{\"id\":\"p3049\"},{\"id\":\"p3047\"},{\"id\":\"p3048\"}],\"margin\":0,\"sizing_mode\":\"stretch_width\",\"align\":\"start\"}}]}}],\"callbacks\":{\"type\":\"map\"}}};\n",
       "  var render_items = [{\"docid\":\"f2f80de4-3f33-4dbe-8ef4-acba8d898531\",\"roots\":{\"p3046\":\"dda60d78-082e-4125-ad58-c0fb4ce13a06\"},\"root_ids\":[\"p3046\"]}];\n",
       "  var docs = Object.values(docs_json)\n",
       "  if (!docs) {\n",
       "    return\n",
       "  }\n",
       "  const py_version = docs[0].version.replace('rc', '-rc.')\n",
       "  const is_dev = py_version.indexOf(\"+\") !== -1 || py_version.indexOf(\"-\") !== -1\n",
       "  function embed_document(root) {\n",
       "    var Bokeh = get_bokeh(root)\n",
       "    Bokeh.embed.embed_items_notebook(docs_json, render_items);\n",
       "    for (const render_item of render_items) {\n",
       "      for (const root_id of render_item.root_ids) {\n",
       "\tconst id_el = document.getElementById(root_id)\n",
       "\tif (id_el.children.length && (id_el.children[0].className === 'bk-root')) {\n",
       "\t  const root_el = id_el.children[0]\n",
       "\t  root_el.id = root_el.id + '-rendered'\n",
       "\t}\n",
       "      }\n",
       "    }\n",
       "  }\n",
       "  function get_bokeh(root) {\n",
       "    if (root.Bokeh === undefined) {\n",
       "      return null\n",
       "    } else if (root.Bokeh.version !== py_version && !is_dev) {\n",
       "      if (root.Bokeh.versions === undefined || !root.Bokeh.versions.has(py_version)) {\n",
       "\treturn null\n",
       "      }\n",
       "      return root.Bokeh.versions.get(py_version);\n",
       "    } else if (root.Bokeh.version === py_version) {\n",
       "      return root.Bokeh\n",
       "    }\n",
       "    return null\n",
       "  }\n",
       "  function is_loaded(root) {\n",
       "    var Bokeh = get_bokeh(root)\n",
       "    return (Bokeh != null && Bokeh.Panel !== undefined)\n",
       "  }\n",
       "  if (is_loaded(root)) {\n",
       "    embed_document(root);\n",
       "  } else {\n",
       "    var attempts = 0;\n",
       "    var timer = setInterval(function(root) {\n",
       "      if (is_loaded(root)) {\n",
       "        clearInterval(timer);\n",
       "        embed_document(root);\n",
       "      } else if (document.readyState == \"complete\") {\n",
       "        attempts++;\n",
       "        if (attempts > 200) {\n",
       "          clearInterval(timer);\n",
       "\t  var Bokeh = get_bokeh(root)\n",
       "\t  if (Bokeh == null || Bokeh.Panel == null) {\n",
       "            console.warn(\"Panel: ERROR: Unable to run Panel code because Bokeh or Panel library is missing\");\n",
       "\t  } else {\n",
       "\t    console.warn(\"Panel: WARNING: Attempting to render but not all required libraries could be resolved.\")\n",
       "\t    embed_document(root)\n",
       "\t  }\n",
       "        }\n",
       "      }\n",
       "    }, 25, root)\n",
       "  }\n",
       "})(window);</script>"
      ],
      "text/plain": [
       ":Bars   [ticker]   (volatility)"
      ]
     },
     "execution_count": 117,
     "metadata": {
      "application/vnd.holoviews_exec.v0+json": {
       "id": "p3046"
      }
     },
     "output_type": "execute_result"
    }
   ],
   "source": [
    "# Volatility over the pre pandemic\n",
    "\n",
    "volatility_bar_pre = pd.DataFrame(\n",
    "    {\n",
    "        \"ticker\": ['XOM','DLR', 'NKE',  'GOLD', 'MRNA','BTC-USD',  'ETH-USD', 'OSTK'],\n",
    "        \"volatility\": (0.185894,0.198814,0.207388,0.312919,0.609061,0.694175,0.764582,1.009199),\n",
    "    }\n",
    ")\n",
    "\n",
    "\n",
    "volatility_bar.hvplot.bar(\n",
    "    x=\"ticker\", \n",
    "    y=\"volatility\", \n",
    "    xlabel=\"Ticker\", \n",
    "    ylabel=\"volatility\", \n",
    "    title = \"VOLATILITY PRE-PANDEMIC\",\n",
    "    rot=90\n",
    ")"
   ]
  },
  {
   "cell_type": "markdown",
   "id": "bd6a8276-4a20-41d9-9a3c-c3c76e853997",
   "metadata": {},
   "source": [
    "# Pandemic Period 01/01/2020 to 12/31/2021"
   ]
  },
  {
   "cell_type": "markdown",
   "id": "68db4c8a-c553-4279-9e34-7e43eb846352",
   "metadata": {},
   "source": [
    "###### Standard deviation "
   ]
  },
  {
   "cell_type": "code",
   "execution_count": 125,
   "id": "dbf3a7ef-650d-476c-8d28-ea4252c9104a",
   "metadata": {
    "tags": []
   },
   "outputs": [
    {
     "data": {
      "text/plain": [
       "Close  DLR        0.021729\n",
       "       NKE        0.022277\n",
       "       GOLD       0.025311\n",
       "       XOM        0.027095\n",
       "       BTC-USD    0.047563\n",
       "       MRNA       0.057583\n",
       "       ETH-USD    0.064858\n",
       "       OSTK       0.067465\n",
       "dtype: float64"
      ]
     },
     "execution_count": 125,
     "metadata": {},
     "output_type": "execute_result"
    }
   ],
   "source": [
    "#standard deviation(STD) of DAILY RETURNS PANDEMIC\n",
    "daily_returns_all_data_pandemic = daily_returns.loc['2020-01-01':'2021-12-31']\n",
    "daily_returns_all_data_pandemic.std().sort_values(ascending=True)"
   ]
  },
  {
   "cell_type": "code",
   "execution_count": 128,
   "id": "12f832f4-cd3d-4d96-a351-a1f36395d163",
   "metadata": {
    "tags": []
   },
   "outputs": [
    {
     "data": {},
     "metadata": {},
     "output_type": "display_data"
    },
    {
     "data": {
      "application/vnd.holoviews_exec.v0+json": "",
      "text/html": [
       "<div id='p3484'>\n",
       "  <div id=\"b4b46003-9acd-41c9-a860-857ba3105c02\" data-root-id=\"p3484\" style=\"display: contents;\"></div>\n",
       "</div>\n",
       "<script type=\"application/javascript\">(function(root) {\n",
       "  var docs_json = {\"9f66fe05-b775-4d6f-8c4b-fef7851f1634\":{\"version\":\"3.1.1\",\"title\":\"Bokeh Application\",\"defs\":[{\"type\":\"model\",\"name\":\"ReactiveHTML1\"},{\"type\":\"model\",\"name\":\"FlexBox1\",\"properties\":[{\"name\":\"align_content\",\"kind\":\"Any\",\"default\":\"flex-start\"},{\"name\":\"align_items\",\"kind\":\"Any\",\"default\":\"flex-start\"},{\"name\":\"flex_direction\",\"kind\":\"Any\",\"default\":\"row\"},{\"name\":\"flex_wrap\",\"kind\":\"Any\",\"default\":\"wrap\"},{\"name\":\"justify_content\",\"kind\":\"Any\",\"default\":\"flex-start\"}]},{\"type\":\"model\",\"name\":\"FloatPanel1\",\"properties\":[{\"name\":\"config\",\"kind\":\"Any\",\"default\":{\"type\":\"map\"}},{\"name\":\"contained\",\"kind\":\"Any\",\"default\":true},{\"name\":\"position\",\"kind\":\"Any\",\"default\":\"right-top\"},{\"name\":\"offsetx\",\"kind\":\"Any\",\"default\":null},{\"name\":\"offsety\",\"kind\":\"Any\",\"default\":null},{\"name\":\"theme\",\"kind\":\"Any\",\"default\":\"primary\"},{\"name\":\"status\",\"kind\":\"Any\",\"default\":\"normalized\"}]},{\"type\":\"model\",\"name\":\"GridStack1\",\"properties\":[{\"name\":\"mode\",\"kind\":\"Any\",\"default\":\"warn\"},{\"name\":\"ncols\",\"kind\":\"Any\",\"default\":null},{\"name\":\"nrows\",\"kind\":\"Any\",\"default\":null},{\"name\":\"allow_resize\",\"kind\":\"Any\",\"default\":true},{\"name\":\"allow_drag\",\"kind\":\"Any\",\"default\":true},{\"name\":\"state\",\"kind\":\"Any\",\"default\":[]}]},{\"type\":\"model\",\"name\":\"drag1\",\"properties\":[{\"name\":\"slider_width\",\"kind\":\"Any\",\"default\":5},{\"name\":\"slider_color\",\"kind\":\"Any\",\"default\":\"black\"},{\"name\":\"value\",\"kind\":\"Any\",\"default\":50}]},{\"type\":\"model\",\"name\":\"click1\",\"properties\":[{\"name\":\"terminal_output\",\"kind\":\"Any\",\"default\":\"\"},{\"name\":\"debug_name\",\"kind\":\"Any\",\"default\":\"\"},{\"name\":\"clears\",\"kind\":\"Any\",\"default\":0}]},{\"type\":\"model\",\"name\":\"FastWrapper1\",\"properties\":[{\"name\":\"object\",\"kind\":\"Any\",\"default\":null},{\"name\":\"style\",\"kind\":\"Any\",\"default\":null}]},{\"type\":\"model\",\"name\":\"NotificationAreaBase1\",\"properties\":[{\"name\":\"position\",\"kind\":\"Any\",\"default\":\"bottom-right\"},{\"name\":\"_clear\",\"kind\":\"Any\",\"default\":0}]},{\"type\":\"model\",\"name\":\"NotificationArea1\",\"properties\":[{\"name\":\"notifications\",\"kind\":\"Any\",\"default\":[]},{\"name\":\"position\",\"kind\":\"Any\",\"default\":\"bottom-right\"},{\"name\":\"_clear\",\"kind\":\"Any\",\"default\":0},{\"name\":\"types\",\"kind\":\"Any\",\"default\":[{\"type\":\"map\",\"entries\":[[\"type\",\"warning\"],[\"background\",\"#ffc107\"],[\"icon\",{\"type\":\"map\",\"entries\":[[\"className\",\"fas fa-exclamation-triangle\"],[\"tagName\",\"i\"],[\"color\",\"white\"]]}]]},{\"type\":\"map\",\"entries\":[[\"type\",\"info\"],[\"background\",\"#007bff\"],[\"icon\",{\"type\":\"map\",\"entries\":[[\"className\",\"fas fa-info-circle\"],[\"tagName\",\"i\"],[\"color\",\"white\"]]}]]}]}]},{\"type\":\"model\",\"name\":\"Notification\",\"properties\":[{\"name\":\"background\",\"kind\":\"Any\",\"default\":null},{\"name\":\"duration\",\"kind\":\"Any\",\"default\":3000},{\"name\":\"icon\",\"kind\":\"Any\",\"default\":null},{\"name\":\"message\",\"kind\":\"Any\",\"default\":\"\"},{\"name\":\"notification_type\",\"kind\":\"Any\",\"default\":null},{\"name\":\"_destroyed\",\"kind\":\"Any\",\"default\":false}]},{\"type\":\"model\",\"name\":\"TemplateActions1\",\"properties\":[{\"name\":\"open_modal\",\"kind\":\"Any\",\"default\":0},{\"name\":\"close_modal\",\"kind\":\"Any\",\"default\":0}]},{\"type\":\"model\",\"name\":\"BootstrapTemplateActions1\",\"properties\":[{\"name\":\"open_modal\",\"kind\":\"Any\",\"default\":0},{\"name\":\"close_modal\",\"kind\":\"Any\",\"default\":0}]},{\"type\":\"model\",\"name\":\"MaterialTemplateActions1\",\"properties\":[{\"name\":\"open_modal\",\"kind\":\"Any\",\"default\":0},{\"name\":\"close_modal\",\"kind\":\"Any\",\"default\":0}]}],\"roots\":[{\"type\":\"object\",\"name\":\"Row\",\"id\":\"p3484\",\"attributes\":{\"name\":\"Row03160\",\"tags\":[\"embedded\"],\"stylesheets\":[\"\\n:host(.pn-loading.pn-arc):before, .pn-loading.pn-arc:before {\\n  background-image: url(\\\"data:image/svg+xml;base64,PHN2ZyB4bWxucz0iaHR0cDovL3d3dy53My5vcmcvMjAwMC9zdmciIHN0eWxlPSJtYXJnaW46IGF1dG87IGJhY2tncm91bmQ6IG5vbmU7IGRpc3BsYXk6IGJsb2NrOyBzaGFwZS1yZW5kZXJpbmc6IGF1dG87IiB2aWV3Qm94PSIwIDAgMTAwIDEwMCIgcHJlc2VydmVBc3BlY3RSYXRpbz0ieE1pZFlNaWQiPiAgPGNpcmNsZSBjeD0iNTAiIGN5PSI1MCIgZmlsbD0ibm9uZSIgc3Ryb2tlPSIjYzNjM2MzIiBzdHJva2Utd2lkdGg9IjEwIiByPSIzNSIgc3Ryb2tlLWRhc2hhcnJheT0iMTY0LjkzMzYxNDMxMzQ2NDE1IDU2Ljk3Nzg3MTQzNzgyMTM4Ij4gICAgPGFuaW1hdGVUcmFuc2Zvcm0gYXR0cmlidXRlTmFtZT0idHJhbnNmb3JtIiB0eXBlPSJyb3RhdGUiIHJlcGVhdENvdW50PSJpbmRlZmluaXRlIiBkdXI9IjFzIiB2YWx1ZXM9IjAgNTAgNTA7MzYwIDUwIDUwIiBrZXlUaW1lcz0iMDsxIj48L2FuaW1hdGVUcmFuc2Zvcm0+ICA8L2NpcmNsZT48L3N2Zz4=\\\");\\n  background-size: auto calc(min(50%, 400px));\\n}\",{\"type\":\"object\",\"name\":\"ImportedStyleSheet\",\"id\":\"p3487\",\"attributes\":{\"url\":\"https://cdn.holoviz.org/panel/1.1.0/dist/css/loading.css\"}},{\"type\":\"object\",\"name\":\"ImportedStyleSheet\",\"id\":\"p3575\",\"attributes\":{\"url\":\"https://cdn.holoviz.org/panel/1.1.0/dist/css/listpanel.css\"}},{\"type\":\"object\",\"name\":\"ImportedStyleSheet\",\"id\":\"p3485\",\"attributes\":{\"url\":\"https://cdn.holoviz.org/panel/1.1.0/dist/bundled/theme/default.css\"}},{\"type\":\"object\",\"name\":\"ImportedStyleSheet\",\"id\":\"p3486\",\"attributes\":{\"url\":\"https://cdn.holoviz.org/panel/1.1.0/dist/bundled/theme/native.css\"}}],\"min_width\":0,\"margin\":0,\"sizing_mode\":\"stretch_width\",\"align\":\"start\",\"children\":[{\"type\":\"object\",\"name\":\"Spacer\",\"id\":\"p3488\",\"attributes\":{\"name\":\"HSpacer03171\",\"stylesheets\":[\"\\n:host(.pn-loading.pn-arc):before, .pn-loading.pn-arc:before {\\n  background-image: url(\\\"data:image/svg+xml;base64,PHN2ZyB4bWxucz0iaHR0cDovL3d3dy53My5vcmcvMjAwMC9zdmciIHN0eWxlPSJtYXJnaW46IGF1dG87IGJhY2tncm91bmQ6IG5vbmU7IGRpc3BsYXk6IGJsb2NrOyBzaGFwZS1yZW5kZXJpbmc6IGF1dG87IiB2aWV3Qm94PSIwIDAgMTAwIDEwMCIgcHJlc2VydmVBc3BlY3RSYXRpbz0ieE1pZFlNaWQiPiAgPGNpcmNsZSBjeD0iNTAiIGN5PSI1MCIgZmlsbD0ibm9uZSIgc3Ryb2tlPSIjYzNjM2MzIiBzdHJva2Utd2lkdGg9IjEwIiByPSIzNSIgc3Ryb2tlLWRhc2hhcnJheT0iMTY0LjkzMzYxNDMxMzQ2NDE1IDU2Ljk3Nzg3MTQzNzgyMTM4Ij4gICAgPGFuaW1hdGVUcmFuc2Zvcm0gYXR0cmlidXRlTmFtZT0idHJhbnNmb3JtIiB0eXBlPSJyb3RhdGUiIHJlcGVhdENvdW50PSJpbmRlZmluaXRlIiBkdXI9IjFzIiB2YWx1ZXM9IjAgNTAgNTA7MzYwIDUwIDUwIiBrZXlUaW1lcz0iMDsxIj48L2FuaW1hdGVUcmFuc2Zvcm0+ICA8L2NpcmNsZT48L3N2Zz4=\\\");\\n  background-size: auto calc(min(50%, 400px));\\n}\",{\"id\":\"p3487\"},{\"id\":\"p3485\"},{\"id\":\"p3486\"}],\"margin\":0,\"sizing_mode\":\"stretch_width\",\"align\":\"start\"}},{\"type\":\"object\",\"name\":\"Figure\",\"id\":\"p3492\",\"attributes\":{\"width\":700,\"height\":300,\"margin\":[5,10],\"sizing_mode\":\"fixed\",\"align\":\"start\",\"x_range\":{\"type\":\"object\",\"name\":\"FactorRange\",\"id\":\"p3489\",\"attributes\":{\"tags\":[[[\"ticker\",\"ticker\",null]]],\"factors\":[\"DLR\",\"NKE\",\"GOLD\",\"XOM\",\"BTC-USD\",\"MRNA\",\"ETH-USD\",\"OSTK\"]}},\"y_range\":{\"type\":\"object\",\"name\":\"Range1d\",\"id\":\"p3490\",\"attributes\":{\"tags\":[[[\"standard deviation\",\"standard deviation\",null]]],\"end\":0.0720386,\"reset_start\":0.0,\"reset_end\":0.0720386}},\"x_scale\":{\"type\":\"object\",\"name\":\"CategoricalScale\",\"id\":\"p3504\"},\"y_scale\":{\"type\":\"object\",\"name\":\"LinearScale\",\"id\":\"p3506\"},\"title\":{\"type\":\"object\",\"name\":\"Title\",\"id\":\"p3495\",\"attributes\":{\"text\":\"STANDARD DEVIATION PANDEMIC TIME\",\"text_color\":\"black\",\"text_font_size\":\"12pt\"}},\"renderers\":[{\"type\":\"object\",\"name\":\"GlyphRenderer\",\"id\":\"p3545\",\"attributes\":{\"data_source\":{\"type\":\"object\",\"name\":\"ColumnDataSource\",\"id\":\"p3535\",\"attributes\":{\"selected\":{\"type\":\"object\",\"name\":\"Selection\",\"id\":\"p3536\",\"attributes\":{\"indices\":[],\"line_indices\":[]}},\"selection_policy\":{\"type\":\"object\",\"name\":\"UnionRenderers\",\"id\":\"p3537\"},\"data\":{\"type\":\"map\",\"entries\":[[\"ticker\",[\"DLR\",\"NKE\",\"GOLD\",\"XOM\",\"BTC-USD\",\"MRNA\",\"ETH-USD\",\"OSTK\"]],[\"standard_deviation\",{\"type\":\"ndarray\",\"array\":{\"type\":\"bytes\",\"data\":\"YMd/gSBAlj8j3c8pyM+WP6iN6nQg65k/5lyKq8q+mz/d0f9yLVqoP2lznNuEe60/ukvirIiasD9o6J/gYkWxPw==\"},\"shape\":[8],\"dtype\":\"float64\",\"order\":\"little\"}]]}}},\"view\":{\"type\":\"object\",\"name\":\"CDSView\",\"id\":\"p3546\",\"attributes\":{\"filter\":{\"type\":\"object\",\"name\":\"AllIndices\",\"id\":\"p3547\"}}},\"glyph\":{\"type\":\"object\",\"name\":\"VBar\",\"id\":\"p3542\",\"attributes\":{\"tags\":[\"apply_ranges\"],\"x\":{\"type\":\"field\",\"field\":\"ticker\"},\"width\":{\"type\":\"value\",\"value\":0.8},\"top\":{\"type\":\"field\",\"field\":\"standard_deviation\"},\"fill_color\":{\"type\":\"value\",\"value\":\"#30a2da\"},\"hatch_color\":{\"type\":\"value\",\"value\":\"#30a2da\"}}},\"selection_glyph\":{\"type\":\"object\",\"name\":\"VBar\",\"id\":\"p3548\",\"attributes\":{\"tags\":[\"apply_ranges\"],\"x\":{\"type\":\"field\",\"field\":\"ticker\"},\"width\":{\"type\":\"value\",\"value\":0.8},\"bottom\":{\"type\":\"value\",\"value\":0},\"top\":{\"type\":\"field\",\"field\":\"standard_deviation\"},\"line_color\":{\"type\":\"value\",\"value\":\"black\"},\"line_alpha\":{\"type\":\"value\",\"value\":1.0},\"line_width\":{\"type\":\"value\",\"value\":1},\"line_join\":{\"type\":\"value\",\"value\":\"bevel\"},\"line_cap\":{\"type\":\"value\",\"value\":\"butt\"},\"line_dash\":{\"type\":\"value\",\"value\":[]},\"line_dash_offset\":{\"type\":\"value\",\"value\":0},\"fill_color\":{\"type\":\"value\",\"value\":\"#30a2da\"},\"fill_alpha\":{\"type\":\"value\",\"value\":1.0},\"hatch_color\":{\"type\":\"value\",\"value\":\"#30a2da\"},\"hatch_alpha\":{\"type\":\"value\",\"value\":1.0},\"hatch_scale\":{\"type\":\"value\",\"value\":12.0},\"hatch_pattern\":{\"type\":\"value\",\"value\":null},\"hatch_weight\":{\"type\":\"value\",\"value\":1.0}}},\"nonselection_glyph\":{\"type\":\"object\",\"name\":\"VBar\",\"id\":\"p3543\",\"attributes\":{\"tags\":[\"apply_ranges\"],\"x\":{\"type\":\"field\",\"field\":\"ticker\"},\"width\":{\"type\":\"value\",\"value\":0.8},\"top\":{\"type\":\"field\",\"field\":\"standard_deviation\"},\"line_alpha\":{\"type\":\"value\",\"value\":0.1},\"fill_color\":{\"type\":\"value\",\"value\":\"#30a2da\"},\"fill_alpha\":{\"type\":\"value\",\"value\":0.1},\"hatch_color\":{\"type\":\"value\",\"value\":\"#30a2da\"},\"hatch_alpha\":{\"type\":\"value\",\"value\":0.1}}},\"muted_glyph\":{\"type\":\"object\",\"name\":\"VBar\",\"id\":\"p3544\",\"attributes\":{\"tags\":[\"apply_ranges\"],\"x\":{\"type\":\"field\",\"field\":\"ticker\"},\"width\":{\"type\":\"value\",\"value\":0.8},\"top\":{\"type\":\"field\",\"field\":\"standard_deviation\"},\"line_alpha\":{\"type\":\"value\",\"value\":0.2},\"fill_color\":{\"type\":\"value\",\"value\":\"#30a2da\"},\"fill_alpha\":{\"type\":\"value\",\"value\":0.2},\"hatch_color\":{\"type\":\"value\",\"value\":\"#30a2da\"},\"hatch_alpha\":{\"type\":\"value\",\"value\":0.2}}}}}],\"toolbar\":{\"type\":\"object\",\"name\":\"Toolbar\",\"id\":\"p3499\",\"attributes\":{\"tools\":[{\"type\":\"object\",\"name\":\"HoverTool\",\"id\":\"p3491\",\"attributes\":{\"tags\":[\"hv_created\"],\"renderers\":[{\"id\":\"p3545\"}],\"tooltips\":[[\"ticker\",\"@{ticker}\"],[\"standard deviation\",\"@{standard_deviation}\"]]}},{\"type\":\"object\",\"name\":\"SaveTool\",\"id\":\"p3521\"},{\"type\":\"object\",\"name\":\"PanTool\",\"id\":\"p3522\"},{\"type\":\"object\",\"name\":\"WheelZoomTool\",\"id\":\"p3523\"},{\"type\":\"object\",\"name\":\"BoxZoomTool\",\"id\":\"p3524\",\"attributes\":{\"overlay\":{\"type\":\"object\",\"name\":\"BoxAnnotation\",\"id\":\"p3525\",\"attributes\":{\"syncable\":false,\"level\":\"overlay\",\"visible\":false,\"left_units\":\"canvas\",\"right_units\":\"canvas\",\"bottom_units\":\"canvas\",\"top_units\":\"canvas\",\"line_color\":\"black\",\"line_alpha\":1.0,\"line_width\":2,\"line_dash\":[4,4],\"fill_color\":\"lightgrey\",\"fill_alpha\":0.5}}}},{\"type\":\"object\",\"name\":\"ResetTool\",\"id\":\"p3526\"}],\"active_drag\":{\"id\":\"p3522\"},\"active_scroll\":{\"id\":\"p3523\"}}},\"left\":[{\"type\":\"object\",\"name\":\"LinearAxis\",\"id\":\"p3514\",\"attributes\":{\"ticker\":{\"type\":\"object\",\"name\":\"BasicTicker\",\"id\":\"p3516\",\"attributes\":{\"mantissas\":[1,2,5]}},\"formatter\":{\"type\":\"object\",\"name\":\"BasicTickFormatter\",\"id\":\"p3517\"},\"axis_label\":\"standard deviation\",\"major_label_policy\":{\"type\":\"object\",\"name\":\"AllLabels\",\"id\":\"p3515\"}}}],\"below\":[{\"type\":\"object\",\"name\":\"CategoricalAxis\",\"id\":\"p3508\",\"attributes\":{\"ticker\":{\"type\":\"object\",\"name\":\"CategoricalTicker\",\"id\":\"p3510\"},\"formatter\":{\"type\":\"object\",\"name\":\"CategoricalTickFormatter\",\"id\":\"p3511\"},\"axis_label\":\"Ticker\",\"major_label_orientation\":1.5707963267948966,\"major_label_policy\":{\"type\":\"object\",\"name\":\"AllLabels\",\"id\":\"p3509\"}}}],\"center\":[{\"type\":\"object\",\"name\":\"Grid\",\"id\":\"p3513\",\"attributes\":{\"axis\":{\"id\":\"p3508\"},\"grid_line_color\":null}},{\"type\":\"object\",\"name\":\"Grid\",\"id\":\"p3520\",\"attributes\":{\"dimension\":1,\"axis\":{\"id\":\"p3514\"},\"grid_line_color\":null}}],\"min_border_top\":10,\"min_border_bottom\":10,\"min_border_left\":10,\"min_border_right\":10,\"output_backend\":\"webgl\"}},{\"type\":\"object\",\"name\":\"Spacer\",\"id\":\"p3573\",\"attributes\":{\"name\":\"HSpacer03174\",\"stylesheets\":[\"\\n:host(.pn-loading.pn-arc):before, .pn-loading.pn-arc:before {\\n  background-image: url(\\\"data:image/svg+xml;base64,PHN2ZyB4bWxucz0iaHR0cDovL3d3dy53My5vcmcvMjAwMC9zdmciIHN0eWxlPSJtYXJnaW46IGF1dG87IGJhY2tncm91bmQ6IG5vbmU7IGRpc3BsYXk6IGJsb2NrOyBzaGFwZS1yZW5kZXJpbmc6IGF1dG87IiB2aWV3Qm94PSIwIDAgMTAwIDEwMCIgcHJlc2VydmVBc3BlY3RSYXRpbz0ieE1pZFlNaWQiPiAgPGNpcmNsZSBjeD0iNTAiIGN5PSI1MCIgZmlsbD0ibm9uZSIgc3Ryb2tlPSIjYzNjM2MzIiBzdHJva2Utd2lkdGg9IjEwIiByPSIzNSIgc3Ryb2tlLWRhc2hhcnJheT0iMTY0LjkzMzYxNDMxMzQ2NDE1IDU2Ljk3Nzg3MTQzNzgyMTM4Ij4gICAgPGFuaW1hdGVUcmFuc2Zvcm0gYXR0cmlidXRlTmFtZT0idHJhbnNmb3JtIiB0eXBlPSJyb3RhdGUiIHJlcGVhdENvdW50PSJpbmRlZmluaXRlIiBkdXI9IjFzIiB2YWx1ZXM9IjAgNTAgNTA7MzYwIDUwIDUwIiBrZXlUaW1lcz0iMDsxIj48L2FuaW1hdGVUcmFuc2Zvcm0+ICA8L2NpcmNsZT48L3N2Zz4=\\\");\\n  background-size: auto calc(min(50%, 400px));\\n}\",{\"id\":\"p3487\"},{\"id\":\"p3485\"},{\"id\":\"p3486\"}],\"margin\":0,\"sizing_mode\":\"stretch_width\",\"align\":\"start\"}}]}}],\"callbacks\":{\"type\":\"map\"}}};\n",
       "  var render_items = [{\"docid\":\"9f66fe05-b775-4d6f-8c4b-fef7851f1634\",\"roots\":{\"p3484\":\"b4b46003-9acd-41c9-a860-857ba3105c02\"},\"root_ids\":[\"p3484\"]}];\n",
       "  var docs = Object.values(docs_json)\n",
       "  if (!docs) {\n",
       "    return\n",
       "  }\n",
       "  const py_version = docs[0].version.replace('rc', '-rc.')\n",
       "  const is_dev = py_version.indexOf(\"+\") !== -1 || py_version.indexOf(\"-\") !== -1\n",
       "  function embed_document(root) {\n",
       "    var Bokeh = get_bokeh(root)\n",
       "    Bokeh.embed.embed_items_notebook(docs_json, render_items);\n",
       "    for (const render_item of render_items) {\n",
       "      for (const root_id of render_item.root_ids) {\n",
       "\tconst id_el = document.getElementById(root_id)\n",
       "\tif (id_el.children.length && (id_el.children[0].className === 'bk-root')) {\n",
       "\t  const root_el = id_el.children[0]\n",
       "\t  root_el.id = root_el.id + '-rendered'\n",
       "\t}\n",
       "      }\n",
       "    }\n",
       "  }\n",
       "  function get_bokeh(root) {\n",
       "    if (root.Bokeh === undefined) {\n",
       "      return null\n",
       "    } else if (root.Bokeh.version !== py_version && !is_dev) {\n",
       "      if (root.Bokeh.versions === undefined || !root.Bokeh.versions.has(py_version)) {\n",
       "\treturn null\n",
       "      }\n",
       "      return root.Bokeh.versions.get(py_version);\n",
       "    } else if (root.Bokeh.version === py_version) {\n",
       "      return root.Bokeh\n",
       "    }\n",
       "    return null\n",
       "  }\n",
       "  function is_loaded(root) {\n",
       "    var Bokeh = get_bokeh(root)\n",
       "    return (Bokeh != null && Bokeh.Panel !== undefined)\n",
       "  }\n",
       "  if (is_loaded(root)) {\n",
       "    embed_document(root);\n",
       "  } else {\n",
       "    var attempts = 0;\n",
       "    var timer = setInterval(function(root) {\n",
       "      if (is_loaded(root)) {\n",
       "        clearInterval(timer);\n",
       "        embed_document(root);\n",
       "      } else if (document.readyState == \"complete\") {\n",
       "        attempts++;\n",
       "        if (attempts > 200) {\n",
       "          clearInterval(timer);\n",
       "\t  var Bokeh = get_bokeh(root)\n",
       "\t  if (Bokeh == null || Bokeh.Panel == null) {\n",
       "            console.warn(\"Panel: ERROR: Unable to run Panel code because Bokeh or Panel library is missing\");\n",
       "\t  } else {\n",
       "\t    console.warn(\"Panel: WARNING: Attempting to render but not all required libraries could be resolved.\")\n",
       "\t    embed_document(root)\n",
       "\t  }\n",
       "        }\n",
       "      }\n",
       "    }, 25, root)\n",
       "  }\n",
       "})(window);</script>"
      ],
      "text/plain": [
       ":Bars   [ticker]   (standard deviation)"
      ]
     },
     "execution_count": 128,
     "metadata": {
      "application/vnd.holoviews_exec.v0+json": {
       "id": "p3484"
      }
     },
     "output_type": "execute_result"
    }
   ],
   "source": [
    "std_bar_pandemic = pd.DataFrame(\n",
    "    {\n",
    "        \"ticker\": ['DLR', 'NKE', 'GOLD', 'XOM', 'BTC-USD', 'MRNA','ETH-USD','OSTK'],\n",
    "        \"standard deviation\": (0.021729, 0.022277, 0.025311, 0.027095, 0.047563, 0.057583, 0.064858, 0.067465 ),\n",
    "    }\n",
    ")\n",
    "\n",
    "\n",
    "std_bar_pandemic.hvplot.bar(\n",
    "    x=\"ticker\", \n",
    "    y=\"standard deviation\", \n",
    "    xlabel=\"Ticker\", \n",
    "    ylabel=\"standard deviation\", \n",
    "    title = \"STANDARD DEVIATION PANDEMIC TIME\",\n",
    "    rot=90\n",
    ")"
   ]
  },
  {
   "cell_type": "markdown",
   "id": "e71f6a4a-b6e2-4f60-97da-ebbfd3a01ba6",
   "metadata": {},
   "source": [
    "##### Correlation"
   ]
  },
  {
   "cell_type": "code",
   "execution_count": 119,
   "id": "f2ebab4f-72f4-4207-9b84-9824b657e6ed",
   "metadata": {
    "tags": []
   },
   "outputs": [
    {
     "data": {
      "text/html": [
       "<div>\n",
       "<style scoped>\n",
       "    .dataframe tbody tr th:only-of-type {\n",
       "        vertical-align: middle;\n",
       "    }\n",
       "\n",
       "    .dataframe tbody tr th {\n",
       "        vertical-align: top;\n",
       "    }\n",
       "\n",
       "    .dataframe thead tr th {\n",
       "        text-align: left;\n",
       "    }\n",
       "</style>\n",
       "<table border=\"1\" class=\"dataframe\">\n",
       "  <thead>\n",
       "    <tr>\n",
       "      <th></th>\n",
       "      <th></th>\n",
       "      <th colspan=\"8\" halign=\"left\">Close</th>\n",
       "    </tr>\n",
       "    <tr>\n",
       "      <th></th>\n",
       "      <th></th>\n",
       "      <th>BTC-USD</th>\n",
       "      <th>DLR</th>\n",
       "      <th>ETH-USD</th>\n",
       "      <th>GOLD</th>\n",
       "      <th>MRNA</th>\n",
       "      <th>NKE</th>\n",
       "      <th>OSTK</th>\n",
       "      <th>XOM</th>\n",
       "    </tr>\n",
       "  </thead>\n",
       "  <tbody>\n",
       "    <tr>\n",
       "      <th rowspan=\"8\" valign=\"top\">Close</th>\n",
       "      <th>BTC-USD</th>\n",
       "      <td>1.000000</td>\n",
       "      <td>0.437842</td>\n",
       "      <td>0.904073</td>\n",
       "      <td>-0.503173</td>\n",
       "      <td>0.751775</td>\n",
       "      <td>0.815326</td>\n",
       "      <td>0.621852</td>\n",
       "      <td>0.630966</td>\n",
       "    </tr>\n",
       "    <tr>\n",
       "      <th>DLR</th>\n",
       "      <td>0.437842</td>\n",
       "      <td>1.000000</td>\n",
       "      <td>0.632393</td>\n",
       "      <td>0.086896</td>\n",
       "      <td>0.615536</td>\n",
       "      <td>0.584569</td>\n",
       "      <td>0.627740</td>\n",
       "      <td>0.154738</td>\n",
       "    </tr>\n",
       "    <tr>\n",
       "      <th>ETH-USD</th>\n",
       "      <td>0.904073</td>\n",
       "      <td>0.632393</td>\n",
       "      <td>1.000000</td>\n",
       "      <td>-0.508953</td>\n",
       "      <td>0.851877</td>\n",
       "      <td>0.835879</td>\n",
       "      <td>0.593876</td>\n",
       "      <td>0.661458</td>\n",
       "    </tr>\n",
       "    <tr>\n",
       "      <th>GOLD</th>\n",
       "      <td>-0.503173</td>\n",
       "      <td>0.086896</td>\n",
       "      <td>-0.508953</td>\n",
       "      <td>1.000000</td>\n",
       "      <td>-0.454399</td>\n",
       "      <td>-0.365968</td>\n",
       "      <td>0.109986</td>\n",
       "      <td>-0.681437</td>\n",
       "    </tr>\n",
       "    <tr>\n",
       "      <th>MRNA</th>\n",
       "      <td>0.751775</td>\n",
       "      <td>0.615536</td>\n",
       "      <td>0.851877</td>\n",
       "      <td>-0.454399</td>\n",
       "      <td>1.000000</td>\n",
       "      <td>0.856154</td>\n",
       "      <td>0.569322</td>\n",
       "      <td>0.497642</td>\n",
       "    </tr>\n",
       "    <tr>\n",
       "      <th>NKE</th>\n",
       "      <td>0.815326</td>\n",
       "      <td>0.584569</td>\n",
       "      <td>0.835879</td>\n",
       "      <td>-0.365968</td>\n",
       "      <td>0.856154</td>\n",
       "      <td>1.000000</td>\n",
       "      <td>0.727103</td>\n",
       "      <td>0.479759</td>\n",
       "    </tr>\n",
       "    <tr>\n",
       "      <th>OSTK</th>\n",
       "      <td>0.621852</td>\n",
       "      <td>0.627740</td>\n",
       "      <td>0.593876</td>\n",
       "      <td>0.109986</td>\n",
       "      <td>0.569322</td>\n",
       "      <td>0.727103</td>\n",
       "      <td>1.000000</td>\n",
       "      <td>0.175612</td>\n",
       "    </tr>\n",
       "    <tr>\n",
       "      <th>XOM</th>\n",
       "      <td>0.630966</td>\n",
       "      <td>0.154738</td>\n",
       "      <td>0.661458</td>\n",
       "      <td>-0.681437</td>\n",
       "      <td>0.497642</td>\n",
       "      <td>0.479759</td>\n",
       "      <td>0.175612</td>\n",
       "      <td>1.000000</td>\n",
       "    </tr>\n",
       "  </tbody>\n",
       "</table>\n",
       "</div>"
      ],
      "text/plain": [
       "                  Close                                                    \\\n",
       "                BTC-USD       DLR   ETH-USD      GOLD      MRNA       NKE   \n",
       "Close BTC-USD  1.000000  0.437842  0.904073 -0.503173  0.751775  0.815326   \n",
       "      DLR      0.437842  1.000000  0.632393  0.086896  0.615536  0.584569   \n",
       "      ETH-USD  0.904073  0.632393  1.000000 -0.508953  0.851877  0.835879   \n",
       "      GOLD    -0.503173  0.086896 -0.508953  1.000000 -0.454399 -0.365968   \n",
       "      MRNA     0.751775  0.615536  0.851877 -0.454399  1.000000  0.856154   \n",
       "      NKE      0.815326  0.584569  0.835879 -0.365968  0.856154  1.000000   \n",
       "      OSTK     0.621852  0.627740  0.593876  0.109986  0.569322  0.727103   \n",
       "      XOM      0.630966  0.154738  0.661458 -0.681437  0.497642  0.479759   \n",
       "\n",
       "                                   \n",
       "                   OSTK       XOM  \n",
       "Close BTC-USD  0.621852  0.630966  \n",
       "      DLR      0.627740  0.154738  \n",
       "      ETH-USD  0.593876  0.661458  \n",
       "      GOLD     0.109986 -0.681437  \n",
       "      MRNA     0.569322  0.497642  \n",
       "      NKE      0.727103  0.479759  \n",
       "      OSTK     1.000000  0.175612  \n",
       "      XOM      0.175612  1.000000  "
      ]
     },
     "execution_count": 119,
     "metadata": {},
     "output_type": "execute_result"
    }
   ],
   "source": [
    "correlation_pandemic= all_data.loc['2020-01-01':'2021-12-31'].corr()\n",
    "correlation_pandemic"
   ]
  },
  {
   "cell_type": "code",
   "execution_count": 120,
   "id": "d1f69984-a0d3-4952-bdb5-940f24b629f8",
   "metadata": {
    "tags": []
   },
   "outputs": [
    {
     "data": {
      "text/plain": [
       "<Axes: xlabel='None-None', ylabel='None-None'>"
      ]
     },
     "execution_count": 120,
     "metadata": {},
     "output_type": "execute_result"
    },
    {
     "data": {
      "image/png": "[encoded data removed]",
      "text/plain": [
       "<Figure size 640x480 with 2 Axes>"
      ]
     },
     "metadata": {},
     "output_type": "display_data"
    }
   ],
   "source": [
    "sns.heatmap(correlation_pandemic, vmin=-1, vmax=1)"
   ]
  },
  {
   "cell_type": "markdown",
   "id": "8cb326b8-5acf-4c51-ba89-f862944e9c3a",
   "metadata": {},
   "source": [
    "##### Volatility"
   ]
  },
  {
   "cell_type": "code",
   "execution_count": 129,
   "id": "4f7380ae-d412-42ac-82dd-858c6dca9ecd",
   "metadata": {
    "tags": []
   },
   "outputs": [
    {
     "data": {
      "text/plain": [
       "Close  DLR        0.487815\n",
       "       NKE        0.500116\n",
       "       GOLD       0.568237\n",
       "       XOM        0.608290\n",
       "       BTC-USD    1.067783\n",
       "       MRNA       1.292745\n",
       "       ETH-USD    1.456063\n",
       "       OSTK       1.514587\n",
       "dtype: float64"
      ]
     },
     "execution_count": 129,
     "metadata": {},
     "output_type": "execute_result"
    }
   ],
   "source": [
    "#VOLATILITY PANDEMIC TIME (2 years analyzed)\n",
    "volatility_pandemic = daily_returns_all_data_pandemic.std() * np.sqrt(252*2)\n",
    "volatility_pandemic.sort_values(inplace=True)\n",
    "volatility_pandemic"
   ]
  },
  {
   "cell_type": "markdown",
   "id": "71c03250-a136-4266-a402-49b3056a2797",
   "metadata": {},
   "source": [
    "# POST PANDEMIC 01/01/2022 TO 06/30/2023"
   ]
  },
  {
   "cell_type": "markdown",
   "id": "4bc4aabb-edae-4960-9a63-8918c8f511dd",
   "metadata": {},
   "source": [
    "##### Daily Returns"
   ]
  },
  {
   "cell_type": "code",
   "execution_count": 132,
   "id": "1a12385c-0f03-41a4-897b-d1398376d91c",
   "metadata": {
    "tags": []
   },
   "outputs": [
    {
     "data": {
      "text/plain": [
       "Close  XOM        0.020615\n",
       "       DLR        0.022087\n",
       "       GOLD       0.022979\n",
       "       NKE        0.023658\n",
       "       BTC-USD    0.038322\n",
       "       MRNA       0.040144\n",
       "       OSTK       0.048500\n",
       "       ETH-USD    0.049089\n",
       "dtype: float64"
      ]
     },
     "execution_count": 132,
     "metadata": {},
     "output_type": "execute_result"
    }
   ],
   "source": [
    "#daily returns during the post pandemic\n",
    "daily_returns_all_data_post = daily_returns.loc['2022-01-01':'2023-06-30']\n",
    "daily_returns_all_data_post.std().sort_values(ascending=True)"
   ]
  },
  {
   "cell_type": "code",
   "execution_count": 133,
   "id": "432f5585-c2e6-403d-939f-45ba584446cf",
   "metadata": {
    "tags": []
   },
   "outputs": [
    {
     "data": {},
     "metadata": {},
     "output_type": "display_data"
    },
    {
     "data": {
      "application/vnd.holoviews_exec.v0+json": "",
      "text/html": [
       "<div id='p3776'>\n",
       "  <div id=\"a88e9f8b-29f8-4468-bfe1-ed4493cf232c\" data-root-id=\"p3776\" style=\"display: contents;\"></div>\n",
       "</div>\n",
       "<script type=\"application/javascript\">(function(root) {\n",
       "  var docs_json = {\"b88fb9d1-c808-4ab5-8d96-5b884cc4e4c1\":{\"version\":\"3.1.1\",\"title\":\"Bokeh Application\",\"defs\":[{\"type\":\"model\",\"name\":\"ReactiveHTML1\"},{\"type\":\"model\",\"name\":\"FlexBox1\",\"properties\":[{\"name\":\"align_content\",\"kind\":\"Any\",\"default\":\"flex-start\"},{\"name\":\"align_items\",\"kind\":\"Any\",\"default\":\"flex-start\"},{\"name\":\"flex_direction\",\"kind\":\"Any\",\"default\":\"row\"},{\"name\":\"flex_wrap\",\"kind\":\"Any\",\"default\":\"wrap\"},{\"name\":\"justify_content\",\"kind\":\"Any\",\"default\":\"flex-start\"}]},{\"type\":\"model\",\"name\":\"FloatPanel1\",\"properties\":[{\"name\":\"config\",\"kind\":\"Any\",\"default\":{\"type\":\"map\"}},{\"name\":\"contained\",\"kind\":\"Any\",\"default\":true},{\"name\":\"position\",\"kind\":\"Any\",\"default\":\"right-top\"},{\"name\":\"offsetx\",\"kind\":\"Any\",\"default\":null},{\"name\":\"offsety\",\"kind\":\"Any\",\"default\":null},{\"name\":\"theme\",\"kind\":\"Any\",\"default\":\"primary\"},{\"name\":\"status\",\"kind\":\"Any\",\"default\":\"normalized\"}]},{\"type\":\"model\",\"name\":\"GridStack1\",\"properties\":[{\"name\":\"mode\",\"kind\":\"Any\",\"default\":\"warn\"},{\"name\":\"ncols\",\"kind\":\"Any\",\"default\":null},{\"name\":\"nrows\",\"kind\":\"Any\",\"default\":null},{\"name\":\"allow_resize\",\"kind\":\"Any\",\"default\":true},{\"name\":\"allow_drag\",\"kind\":\"Any\",\"default\":true},{\"name\":\"state\",\"kind\":\"Any\",\"default\":[]}]},{\"type\":\"model\",\"name\":\"drag1\",\"properties\":[{\"name\":\"slider_width\",\"kind\":\"Any\",\"default\":5},{\"name\":\"slider_color\",\"kind\":\"Any\",\"default\":\"black\"},{\"name\":\"value\",\"kind\":\"Any\",\"default\":50}]},{\"type\":\"model\",\"name\":\"click1\",\"properties\":[{\"name\":\"terminal_output\",\"kind\":\"Any\",\"default\":\"\"},{\"name\":\"debug_name\",\"kind\":\"Any\",\"default\":\"\"},{\"name\":\"clears\",\"kind\":\"Any\",\"default\":0}]},{\"type\":\"model\",\"name\":\"FastWrapper1\",\"properties\":[{\"name\":\"object\",\"kind\":\"Any\",\"default\":null},{\"name\":\"style\",\"kind\":\"Any\",\"default\":null}]},{\"type\":\"model\",\"name\":\"NotificationAreaBase1\",\"properties\":[{\"name\":\"position\",\"kind\":\"Any\",\"default\":\"bottom-right\"},{\"name\":\"_clear\",\"kind\":\"Any\",\"default\":0}]},{\"type\":\"model\",\"name\":\"NotificationArea1\",\"properties\":[{\"name\":\"notifications\",\"kind\":\"Any\",\"default\":[]},{\"name\":\"position\",\"kind\":\"Any\",\"default\":\"bottom-right\"},{\"name\":\"_clear\",\"kind\":\"Any\",\"default\":0},{\"name\":\"types\",\"kind\":\"Any\",\"default\":[{\"type\":\"map\",\"entries\":[[\"type\",\"warning\"],[\"background\",\"#ffc107\"],[\"icon\",{\"type\":\"map\",\"entries\":[[\"className\",\"fas fa-exclamation-triangle\"],[\"tagName\",\"i\"],[\"color\",\"white\"]]}]]},{\"type\":\"map\",\"entries\":[[\"type\",\"info\"],[\"background\",\"#007bff\"],[\"icon\",{\"type\":\"map\",\"entries\":[[\"className\",\"fas fa-info-circle\"],[\"tagName\",\"i\"],[\"color\",\"white\"]]}]]}]}]},{\"type\":\"model\",\"name\":\"Notification\",\"properties\":[{\"name\":\"background\",\"kind\":\"Any\",\"default\":null},{\"name\":\"duration\",\"kind\":\"Any\",\"default\":3000},{\"name\":\"icon\",\"kind\":\"Any\",\"default\":null},{\"name\":\"message\",\"kind\":\"Any\",\"default\":\"\"},{\"name\":\"notification_type\",\"kind\":\"Any\",\"default\":null},{\"name\":\"_destroyed\",\"kind\":\"Any\",\"default\":false}]},{\"type\":\"model\",\"name\":\"TemplateActions1\",\"properties\":[{\"name\":\"open_modal\",\"kind\":\"Any\",\"default\":0},{\"name\":\"close_modal\",\"kind\":\"Any\",\"default\":0}]},{\"type\":\"model\",\"name\":\"BootstrapTemplateActions1\",\"properties\":[{\"name\":\"open_modal\",\"kind\":\"Any\",\"default\":0},{\"name\":\"close_modal\",\"kind\":\"Any\",\"default\":0}]},{\"type\":\"model\",\"name\":\"MaterialTemplateActions1\",\"properties\":[{\"name\":\"open_modal\",\"kind\":\"Any\",\"default\":0},{\"name\":\"close_modal\",\"kind\":\"Any\",\"default\":0}]}],\"roots\":[{\"type\":\"object\",\"name\":\"Row\",\"id\":\"p3776\",\"attributes\":{\"name\":\"Row03406\",\"tags\":[\"embedded\"],\"stylesheets\":[\"\\n:host(.pn-loading.pn-arc):before, .pn-loading.pn-arc:before {\\n  background-image: url(\\\"data:image/svg+xml;base64,PHN2ZyB4bWxucz0iaHR0cDovL3d3dy53My5vcmcvMjAwMC9zdmciIHN0eWxlPSJtYXJnaW46IGF1dG87IGJhY2tncm91bmQ6IG5vbmU7IGRpc3BsYXk6IGJsb2NrOyBzaGFwZS1yZW5kZXJpbmc6IGF1dG87IiB2aWV3Qm94PSIwIDAgMTAwIDEwMCIgcHJlc2VydmVBc3BlY3RSYXRpbz0ieE1pZFlNaWQiPiAgPGNpcmNsZSBjeD0iNTAiIGN5PSI1MCIgZmlsbD0ibm9uZSIgc3Ryb2tlPSIjYzNjM2MzIiBzdHJva2Utd2lkdGg9IjEwIiByPSIzNSIgc3Ryb2tlLWRhc2hhcnJheT0iMTY0LjkzMzYxNDMxMzQ2NDE1IDU2Ljk3Nzg3MTQzNzgyMTM4Ij4gICAgPGFuaW1hdGVUcmFuc2Zvcm0gYXR0cmlidXRlTmFtZT0idHJhbnNmb3JtIiB0eXBlPSJyb3RhdGUiIHJlcGVhdENvdW50PSJpbmRlZmluaXRlIiBkdXI9IjFzIiB2YWx1ZXM9IjAgNTAgNTA7MzYwIDUwIDUwIiBrZXlUaW1lcz0iMDsxIj48L2FuaW1hdGVUcmFuc2Zvcm0+ICA8L2NpcmNsZT48L3N2Zz4=\\\");\\n  background-size: auto calc(min(50%, 400px));\\n}\",{\"type\":\"object\",\"name\":\"ImportedStyleSheet\",\"id\":\"p3779\",\"attributes\":{\"url\":\"https://cdn.holoviz.org/panel/1.1.0/dist/css/loading.css\"}},{\"type\":\"object\",\"name\":\"ImportedStyleSheet\",\"id\":\"p3867\",\"attributes\":{\"url\":\"https://cdn.holoviz.org/panel/1.1.0/dist/css/listpanel.css\"}},{\"type\":\"object\",\"name\":\"ImportedStyleSheet\",\"id\":\"p3777\",\"attributes\":{\"url\":\"https://cdn.holoviz.org/panel/1.1.0/dist/bundled/theme/default.css\"}},{\"type\":\"object\",\"name\":\"ImportedStyleSheet\",\"id\":\"p3778\",\"attributes\":{\"url\":\"https://cdn.holoviz.org/panel/1.1.0/dist/bundled/theme/native.css\"}}],\"min_width\":0,\"margin\":0,\"sizing_mode\":\"stretch_width\",\"align\":\"start\",\"children\":[{\"type\":\"object\",\"name\":\"Spacer\",\"id\":\"p3780\",\"attributes\":{\"name\":\"HSpacer03417\",\"stylesheets\":[\"\\n:host(.pn-loading.pn-arc):before, .pn-loading.pn-arc:before {\\n  background-image: url(\\\"data:image/svg+xml;base64,PHN2ZyB4bWxucz0iaHR0cDovL3d3dy53My5vcmcvMjAwMC9zdmciIHN0eWxlPSJtYXJnaW46IGF1dG87IGJhY2tncm91bmQ6IG5vbmU7IGRpc3BsYXk6IGJsb2NrOyBzaGFwZS1yZW5kZXJpbmc6IGF1dG87IiB2aWV3Qm94PSIwIDAgMTAwIDEwMCIgcHJlc2VydmVBc3BlY3RSYXRpbz0ieE1pZFlNaWQiPiAgPGNpcmNsZSBjeD0iNTAiIGN5PSI1MCIgZmlsbD0ibm9uZSIgc3Ryb2tlPSIjYzNjM2MzIiBzdHJva2Utd2lkdGg9IjEwIiByPSIzNSIgc3Ryb2tlLWRhc2hhcnJheT0iMTY0LjkzMzYxNDMxMzQ2NDE1IDU2Ljk3Nzg3MTQzNzgyMTM4Ij4gICAgPGFuaW1hdGVUcmFuc2Zvcm0gYXR0cmlidXRlTmFtZT0idHJhbnNmb3JtIiB0eXBlPSJyb3RhdGUiIHJlcGVhdENvdW50PSJpbmRlZmluaXRlIiBkdXI9IjFzIiB2YWx1ZXM9IjAgNTAgNTA7MzYwIDUwIDUwIiBrZXlUaW1lcz0iMDsxIj48L2FuaW1hdGVUcmFuc2Zvcm0+ICA8L2NpcmNsZT48L3N2Zz4=\\\");\\n  background-size: auto calc(min(50%, 400px));\\n}\",{\"id\":\"p3779\"},{\"id\":\"p3777\"},{\"id\":\"p3778\"}],\"margin\":0,\"sizing_mode\":\"stretch_width\",\"align\":\"start\"}},{\"type\":\"object\",\"name\":\"Figure\",\"id\":\"p3784\",\"attributes\":{\"width\":700,\"height\":300,\"margin\":[5,10],\"sizing_mode\":\"fixed\",\"align\":\"start\",\"x_range\":{\"type\":\"object\",\"name\":\"FactorRange\",\"id\":\"p3781\",\"attributes\":{\"tags\":[[[\"ticker\",\"ticker\",null]]],\"factors\":[\"XOM\",\"DLR\",\"GOLD\",\"NKE\",\"BTC-USD\",\"MRNA\",\"OSTK\",\"ETH-USD\"]}},\"y_range\":{\"type\":\"object\",\"name\":\"Range1d\",\"id\":\"p3782\",\"attributes\":{\"tags\":[[[\"standard deviation\",\"standard deviation\",null]]],\"end\":0.0519364,\"reset_start\":0.0,\"reset_end\":0.0519364}},\"x_scale\":{\"type\":\"object\",\"name\":\"CategoricalScale\",\"id\":\"p3796\"},\"y_scale\":{\"type\":\"object\",\"name\":\"LinearScale\",\"id\":\"p3798\"},\"title\":{\"type\":\"object\",\"name\":\"Title\",\"id\":\"p3787\",\"attributes\":{\"text\":\"STANDARD DEVIATION POST PANDEMIC\",\"text_color\":\"black\",\"text_font_size\":\"12pt\"}},\"renderers\":[{\"type\":\"object\",\"name\":\"GlyphRenderer\",\"id\":\"p3837\",\"attributes\":{\"data_source\":{\"type\":\"object\",\"name\":\"ColumnDataSource\",\"id\":\"p3827\",\"attributes\":{\"selected\":{\"type\":\"object\",\"name\":\"Selection\",\"id\":\"p3828\",\"attributes\":{\"indices\":[],\"line_indices\":[]}},\"selection_policy\":{\"type\":\"object\",\"name\":\"UnionRenderers\",\"id\":\"p3829\"},\"data\":{\"type\":\"map\",\"entries\":[[\"ticker\",[\"XOM\",\"DLR\",\"GOLD\",\"NKE\",\"BTC-USD\",\"MRNA\",\"OSTK\",\"ETH-USD\"]],[\"standard_deviation\",{\"type\":\"ndarray\",\"array\":{\"type\":\"bytes\",\"data\":\"smg6OxkclT8Jwap6+Z2WP6io+pXOh5c/zLIngc05mD+FQ2/x8J6jPybhQh7BjaQ/okW28/3UqD/Jyi+DMSKpPw==\"},\"shape\":[8],\"dtype\":\"float64\",\"order\":\"little\"}]]}}},\"view\":{\"type\":\"object\",\"name\":\"CDSView\",\"id\":\"p3838\",\"attributes\":{\"filter\":{\"type\":\"object\",\"name\":\"AllIndices\",\"id\":\"p3839\"}}},\"glyph\":{\"type\":\"object\",\"name\":\"VBar\",\"id\":\"p3834\",\"attributes\":{\"tags\":[\"apply_ranges\"],\"x\":{\"type\":\"field\",\"field\":\"ticker\"},\"width\":{\"type\":\"value\",\"value\":0.8},\"top\":{\"type\":\"field\",\"field\":\"standard_deviation\"},\"fill_color\":{\"type\":\"value\",\"value\":\"#30a2da\"},\"hatch_color\":{\"type\":\"value\",\"value\":\"#30a2da\"}}},\"selection_glyph\":{\"type\":\"object\",\"name\":\"VBar\",\"id\":\"p3840\",\"attributes\":{\"tags\":[\"apply_ranges\"],\"x\":{\"type\":\"field\",\"field\":\"ticker\"},\"width\":{\"type\":\"value\",\"value\":0.8},\"bottom\":{\"type\":\"value\",\"value\":0},\"top\":{\"type\":\"field\",\"field\":\"standard_deviation\"},\"line_color\":{\"type\":\"value\",\"value\":\"black\"},\"line_alpha\":{\"type\":\"value\",\"value\":1.0},\"line_width\":{\"type\":\"value\",\"value\":1},\"line_join\":{\"type\":\"value\",\"value\":\"bevel\"},\"line_cap\":{\"type\":\"value\",\"value\":\"butt\"},\"line_dash\":{\"type\":\"value\",\"value\":[]},\"line_dash_offset\":{\"type\":\"value\",\"value\":0},\"fill_color\":{\"type\":\"value\",\"value\":\"#30a2da\"},\"fill_alpha\":{\"type\":\"value\",\"value\":1.0},\"hatch_color\":{\"type\":\"value\",\"value\":\"#30a2da\"},\"hatch_alpha\":{\"type\":\"value\",\"value\":1.0},\"hatch_scale\":{\"type\":\"value\",\"value\":12.0},\"hatch_pattern\":{\"type\":\"value\",\"value\":null},\"hatch_weight\":{\"type\":\"value\",\"value\":1.0}}},\"nonselection_glyph\":{\"type\":\"object\",\"name\":\"VBar\",\"id\":\"p3835\",\"attributes\":{\"tags\":[\"apply_ranges\"],\"x\":{\"type\":\"field\",\"field\":\"ticker\"},\"width\":{\"type\":\"value\",\"value\":0.8},\"top\":{\"type\":\"field\",\"field\":\"standard_deviation\"},\"line_alpha\":{\"type\":\"value\",\"value\":0.1},\"fill_color\":{\"type\":\"value\",\"value\":\"#30a2da\"},\"fill_alpha\":{\"type\":\"value\",\"value\":0.1},\"hatch_color\":{\"type\":\"value\",\"value\":\"#30a2da\"},\"hatch_alpha\":{\"type\":\"value\",\"value\":0.1}}},\"muted_glyph\":{\"type\":\"object\",\"name\":\"VBar\",\"id\":\"p3836\",\"attributes\":{\"tags\":[\"apply_ranges\"],\"x\":{\"type\":\"field\",\"field\":\"ticker\"},\"width\":{\"type\":\"value\",\"value\":0.8},\"top\":{\"type\":\"field\",\"field\":\"standard_deviation\"},\"line_alpha\":{\"type\":\"value\",\"value\":0.2},\"fill_color\":{\"type\":\"value\",\"value\":\"#30a2da\"},\"fill_alpha\":{\"type\":\"value\",\"value\":0.2},\"hatch_color\":{\"type\":\"value\",\"value\":\"#30a2da\"},\"hatch_alpha\":{\"type\":\"value\",\"value\":0.2}}}}}],\"toolbar\":{\"type\":\"object\",\"name\":\"Toolbar\",\"id\":\"p3791\",\"attributes\":{\"tools\":[{\"type\":\"object\",\"name\":\"HoverTool\",\"id\":\"p3783\",\"attributes\":{\"tags\":[\"hv_created\"],\"renderers\":[{\"id\":\"p3837\"}],\"tooltips\":[[\"ticker\",\"@{ticker}\"],[\"standard deviation\",\"@{standard_deviation}\"]]}},{\"type\":\"object\",\"name\":\"SaveTool\",\"id\":\"p3813\"},{\"type\":\"object\",\"name\":\"PanTool\",\"id\":\"p3814\"},{\"type\":\"object\",\"name\":\"WheelZoomTool\",\"id\":\"p3815\"},{\"type\":\"object\",\"name\":\"BoxZoomTool\",\"id\":\"p3816\",\"attributes\":{\"overlay\":{\"type\":\"object\",\"name\":\"BoxAnnotation\",\"id\":\"p3817\",\"attributes\":{\"syncable\":false,\"level\":\"overlay\",\"visible\":false,\"left_units\":\"canvas\",\"right_units\":\"canvas\",\"bottom_units\":\"canvas\",\"top_units\":\"canvas\",\"line_color\":\"black\",\"line_alpha\":1.0,\"line_width\":2,\"line_dash\":[4,4],\"fill_color\":\"lightgrey\",\"fill_alpha\":0.5}}}},{\"type\":\"object\",\"name\":\"ResetTool\",\"id\":\"p3818\"}],\"active_drag\":{\"id\":\"p3814\"},\"active_scroll\":{\"id\":\"p3815\"}}},\"left\":[{\"type\":\"object\",\"name\":\"LinearAxis\",\"id\":\"p3806\",\"attributes\":{\"ticker\":{\"type\":\"object\",\"name\":\"BasicTicker\",\"id\":\"p3808\",\"attributes\":{\"mantissas\":[1,2,5]}},\"formatter\":{\"type\":\"object\",\"name\":\"BasicTickFormatter\",\"id\":\"p3809\"},\"axis_label\":\"standard deviation\",\"major_label_policy\":{\"type\":\"object\",\"name\":\"AllLabels\",\"id\":\"p3807\"}}}],\"below\":[{\"type\":\"object\",\"name\":\"CategoricalAxis\",\"id\":\"p3800\",\"attributes\":{\"ticker\":{\"type\":\"object\",\"name\":\"CategoricalTicker\",\"id\":\"p3802\"},\"formatter\":{\"type\":\"object\",\"name\":\"CategoricalTickFormatter\",\"id\":\"p3803\"},\"axis_label\":\"Ticker\",\"major_label_orientation\":1.5707963267948966,\"major_label_policy\":{\"type\":\"object\",\"name\":\"AllLabels\",\"id\":\"p3801\"}}}],\"center\":[{\"type\":\"object\",\"name\":\"Grid\",\"id\":\"p3805\",\"attributes\":{\"axis\":{\"id\":\"p3800\"},\"grid_line_color\":null}},{\"type\":\"object\",\"name\":\"Grid\",\"id\":\"p3812\",\"attributes\":{\"dimension\":1,\"axis\":{\"id\":\"p3806\"},\"grid_line_color\":null}}],\"min_border_top\":10,\"min_border_bottom\":10,\"min_border_left\":10,\"min_border_right\":10,\"output_backend\":\"webgl\"}},{\"type\":\"object\",\"name\":\"Spacer\",\"id\":\"p3865\",\"attributes\":{\"name\":\"HSpacer03420\",\"stylesheets\":[\"\\n:host(.pn-loading.pn-arc):before, .pn-loading.pn-arc:before {\\n  background-image: url(\\\"data:image/svg+xml;base64,PHN2ZyB4bWxucz0iaHR0cDovL3d3dy53My5vcmcvMjAwMC9zdmciIHN0eWxlPSJtYXJnaW46IGF1dG87IGJhY2tncm91bmQ6IG5vbmU7IGRpc3BsYXk6IGJsb2NrOyBzaGFwZS1yZW5kZXJpbmc6IGF1dG87IiB2aWV3Qm94PSIwIDAgMTAwIDEwMCIgcHJlc2VydmVBc3BlY3RSYXRpbz0ieE1pZFlNaWQiPiAgPGNpcmNsZSBjeD0iNTAiIGN5PSI1MCIgZmlsbD0ibm9uZSIgc3Ryb2tlPSIjYzNjM2MzIiBzdHJva2Utd2lkdGg9IjEwIiByPSIzNSIgc3Ryb2tlLWRhc2hhcnJheT0iMTY0LjkzMzYxNDMxMzQ2NDE1IDU2Ljk3Nzg3MTQzNzgyMTM4Ij4gICAgPGFuaW1hdGVUcmFuc2Zvcm0gYXR0cmlidXRlTmFtZT0idHJhbnNmb3JtIiB0eXBlPSJyb3RhdGUiIHJlcGVhdENvdW50PSJpbmRlZmluaXRlIiBkdXI9IjFzIiB2YWx1ZXM9IjAgNTAgNTA7MzYwIDUwIDUwIiBrZXlUaW1lcz0iMDsxIj48L2FuaW1hdGVUcmFuc2Zvcm0+ICA8L2NpcmNsZT48L3N2Zz4=\\\");\\n  background-size: auto calc(min(50%, 400px));\\n}\",{\"id\":\"p3779\"},{\"id\":\"p3777\"},{\"id\":\"p3778\"}],\"margin\":0,\"sizing_mode\":\"stretch_width\",\"align\":\"start\"}}]}}],\"callbacks\":{\"type\":\"map\"}}};\n",
       "  var render_items = [{\"docid\":\"b88fb9d1-c808-4ab5-8d96-5b884cc4e4c1\",\"roots\":{\"p3776\":\"a88e9f8b-29f8-4468-bfe1-ed4493cf232c\"},\"root_ids\":[\"p3776\"]}];\n",
       "  var docs = Object.values(docs_json)\n",
       "  if (!docs) {\n",
       "    return\n",
       "  }\n",
       "  const py_version = docs[0].version.replace('rc', '-rc.')\n",
       "  const is_dev = py_version.indexOf(\"+\") !== -1 || py_version.indexOf(\"-\") !== -1\n",
       "  function embed_document(root) {\n",
       "    var Bokeh = get_bokeh(root)\n",
       "    Bokeh.embed.embed_items_notebook(docs_json, render_items);\n",
       "    for (const render_item of render_items) {\n",
       "      for (const root_id of render_item.root_ids) {\n",
       "\tconst id_el = document.getElementById(root_id)\n",
       "\tif (id_el.children.length && (id_el.children[0].className === 'bk-root')) {\n",
       "\t  const root_el = id_el.children[0]\n",
       "\t  root_el.id = root_el.id + '-rendered'\n",
       "\t}\n",
       "      }\n",
       "    }\n",
       "  }\n",
       "  function get_bokeh(root) {\n",
       "    if (root.Bokeh === undefined) {\n",
       "      return null\n",
       "    } else if (root.Bokeh.version !== py_version && !is_dev) {\n",
       "      if (root.Bokeh.versions === undefined || !root.Bokeh.versions.has(py_version)) {\n",
       "\treturn null\n",
       "      }\n",
       "      return root.Bokeh.versions.get(py_version);\n",
       "    } else if (root.Bokeh.version === py_version) {\n",
       "      return root.Bokeh\n",
       "    }\n",
       "    return null\n",
       "  }\n",
       "  function is_loaded(root) {\n",
       "    var Bokeh = get_bokeh(root)\n",
       "    return (Bokeh != null && Bokeh.Panel !== undefined)\n",
       "  }\n",
       "  if (is_loaded(root)) {\n",
       "    embed_document(root);\n",
       "  } else {\n",
       "    var attempts = 0;\n",
       "    var timer = setInterval(function(root) {\n",
       "      if (is_loaded(root)) {\n",
       "        clearInterval(timer);\n",
       "        embed_document(root);\n",
       "      } else if (document.readyState == \"complete\") {\n",
       "        attempts++;\n",
       "        if (attempts > 200) {\n",
       "          clearInterval(timer);\n",
       "\t  var Bokeh = get_bokeh(root)\n",
       "\t  if (Bokeh == null || Bokeh.Panel == null) {\n",
       "            console.warn(\"Panel: ERROR: Unable to run Panel code because Bokeh or Panel library is missing\");\n",
       "\t  } else {\n",
       "\t    console.warn(\"Panel: WARNING: Attempting to render but not all required libraries could be resolved.\")\n",
       "\t    embed_document(root)\n",
       "\t  }\n",
       "        }\n",
       "      }\n",
       "    }, 25, root)\n",
       "  }\n",
       "})(window);</script>"
      ],
      "text/plain": [
       ":Bars   [ticker]   (standard deviation)"
      ]
     },
     "execution_count": 133,
     "metadata": {
      "application/vnd.holoviews_exec.v0+json": {
       "id": "p3776"
      }
     },
     "output_type": "execute_result"
    }
   ],
   "source": [
    "std_bar_post_pandemic = pd.DataFrame(\n",
    "    {\n",
    "        \"ticker\": ['XOM', 'DLR', 'GOLD', 'NKE', 'BTC-USD', 'MRNA', 'OSTK', 'ETH-USD'],\n",
    "        \"standard deviation\": (0.020615, 0.022087, 0.022979, 0.023658, 0.038322, 0.040144, 0.048500, 0.049089),\n",
    "    }\n",
    ")\n",
    "\n",
    "\n",
    "std_bar_post_pandemic.hvplot.bar(\n",
    "    x=\"ticker\", \n",
    "    y=\"standard deviation\", \n",
    "    xlabel=\"Ticker\", \n",
    "    ylabel=\"standard deviation\", \n",
    "    title = \"STANDARD DEVIATION POST PANDEMIC\",\n",
    "    rot=90\n",
    ")"
   ]
  },
  {
   "cell_type": "markdown",
   "id": "65be5912-0253-421b-a64b-0ad6526531f2",
   "metadata": {},
   "source": [
    "##### Correlation "
   ]
  },
  {
   "cell_type": "code",
   "execution_count": 48,
   "id": "21e7b01b-58bb-4d3b-ac60-7dd4058a8891",
   "metadata": {
    "tags": []
   },
   "outputs": [
    {
     "data": {
      "text/html": [
       "<div>\n",
       "<style scoped>\n",
       "    .dataframe tbody tr th:only-of-type {\n",
       "        vertical-align: middle;\n",
       "    }\n",
       "\n",
       "    .dataframe tbody tr th {\n",
       "        vertical-align: top;\n",
       "    }\n",
       "\n",
       "    .dataframe thead tr th {\n",
       "        text-align: left;\n",
       "    }\n",
       "</style>\n",
       "<table border=\"1\" class=\"dataframe\">\n",
       "  <thead>\n",
       "    <tr>\n",
       "      <th></th>\n",
       "      <th></th>\n",
       "      <th colspan=\"8\" halign=\"left\">Close</th>\n",
       "    </tr>\n",
       "    <tr>\n",
       "      <th></th>\n",
       "      <th></th>\n",
       "      <th>BTC-USD</th>\n",
       "      <th>DLR</th>\n",
       "      <th>ETH-USD</th>\n",
       "      <th>GOLD</th>\n",
       "      <th>MRNA</th>\n",
       "      <th>NKE</th>\n",
       "      <th>OSTK</th>\n",
       "      <th>XOM</th>\n",
       "    </tr>\n",
       "  </thead>\n",
       "  <tbody>\n",
       "    <tr>\n",
       "      <th rowspan=\"8\" valign=\"top\">Close</th>\n",
       "      <th>BTC-USD</th>\n",
       "      <td>1.000000</td>\n",
       "      <td>0.679047</td>\n",
       "      <td>0.972300</td>\n",
       "      <td>0.785269</td>\n",
       "      <td>0.066770</td>\n",
       "      <td>0.753174</td>\n",
       "      <td>0.794258</td>\n",
       "      <td>-0.637902</td>\n",
       "    </tr>\n",
       "    <tr>\n",
       "      <th>DLR</th>\n",
       "      <td>0.679047</td>\n",
       "      <td>1.000000</td>\n",
       "      <td>0.699271</td>\n",
       "      <td>0.544329</td>\n",
       "      <td>0.285539</td>\n",
       "      <td>0.582698</td>\n",
       "      <td>0.846847</td>\n",
       "      <td>-0.827883</td>\n",
       "    </tr>\n",
       "    <tr>\n",
       "      <th>ETH-USD</th>\n",
       "      <td>0.972300</td>\n",
       "      <td>0.699271</td>\n",
       "      <td>1.000000</td>\n",
       "      <td>0.731814</td>\n",
       "      <td>0.169331</td>\n",
       "      <td>0.764200</td>\n",
       "      <td>0.803023</td>\n",
       "      <td>-0.637703</td>\n",
       "    </tr>\n",
       "    <tr>\n",
       "      <th>GOLD</th>\n",
       "      <td>0.785269</td>\n",
       "      <td>0.544329</td>\n",
       "      <td>0.731814</td>\n",
       "      <td>1.000000</td>\n",
       "      <td>0.074519</td>\n",
       "      <td>0.613783</td>\n",
       "      <td>0.585600</td>\n",
       "      <td>-0.402294</td>\n",
       "    </tr>\n",
       "    <tr>\n",
       "      <th>MRNA</th>\n",
       "      <td>0.066770</td>\n",
       "      <td>0.285539</td>\n",
       "      <td>0.169331</td>\n",
       "      <td>0.074519</td>\n",
       "      <td>1.000000</td>\n",
       "      <td>0.442948</td>\n",
       "      <td>0.256592</td>\n",
       "      <td>-0.101125</td>\n",
       "    </tr>\n",
       "    <tr>\n",
       "      <th>NKE</th>\n",
       "      <td>0.753174</td>\n",
       "      <td>0.582698</td>\n",
       "      <td>0.764200</td>\n",
       "      <td>0.613783</td>\n",
       "      <td>0.442948</td>\n",
       "      <td>1.000000</td>\n",
       "      <td>0.604907</td>\n",
       "      <td>-0.403321</td>\n",
       "    </tr>\n",
       "    <tr>\n",
       "      <th>OSTK</th>\n",
       "      <td>0.794258</td>\n",
       "      <td>0.846847</td>\n",
       "      <td>0.803023</td>\n",
       "      <td>0.585600</td>\n",
       "      <td>0.256592</td>\n",
       "      <td>0.604907</td>\n",
       "      <td>1.000000</td>\n",
       "      <td>-0.839509</td>\n",
       "    </tr>\n",
       "    <tr>\n",
       "      <th>XOM</th>\n",
       "      <td>-0.637902</td>\n",
       "      <td>-0.827883</td>\n",
       "      <td>-0.637703</td>\n",
       "      <td>-0.402294</td>\n",
       "      <td>-0.101125</td>\n",
       "      <td>-0.403321</td>\n",
       "      <td>-0.839509</td>\n",
       "      <td>1.000000</td>\n",
       "    </tr>\n",
       "  </tbody>\n",
       "</table>\n",
       "</div>"
      ],
      "text/plain": [
       "                  Close                                                    \\\n",
       "                BTC-USD       DLR   ETH-USD      GOLD      MRNA       NKE   \n",
       "Close BTC-USD  1.000000  0.679047  0.972300  0.785269  0.066770  0.753174   \n",
       "      DLR      0.679047  1.000000  0.699271  0.544329  0.285539  0.582698   \n",
       "      ETH-USD  0.972300  0.699271  1.000000  0.731814  0.169331  0.764200   \n",
       "      GOLD     0.785269  0.544329  0.731814  1.000000  0.074519  0.613783   \n",
       "      MRNA     0.066770  0.285539  0.169331  0.074519  1.000000  0.442948   \n",
       "      NKE      0.753174  0.582698  0.764200  0.613783  0.442948  1.000000   \n",
       "      OSTK     0.794258  0.846847  0.803023  0.585600  0.256592  0.604907   \n",
       "      XOM     -0.637902 -0.827883 -0.637703 -0.402294 -0.101125 -0.403321   \n",
       "\n",
       "                                   \n",
       "                   OSTK       XOM  \n",
       "Close BTC-USD  0.794258 -0.637902  \n",
       "      DLR      0.846847 -0.827883  \n",
       "      ETH-USD  0.803023 -0.637703  \n",
       "      GOLD     0.585600 -0.402294  \n",
       "      MRNA     0.256592 -0.101125  \n",
       "      NKE      0.604907 -0.403321  \n",
       "      OSTK     1.000000 -0.839509  \n",
       "      XOM     -0.839509  1.000000  "
      ]
     },
     "execution_count": 48,
     "metadata": {},
     "output_type": "execute_result"
    }
   ],
   "source": [
    "#pandemic correlation\n",
    "correlation_post= all_data.loc['2022-01-01':'2023-06-30'].corr()\n",
    "correlation_post"
   ]
  },
  {
   "cell_type": "markdown",
   "id": "bac4e0be-1084-4f8a-bfe7-c07d69be6192",
   "metadata": {},
   "source": [
    "##### Volatility"
   ]
  },
  {
   "cell_type": "code",
   "execution_count": 49,
   "id": "8c4dc061-b5c0-44ea-a41f-9b6218f2c3e8",
   "metadata": {
    "tags": []
   },
   "outputs": [
    {
     "data": {
      "text/plain": [
       "Close  XOM        0.327259\n",
       "       DLR        0.350622\n",
       "       GOLD       0.364781\n",
       "       NKE        0.375552\n",
       "       BTC-USD    0.608346\n",
       "       MRNA       0.637272\n",
       "       OSTK       0.769914\n",
       "       ETH-USD    0.779269\n",
       "dtype: float64"
      ]
     },
     "execution_count": 49,
     "metadata": {},
     "output_type": "execute_result"
    }
   ],
   "source": [
    "#VOLATILITY POST-PANDEMIC\n",
    "volatility_post = daily_returns_all_data_post.std() * np.sqrt(252)\n",
    "volatility_post.sort_values(inplace=True)\n",
    "volatility_post"
   ]
  },
  {
   "cell_type": "markdown",
   "id": "54e3d733-29e0-44f7-a3bd-b9489d522784",
   "metadata": {},
   "source": [
    "# THE END... #"
   ]
  }
 ],
 "metadata": {
  "kernelspec": {
   "display_name": "Python 3 (ipykernel)",
   "language": "python",
   "name": "python3"
  },
  "language_info": {
   "codemirror_mode": {
    "name": "ipython",
    "version": 3
   },
   "file_extension": ".py",
   "mimetype": "text/x-python",
   "name": "python",
   "nbconvert_exporter": "python",
   "pygments_lexer": "ipython3",
   "version": "3.10.11"
  }
 },
 "nbformat": 4,
 "nbformat_minor": 5
}
